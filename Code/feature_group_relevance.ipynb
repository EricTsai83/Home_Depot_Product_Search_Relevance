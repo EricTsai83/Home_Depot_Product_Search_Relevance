{
 "cells": [
  {
   "cell_type": "code",
   "execution_count": null,
   "id": "hidden-breath",
   "metadata": {},
   "outputs": [],
   "source": [
    "\"\"\"\n",
    "@author: Eric Tsai <eric492718@gmail.com>\n",
    "@brief: group based relevance features\n",
    "@note: such features are not used in final submission (except GroupRelevance_Size)\n",
    "\n",
    "\"\"\""
   ]
  },
  {
   "cell_type": "code",
   "execution_count": null,
   "id": "blond-dialogue",
   "metadata": {},
   "outputs": [],
   "source": [
    "import string\n",
    "\n",
    "import numpy as np\n",
    "import pandas as pd\n",
    "\n",
    "import config\n",
    "from config import TRAIN_SIZE\n",
    "from utils import dist_utils, ngram_utils, nlp_utils, np_utils\n",
    "from utils import logging_utils, time_utils, pkl_utils\n",
    "from feature_base import BaseEstimator, StandaloneFeatureWrapper"
   ]
  },
  {
   "cell_type": "code",
   "execution_count": null,
   "id": "collaborative-venice",
   "metadata": {},
   "outputs": [],
   "source": [
    "class GroupRelevance(BaseEstimator):\n",
    "    \"\"\"Single aggregation features\"\"\"\n",
    "    def __init__(self, obs_corpus, target_corpus, id_list, dfTrain, aggregation_mode=\"\"):\n",
    "        super().__init__(obs_corpus, target_corpus, aggregation_mode, id_list)\n",
    "        self.dfTrain = dfTrain[dfTrain[\"relevance\"] != 0].copy()\n",
    "\n",
    "    def __name__(self):\n",
    "        if isinstance(self.aggregation_mode, str):\n",
    "            feat_name = \"GroupRelevance_%s\"%string.capwords(self.aggregation_mode)\n",
    "        elif isinstance(self.aggregation_mode, list):\n",
    "            feat_name = [\"GroupRelevance_%s\"%string.capwords(m) for m in self.aggregation_mode]\n",
    "        return feat_name\n",
    "\n",
    "    def transform_one(self, obs, target, id):\n",
    "        df = self.dfTrain[self.dfTrain[\"search_term\"] == obs].copy()\n",
    "        val_list = [config.MISSING_VALUE_NUMERIC]\n",
    "        if df is not None:\n",
    "            df = df[df[\"id\"] != id].copy()\n",
    "            if df is not None and df.shape[0] > 0:\n",
    "                val_list = df[\"relevance\"].values.tolist()\n",
    "        return val_list"
   ]
  },
  {
   "cell_type": "code",
   "execution_count": null,
   "id": "searching-cincinnati",
   "metadata": {},
   "outputs": [],
   "source": [
    "# -------------------------------- Main ----------------------------------\n",
    "def main():\n",
    "    logname = \"generate_feature_group_relevance_%s.log\"%time_utils._timestamp()\n",
    "    logger = logging_utils._get_logger(config.LOG_DIR, logname)\n",
    "    dfAll = pkl_utils._load(config.ALL_DATA_LEMMATIZED_STEMMED)\n",
    "    dfTrain = dfAll.iloc[:TRAIN_SIZE].copy()\n",
    "\n",
    "    ## run python3 splitter.py first\n",
    "    split = pkl_utils._load(\"%s/splits_level1.pkl\"%config.SPLIT_DIR)\n",
    "    n_iter = len(split)\n",
    "\n",
    "    ## for cv\n",
    "    for i in range(n_iter):\n",
    "        trainInd, validInd = split[i][0], split[i][1]\n",
    "        dfTrain2 = dfTrain.iloc[trainInd].copy()\n",
    "        sub_feature_dir = \"%s/Run%d\" % (config.FEAT_DIR, i+1)\n",
    "\n",
    "        obs_fields = [\"search_term\", \"product_title\"][1:]\n",
    "        aggregation_mode = [\"mean\", \"std\", \"max\", \"min\", \"median\", \"size\"]\n",
    "        param_list = [dfAll[\"id\"], dfTrain2, aggregation_mode]\n",
    "        sf = StandaloneFeatureWrapper(GroupRelevance, dfAll, obs_fields, param_list, sub_feature_dir, logger)\n",
    "        sf.go()\n",
    "\n",
    "    ## for all\n",
    "    sub_feature_dir = \"%s/All\" % (config.FEAT_DIR)\n",
    "    obs_fields = [\"search_term\", \"product_title\"][1:]\n",
    "    aggregation_mode = [\"mean\", \"std\", \"max\", \"min\", \"median\", \"size\"]\n",
    "    param_list = [dfAll[\"id\"], dfTrain, aggregation_mode]\n",
    "    sf = StandaloneFeatureWrapper(GroupRelevance, dfAll, obs_fields, param_list, sub_feature_dir, logger)\n",
    "    sf.go()"
   ]
  },
  {
   "cell_type": "code",
   "execution_count": null,
   "id": "brown-effect",
   "metadata": {},
   "outputs": [],
   "source": [
    "if __name__ == \"__main__\":\n",
    "    main()"
   ]
  },
  {
   "cell_type": "code",
   "execution_count": null,
   "id": "acceptable-photography",
   "metadata": {},
   "outputs": [],
   "source": []
  },
  {
   "cell_type": "code",
   "execution_count": null,
   "id": "administrative-announcement",
   "metadata": {},
   "outputs": [],
   "source": []
  },
  {
   "cell_type": "code",
   "execution_count": null,
   "id": "medieval-relief",
   "metadata": {},
   "outputs": [],
   "source": []
  },
  {
   "cell_type": "code",
   "execution_count": null,
   "id": "formed-suspect",
   "metadata": {},
   "outputs": [],
   "source": []
  },
  {
   "cell_type": "code",
   "execution_count": null,
   "id": "simple-credit",
   "metadata": {},
   "outputs": [],
   "source": []
  },
  {
   "cell_type": "code",
   "execution_count": null,
   "id": "assured-cincinnati",
   "metadata": {},
   "outputs": [],
   "source": []
  },
  {
   "cell_type": "code",
   "execution_count": null,
   "id": "identified-positive",
   "metadata": {},
   "outputs": [],
   "source": []
  },
  {
   "cell_type": "code",
   "execution_count": null,
   "id": "obvious-timothy",
   "metadata": {},
   "outputs": [],
   "source": []
  },
  {
   "cell_type": "code",
   "execution_count": null,
   "id": "tight-poker",
   "metadata": {},
   "outputs": [],
   "source": []
  },
  {
   "cell_type": "code",
   "execution_count": null,
   "id": "latter-shadow",
   "metadata": {},
   "outputs": [],
   "source": []
  },
  {
   "cell_type": "code",
   "execution_count": null,
   "id": "revised-victor",
   "metadata": {},
   "outputs": [],
   "source": []
  },
  {
   "cell_type": "code",
   "execution_count": null,
   "id": "directed-ability",
   "metadata": {},
   "outputs": [],
   "source": []
  },
  {
   "cell_type": "code",
   "execution_count": null,
   "id": "veterinary-article",
   "metadata": {},
   "outputs": [],
   "source": []
  },
  {
   "cell_type": "code",
   "execution_count": null,
   "id": "lonely-birmingham",
   "metadata": {},
   "outputs": [],
   "source": []
  },
  {
   "cell_type": "code",
   "execution_count": null,
   "id": "distinct-magnet",
   "metadata": {},
   "outputs": [],
   "source": []
  },
  {
   "cell_type": "code",
   "execution_count": null,
   "id": "bridal-lease",
   "metadata": {},
   "outputs": [],
   "source": []
  },
  {
   "cell_type": "code",
   "execution_count": null,
   "id": "domestic-share",
   "metadata": {},
   "outputs": [],
   "source": []
  },
  {
   "cell_type": "code",
   "execution_count": null,
   "id": "occupational-stations",
   "metadata": {},
   "outputs": [],
   "source": []
  },
  {
   "cell_type": "code",
   "execution_count": null,
   "id": "demographic-nerve",
   "metadata": {},
   "outputs": [],
   "source": []
  },
  {
   "cell_type": "code",
   "execution_count": null,
   "id": "transsexual-olive",
   "metadata": {},
   "outputs": [],
   "source": []
  },
  {
   "cell_type": "code",
   "execution_count": null,
   "id": "descending-parliament",
   "metadata": {},
   "outputs": [],
   "source": []
  },
  {
   "cell_type": "code",
   "execution_count": null,
   "id": "compound-violin",
   "metadata": {},
   "outputs": [],
   "source": []
  }
 ],
 "metadata": {
  "kernelspec": {
   "display_name": "Python 3",
   "language": "python",
   "name": "python3"
  },
  "language_info": {
   "codemirror_mode": {
    "name": "ipython",
    "version": 3
   },
   "file_extension": ".py",
   "mimetype": "text/x-python",
   "name": "python",
   "nbconvert_exporter": "python",
   "pygments_lexer": "ipython3",
   "version": "3.7.7"
  }
 },
 "nbformat": 4,
 "nbformat_minor": 5
}
