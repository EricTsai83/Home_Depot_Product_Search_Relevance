{
 "cells": [
  {
   "cell_type": "code",
   "execution_count": 1,
   "id": "painted-mission",
   "metadata": {},
   "outputs": [
    {
     "data": {
      "text/plain": [
       "'\\n@author: Eric Tsai <eric492718@gmail.com>\\n@brief: intersect position features\\n@object: Find out the observation values(or corpus) whether inside the target list and return the position by list index . \\n         The position list we get that I define it is a position feature.\\n         Example: \\n               When observation values is [I, am, a, good, persion] and target list is [I, am, a, bad,  persion]\\n               then position feature will be [1, 2, 3, 5]\\n               When observation values and target list are all [I, am, a, good, persion] , the position feature will be [1,2,3,4,5]\\n               Finally, the position feature. It will be [0.2, 0.4, 0.6, 1.0] and [0.2, 0.4, 0.6, 0.8, 1.0]\\n'"
      ]
     },
     "execution_count": 1,
     "metadata": {},
     "output_type": "execute_result"
    }
   ],
   "source": [
    "\"\"\"\n",
    "@author: Eric Tsai <eric492718@gmail.com>\n",
    "@brief: intersect position features\n",
    "@object: Find out the observation values(or corpus) whether inside the target list and return the position by list index . \n",
    "         The position list we get that I define it is a position feature.\n",
    "         Example: \n",
    "               When observation values is [I, am, a, good, persion] and target list is [I, am, a, bad,  persion]\n",
    "               then position feature will be [1, 2, 3, 5]\n",
    "               When observation values and target list are all [I, am, a, good, persion] , the position feature will be [1,2,3,4,5]\n",
    "               Finally, the position feature. It will be [0.2, 0.4, 0.6, 1.0] and [0.2, 0.4, 0.6, 0.8, 1.0]\n",
    "\"\"\""
   ]
  },
  {
   "cell_type": "code",
   "execution_count": 2,
   "id": "superb-criterion",
   "metadata": {},
   "outputs": [],
   "source": [
    "import re\n",
    "import string\n",
    "\n",
    "import numpy as np\n",
    "import pandas as pd\n",
    "\n",
    "import config\n",
    "from utils import dist_utils, ngram_utils, nlp_utils, np_utils\n",
    "from utils import logging_utils, time_utils, pkl_utils\n",
    "from feature_base import BaseEstimator, PairwiseFeatureWrapper"
   ]
  },
  {
   "cell_type": "code",
   "execution_count": 3,
   "id": "adult-trust",
   "metadata": {},
   "outputs": [],
   "source": [
    "# tune the token pattern to get a better correlation with y_train\n",
    "# token_pattern = r\"(?u)\\b\\w\\w+\\b\"\n",
    "# token_pattern = r\"\\w{1,}\"\n",
    "# token_pattern = r\"\\w+\"\n",
    "# token_pattern = r\"[\\w']+\"\n",
    "token_pattern = \" \" # just split the text into tokens"
   ]
  },
  {
   "cell_type": "code",
   "execution_count": 4,
   "id": "bound-watch",
   "metadata": {},
   "outputs": [],
   "source": [
    "def _inter_pos_list(obs, target):\n",
    "    \"\"\"\n",
    "    Get the list of positions of obs in target\n",
    "    ex: \n",
    "        _inter_pos_list([1,2,3,4,5,6,9,1,1,1,1,1,1], [1])\n",
    "        = [1, 8, 9, 10, 11, 12, 13]\n",
    "    \"\"\"\n",
    "    pos_list = [0]\n",
    "    if len(obs) != 0:\n",
    "        pos_list = [i for i,o in enumerate(obs, start=1) if o in target]\n",
    "        if len(pos_list) == 0:\n",
    "            pos_list = [0]\n",
    "    return pos_list"
   ]
  },
  {
   "cell_type": "code",
   "execution_count": 5,
   "id": "backed-column",
   "metadata": {},
   "outputs": [],
   "source": [
    "def _inter_norm_pos_list(obs, target):\n",
    "    \"\"\"\n",
    "    ex:\n",
    "        _inter_norm_pos_list([1,2,3,4,5,6,9,1,1,1,1,1,1], [1])\n",
    "        = [0.07692307692307693, 0.6153846153846154, 0.6923076923076923, 0.7692307692307693, 0.8461538461538461, 0.9230769230769231, 1.0]\n",
    "    \"\"\"\n",
    "    pos_list = _inter_pos_list(obs, target)\n",
    "    N = len(obs)\n",
    "    return [np_utils._try_divide(i, N) for i in pos_list]"
   ]
  },
  {
   "cell_type": "code",
   "execution_count": 6,
   "id": "foster-voice",
   "metadata": {},
   "outputs": [],
   "source": [
    "class IntersectPosition_Ngram(BaseEstimator):\n",
    "    \"\"\"Single aggregation features\"\"\"\n",
    "    def __init__(self, obs_corpus, target_corpus, ngram, aggregation_mode=\"\"):\n",
    "        super().__init__(obs_corpus, target_corpus, aggregation_mode)\n",
    "        self.ngram = ngram\n",
    "        self.ngram_str = ngram_utils._ngram_str_map[self.ngram]\n",
    "        \n",
    "    def __name__(self):\n",
    "        if isinstance(self.aggregation_mode, str):\n",
    "            feat_name = \"IntersectPosition_%s_%s\"%(\n",
    "                self.ngram_str, string.capwords(self.aggregation_mode))\n",
    "        elif isinstance(self.aggregation_mode, list):\n",
    "            feat_name = [\"IntersectPosition_%s_%s\"%(\n",
    "                self.ngram_str, string.capwords(m)) for m in self.aggregation_mode]\n",
    "        return feat_name\n",
    "\n",
    "    def transform_one(self, obs, target, id):\n",
    "        obs_tokens = nlp_utils._tokenize(obs, token_pattern)\n",
    "        target_tokens = nlp_utils._tokenize(target, token_pattern)\n",
    "        obs_ngrams = ngram_utils._ngrams(obs_tokens, self.ngram)\n",
    "        target_ngrams = ngram_utils._ngrams(target_tokens, self.ngram)\n",
    "        pos_list = _inter_pos_list(obs_ngrams, target_ngrams)\n",
    "        return pos_list"
   ]
  },
  {
   "cell_type": "code",
   "execution_count": null,
   "id": "awful-ceiling",
   "metadata": {},
   "outputs": [],
   "source": []
  },
  {
   "cell_type": "code",
   "execution_count": 7,
   "id": "pointed-success",
   "metadata": {},
   "outputs": [],
   "source": [
    "class IntersectNormPosition_Ngram(BaseEstimator):\n",
    "    \"\"\"Single aggregation features\"\"\"\n",
    "    def __init__(self, obs_corpus, target_corpus, ngram, aggregation_mode=\"\"):\n",
    "        super().__init__(obs_corpus, target_corpus, aggregation_mode)\n",
    "        self.ngram = ngram\n",
    "        self.ngram_str = ngram_utils._ngram_str_map[self.ngram]\n",
    "        \n",
    "    def __name__(self):\n",
    "        if isinstance(self.aggregation_mode, str):\n",
    "            feat_name = \"IntersectNormPosition_%s_%s\"%(\n",
    "                self.ngram_str, string.capwords(self.aggregation_mode))\n",
    "        elif isinstance(self.aggregation_mode, list):\n",
    "            feat_name = [\"IntersectNormPosition_%s_%s\"%(\n",
    "                self.ngram_str, string.capwords(m)) for m in self.aggregation_mode]\n",
    "        return feat_name\n",
    "\n",
    "    def transform_one(self, obs, target, id):\n",
    "        obs_tokens = nlp_utils._tokenize(obs, token_pattern)\n",
    "        target_tokens = nlp_utils._tokenize(target, token_pattern)\n",
    "        obs_ngrams = ngram_utils._ngrams(obs_tokens, self.ngram)\n",
    "        target_ngrams = ngram_utils._ngrams(target_tokens, self.ngram)\n",
    "        pos_list = _inter_norm_pos_list(obs_ngrams, target_ngrams)\n",
    "        return pos_list"
   ]
  },
  {
   "cell_type": "code",
   "execution_count": 8,
   "id": "tutorial-painting",
   "metadata": {},
   "outputs": [],
   "source": [
    "# ---------------------------- Main --------------------------------------\n",
    "def main():\n",
    "    logname = \"generate_feature_intersect_position_%s.log\"%time_utils._timestamp()\n",
    "    logger = logging_utils._get_logger(config.LOG_DIR, logname)\n",
    "    dfAll = pkl_utils._load(config.ALL_DATA_LEMMATIZED_STEMMED)\n",
    "\n",
    "    generators = [\n",
    "        IntersectPosition_Ngram, \n",
    "        IntersectNormPosition_Ngram, \n",
    "    ]\n",
    "    obs_fields_list = []\n",
    "    target_fields_list = []\n",
    "    ## query in document\n",
    "    obs_fields_list.append( [\"search_term\", \"search_term_product_name\", \"search_term_alt\", \"search_term_auto_corrected\"][:2] )\n",
    "    target_fields_list.append( [\"product_title\", \"product_title_product_name\", \"product_description\", \"product_attribute\", \"product_brand\", \"product_color\"][1:2] )\n",
    "    ## document in query\n",
    "    obs_fields_list.append( [\"product_title\", \"product_title_product_name\", \"product_description\", \"product_attribute\", \"product_brand\", \"product_color\"][1:2] )\n",
    "    target_fields_list.append( [\"search_term\", \"search_term_product_name\", \"search_term_alt\", \"search_term_auto_corrected\"][:2] )\n",
    "    ngrams = [1,2,3,12,123][:3]\n",
    "    aggregation_mode = [\"mean\", \"std\", \"max\", \"min\", \"median\"]\n",
    "    for obs_fields, target_fields in zip(obs_fields_list, target_fields_list):\n",
    "        for generator in generators:\n",
    "            for ngram in ngrams:\n",
    "                param_list = [ngram, aggregation_mode]\n",
    "                pf = PairwiseFeatureWrapper(generator, dfAll, obs_fields, target_fields, param_list, config.FEAT_DIR, logger)\n",
    "                pf.go()"
   ]
  },
  {
   "cell_type": "code",
   "execution_count": 9,
   "id": "voluntary-lesson",
   "metadata": {},
   "outputs": [],
   "source": [
    "if __name__ == \"__main__\":\n",
    "    main()"
   ]
  },
  {
   "cell_type": "code",
   "execution_count": 10,
   "id": "sealed-toilet",
   "metadata": {},
   "outputs": [
    {
     "name": "stdout",
     "output_type": "stream",
     "text": [
      "[jupytext] Reading feature_intersect_position.ipynb in format ipynb\n",
      "[jupytext] Writing feature_intersect_position.py (destination file replaced)\n"
     ]
    }
   ],
   "source": [
    "# convert notebook.ipynb to a .py file\n",
    "!jupytext --to py feature_intersect_position.ipynb"
   ]
  }
 ],
 "metadata": {
  "kernelspec": {
   "display_name": "Python 3",
   "language": "python",
   "name": "python3"
  },
  "language_info": {
   "codemirror_mode": {
    "name": "ipython",
    "version": 3
   },
   "file_extension": ".py",
   "mimetype": "text/x-python",
   "name": "python",
   "nbconvert_exporter": "python",
   "pygments_lexer": "ipython3",
   "version": "3.7.7"
  }
 },
 "nbformat": 4,
 "nbformat_minor": 5
}
