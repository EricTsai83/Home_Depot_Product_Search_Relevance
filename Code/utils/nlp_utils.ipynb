{
 "cells": [
  {
   "cell_type": "code",
   "execution_count": 1,
   "metadata": {},
   "outputs": [
    {
     "data": {
      "text/plain": [
       "'\\n@author: Eric Tsai <eric492718@gmail.com>\\n@brief: utils for nlp\\n\\n'"
      ]
     },
     "execution_count": 1,
     "metadata": {},
     "output_type": "execute_result"
    }
   ],
   "source": [
    "\"\"\"\n",
    "@author: Eric Tsai <eric492718@gmail.com>\n",
    "@brief: utils for nlp\n",
    "\n",
    "\"\"\""
   ]
  },
  {
   "cell_type": "markdown",
   "metadata": {},
   "source": [
    "### re.compile(pattern, flags=0)\n",
    "---\n",
    "**The sequence**<br>\n",
    "`prog = re.compile(pattern)\n",
    "result = prog.match(string)`<br>\n",
    "**is equivalent to**<br>\n",
    "`result = re.match(pattern, string)`<br>\n",
    "<code style=\"background:yellow;color:black\">***but using re.compile() and saving the resulting regular expression object for reuse is more efficient when the expression will be used several times in a single program.***</code>"
   ]
  },
  {
   "cell_type": "markdown",
   "metadata": {},
   "source": [
    "### re.findall(pattern, string, flags=0)\n",
    "---\n",
    "Return all non-overlapping matches of pattern in string, as a list of strings. The string is scanned left-to-right, and matches are returned in the order found. If one or more groups are present in the pattern, return a list of groups; this will be a list of tuples if the pattern has more than one group. Empty matches are included in the result."
   ]
  },
  {
   "cell_type": "code",
   "execution_count": 2,
   "metadata": {},
   "outputs": [],
   "source": [
    "import re"
   ]
  },
  {
   "cell_type": "code",
   "execution_count": 3,
   "metadata": {},
   "outputs": [],
   "source": [
    "def _tokenize(text, token_pattern=\" \"):\n",
    "    # token_pattern = r\"(?u)\\b\\w\\w+\\b\"\n",
    "    # token_pattern = r\"\\w{1,}\"\n",
    "    # token_pattern = r\"\\w+\"\n",
    "    # token_pattern = r\"[\\w']+\"\n",
    "    if token_pattern == \" \":\n",
    "        # just split the text into tokens\n",
    "        return text.split(\" \")\n",
    "    else:\n",
    "        token_pattern = re.compile(token_pattern, flags = re.UNICODE | re.LOCALE)  # compile a regular expression pattern into a regular expression object\n",
    "        group = token_pattern.findall(text)\n",
    "        return group"
   ]
  },
  {
   "cell_type": "code",
   "execution_count": 4,
   "metadata": {},
   "outputs": [
    {
     "name": "stdout",
     "output_type": "stream",
     "text": [
      "[jupytext] Reading nlp_utils.ipynb in format ipynb\n",
      "[jupytext] Writing nlp_utils.py (destination file replaced)\n"
     ]
    }
   ],
   "source": [
    "# convert notebook.ipynb to a .py file\n",
    "!jupytext --to py nlp_utils.ipynb"
   ]
  }
 ],
 "metadata": {
  "kernelspec": {
   "display_name": "Python 3",
   "language": "python",
   "name": "python3"
  },
  "language_info": {
   "codemirror_mode": {
    "name": "ipython",
    "version": 3
   },
   "file_extension": ".py",
   "mimetype": "text/x-python",
   "name": "python",
   "nbconvert_exporter": "python",
   "pygments_lexer": "ipython3",
   "version": "3.7.7"
  }
 },
 "nbformat": 4,
 "nbformat_minor": 4
}
