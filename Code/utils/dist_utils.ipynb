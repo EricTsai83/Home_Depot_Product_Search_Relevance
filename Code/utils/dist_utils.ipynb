{
 "cells": [
  {
   "cell_type": "code",
   "execution_count": null,
   "id": "young-russian",
   "metadata": {},
   "outputs": [],
   "source": [
    "\"\"\"\n",
    "@author: Eric Tsai <eric492718g@gmail.com>\n",
    "@brief: utils for distance computation\n",
    "\n",
    "\"\"\""
   ]
  },
  {
   "cell_type": "code",
   "execution_count": 2,
   "id": "recreational-render",
   "metadata": {},
   "outputs": [],
   "source": [
    "import sys\n",
    "import warnings\n",
    "warnings.filterwarnings(\"ignore\")\n",
    "\n",
    "try:\n",
    "    import lzma\n",
    "    import Levenshtein\n",
    "except:\n",
    "    pass\n",
    "import numpy as np\n",
    "from difflib import SequenceMatcher\n",
    "from sklearn.metrics.pairwise import cosine_similarity\n",
    "\n",
    "# 若是用 cmd 運行，會從一開始的 current path (若無更改起始目錄的話)查找 module，但 notebook 預設情況是以notebook的位置當作 current path 找 module\n",
    "# 故將code資料夾的路徑(也就是上一層的路徑)加入系統路徑\n",
    "sys.path.append(\"..\")\n",
    "from utils import np_utils\n",
    "import config"
   ]
  },
  {
   "cell_type": "markdown",
   "id": "known-confidentiality",
   "metadata": {},
   "source": [
    "## Edit Distance"
   ]
  },
  {
   "cell_type": "markdown",
   "id": "hazardous-passion",
   "metadata": {},
   "source": [
    "* ### Levenshtein distance "
   ]
  },
  {
   "cell_type": "markdown",
   "id": "growing-reunion",
   "metadata": {},
   "source": [
    "The [Levenshtein distance](https://en.wikipedia.org/wiki/Levenshtein_distance) between two strings $a,b$ (of length $|a|$ and $|b|$ respectively) is given by $lev(a,b)$where\n",
    "\n",
    "${\\displaystyle \\qquad \\operatorname {lev} (a,b)={\\begin{cases}|a|&{\\text{ if }}|b|=0,\\\\|b|&{\\text{ if }}|a|=0,\\\\\\operatorname {lev} (\\operatorname {tail} (a),\\operatorname {tail} (b))&{\\text{ if }}a[0]=b[0]\\\\1+\\min {\\begin{cases}\\operatorname {lev} (\\operatorname {tail} (a),b)\\\\\\operatorname {lev} (a,\\operatorname {tail} (b))\\\\\\operatorname {lev} (\\operatorname {tail} (a),\\operatorname {tail} (b))\\\\\\end{cases}}&{\\text{ otherwise.}}\\end{cases}}}$\n",
    "\n",
    "where the $tail$ of some string $x$ is a string of all but the first character of $x$, and $x[n]$ is the $n$th character of the string $x$, starting with character 0."
   ]
  },
  {
   "cell_type": "markdown",
   "id": "opponent-thermal",
   "metadata": {},
   "source": [
    "#### A practical example\n",
    "---\n",
    "The Levenshtein distance between \"kitten\" and \"sitting\" is three, since the following three edits change one into the other, and there is no way to do it with fewer than three edits:<br>\n",
    "kitten → sitten (substitution of 's' for 'k')<br>\n",
    "sitten → sittin (substitution of 'i' for 'e')<br>\n",
    "sittin → sitting (insertion of 'g' at the end)<br>\n",
    "We can then convert the difference into a percentage(Levenshtein ratio) using the following formula:<br>\n",
    "p = (1 - l/m) × 100<br>\n",
    "Where `l` is the levenshtein distance and `m` is the length of the longest of the two words:<br>\n",
    "(1 - 3/7) × 100 = 57.14...\n",
    "---"
   ]
  },
  {
   "cell_type": "markdown",
   "id": "compressed-ukraine",
   "metadata": {},
   "source": [
    "* ### SequenceMatcher().ratio()"
   ]
  },
  {
   "cell_type": "markdown",
   "id": "lesbian-creek",
   "metadata": {},
   "source": [
    "[Reference](https://docs.python.org/3/library/difflib.html)<br>\n",
    "Return a measure of the sequences’ similarity as a float in the range [0, 1].<br>\n",
    "Where `T` is the total number of elements in both sequences, and `M` is the number of matches, this is `2.0*M / T`.<br>\n",
    "Note that this is 1.0 if the sequences are identical, and 0.0 if they have nothing in common."
   ]
  },
  {
   "cell_type": "code",
   "execution_count": 3,
   "id": "negative-payroll",
   "metadata": {},
   "outputs": [],
   "source": [
    "def _edit_dist(str1, str2):\n",
    "    \"\"\"\n",
    "    caculate two string distance\n",
    "    \"\"\"\n",
    "    try:\n",
    "        # very fast\n",
    "        # http://stackoverflow.com/questions/14260126/how-python-levenshtein-ratio-is-computed\n",
    "        # d = Levenshtein.ratio(str1, str2)\n",
    "        d = Levenshtein.distance(str1, str2)/float(max(len(str1),len(str2)))\n",
    "    except:\n",
    "        # https://docs.python.org/2/library/difflib.html\n",
    "        d = 1. - SequenceMatcher(lambda x: x==\" \", str1, str2).ratio()\n",
    "    return d"
   ]
  },
  {
   "cell_type": "code",
   "execution_count": 4,
   "id": "clinical-silicon",
   "metadata": {},
   "outputs": [],
   "source": [
    "def _is_str_match(str1, str2, threshold=1.0):\n",
    "    \"\"\"\n",
    "    add a threshold parameter to decide whether two string are a match\n",
    "    \"\"\"\n",
    "    assert threshold >= 0.0 and threshold <= 1.0, \"Wrong threshold.\"\n",
    "    if float(threshold) == 1.0:\n",
    "        return str1 == str2\n",
    "    else:\n",
    "        return (1. - _edit_dist(str1, str2)) >= threshold"
   ]
  },
  {
   "cell_type": "markdown",
   "id": "southeast-locator",
   "metadata": {},
   "source": [
    "* ### SequenceMatcher().find_longest_match()"
   ]
  },
  {
   "cell_type": "markdown",
   "id": "designed-spiritual",
   "metadata": {},
   "source": [
    "[Reference](https://docs.python.org/3/library/difflib.html)"
   ]
  },
  {
   "cell_type": "code",
   "execution_count": 5,
   "id": "theoretical-clear",
   "metadata": {},
   "outputs": [],
   "source": [
    "def _longest_match_size(str1, str2):\n",
    "    \"\"\"\n",
    "    find the longest matching block, and return the string length\n",
    "    \"\"\"\n",
    "    sq = SequenceMatcher(lambda x: x==\" \", str1, str2)\n",
    "    match = sq.find_longest_match(0, len(str1), 0, len(str2))\n",
    "    return match.size"
   ]
  },
  {
   "cell_type": "code",
   "execution_count": 6,
   "id": "significant-share",
   "metadata": {},
   "outputs": [],
   "source": [
    "def _longest_match_ratio(str1, str2):\n",
    "    \"\"\"\n",
    "    find the longest matching block between string1 and string2, \n",
    "    and then calculate the string length divide by min(string1, string2)\n",
    "    \"\"\"\n",
    "    sq = SequenceMatcher(lambda x: x==\" \", str1, str2)\n",
    "    match = sq.find_longest_match(0, len(str1), 0, len(str2))\n",
    "    return np_utils._try_divide(match.size, min(len(str1), len(str2)) )"
   ]
  },
  {
   "cell_type": "code",
   "execution_count": null,
   "id": "republican-rating",
   "metadata": {},
   "outputs": [],
   "source": []
  },
  {
   "cell_type": "markdown",
   "id": "detailed-organizer",
   "metadata": {},
   "source": [
    "## Normalized compression distance"
   ]
  },
  {
   "cell_type": "markdown",
   "id": "adaptive-termination",
   "metadata": {},
   "source": [
    "[Idea Reference](https://en.wikipedia.org/wiki/Normalized_compression_distance)\n",
    "[Code Reference](https://docs.python.org/3/library/lzma.html)"
   ]
  },
  {
   "cell_type": "code",
   "execution_count": 7,
   "id": "essential-lodging",
   "metadata": {},
   "outputs": [],
   "source": [
    "def _compression_dist(x, y, l_x=None, l_y=None):\n",
    "    \"\"\"\n",
    "    compress data (a bytes object) and decide two string distance by calculating result length\n",
    "    \"\"\"\n",
    "    if x == y:\n",
    "        return 0\n",
    "    x_b = x.encode('utf-8')\n",
    "    y_b = y.encode('utf-8')\n",
    "    if l_x is None:\n",
    "        l_x = len(lzma.compress(x_b))\n",
    "        l_y = len(lzma.compress(y_b))\n",
    "    l_xy = len(lzma.compress(x_b+y_b))\n",
    "    l_yx = len(lzma.compress(y_b+x_b))\n",
    "    dist = np_utils._try_divide(min(l_xy,l_yx)-min(l_x,l_y), max(l_x,l_y))\n",
    "    return dist\n"
   ]
  },
  {
   "cell_type": "markdown",
   "id": "liked-tumor",
   "metadata": {},
   "source": [
    "## Distance Caculate by Vector"
   ]
  },
  {
   "cell_type": "markdown",
   "id": "progressive-tension",
   "metadata": {},
   "source": [
    "### Cosine Similarity"
   ]
  },
  {
   "cell_type": "markdown",
   "id": "explicit-blink",
   "metadata": {},
   "source": [
    "[cosine similarity](https://scikit-learn.org/stable/modules/generated/sklearn.metrics.pairwise.cosine_similarity.html)"
   ]
  },
  {
   "cell_type": "code",
   "execution_count": 8,
   "id": "collect-occasion",
   "metadata": {},
   "outputs": [],
   "source": [
    "def _cosine_sim(vec1, vec2):\n",
    "    try:\n",
    "        s = cosine_similarity(vec1.reshape(1, -1), vec2.reshape(1, -1))[0][0]  # convert vector to martix\n",
    "    except:\n",
    "        try:\n",
    "            s = cosine_similarity(vec1, vec2)[0][0]\n",
    "        except:\n",
    "            s = config.MISSING_VALUE_NUMERIC\n",
    "    return s\n"
   ]
  },
  {
   "cell_type": "code",
   "execution_count": 9,
   "id": "surprised-green",
   "metadata": {},
   "outputs": [],
   "source": [
    "def _vdiff(vec1, vec2):\n",
    "    return vec1 - vec2\n"
   ]
  },
  {
   "cell_type": "code",
   "execution_count": 10,
   "id": "incorporated-coating",
   "metadata": {},
   "outputs": [],
   "source": [
    "def _rmse(vec1, vec2):\n",
    "    vdiff = vec1 - vec2\n",
    "    rmse = np.sqrt(np.mean(vdiff**2))\n",
    "    return rmse\n"
   ]
  },
  {
   "cell_type": "markdown",
   "id": "selected-market",
   "metadata": {},
   "source": [
    "## Distance Caculate by distribution"
   ]
  },
  {
   "cell_type": "markdown",
   "id": "nominated-decade",
   "metadata": {},
   "source": [
    "### Kullback–Leibler Divergence\n",
    "[Kullback–Leibler divergence](https://en.wikipedia.org/wiki/Kullback%E2%80%93Leibler_divergence)<br>\n",
    "For discrete probability distributions $P$ and $Q$ defined on the same probability space, $X$, the relative entropy from $Q$ to $P$ is defined to be<br>\n",
    "${\\displaystyle D_{\\text{KL}}(P\\parallel Q)=\\sum _{x\\in {\\mathcal {X}}}P(x)\\log \\left({\\frac {P(x)}{Q(x)}}\\right)}$"
   ]
  },
  {
   "cell_type": "code",
   "execution_count": 11,
   "id": "indoor-sauce",
   "metadata": {},
   "outputs": [],
   "source": [
    "def _KL(dist1, dist2):\n",
    "    \"Kullback-Leibler Divergence\"\n",
    "    return np.sum(dist1 * np.log(dist1/dist2), axis=1)"
   ]
  },
  {
   "cell_type": "markdown",
   "id": "introductory-overall",
   "metadata": {},
   "source": [
    "### Jaccard Similarity Coefficient\n",
    "[Jaccard similarity coefficient]('https://en.wikipedia.org/wiki/Jaccard_index')<br>\n",
    "Jaccard similarity coefficient is a statistic used for gauging the similarity and diversity of sample sets.<br>\n",
    "Given two sets A and B, the Jaccard coefficient is defined as the ratio of the size of the intersection of A and B to the size of the union of A and B.<br>\n",
    "${\\displaystyle J(A,B)={{|A\\cap B|} \\over {|A\\cup B|}}={{|A\\cap B|} \\over {|A|+|B|-|A\\cap B|}}}$"
   ]
  },
  {
   "cell_type": "code",
   "execution_count": 12,
   "id": "acoustic-utility",
   "metadata": {},
   "outputs": [],
   "source": [
    "def _jaccard_coef(A, B):\n",
    "    if not isinstance(A, set):\n",
    "        A = set(A)\n",
    "    if not isinstance(B, set):\n",
    "        B = set(B)\n",
    "    return np_utils._try_divide(float(len(A.intersection(B))), len(A.union(B)))"
   ]
  },
  {
   "cell_type": "markdown",
   "id": "practical-blocking",
   "metadata": {},
   "source": [
    "### Dice coefficient\n",
    "[Dice coefficient](https://en.wikipedia.org/wiki/S%C3%B8rensen%E2%80%93Dice_coefficient)<br>\n",
    "Dice coefficient original formula was intended to be applied to discrete data. Given two sets, X and Y, it is defined as<br>\n",
    "${\\displaystyle DSC={\\frac {2|X\\cap Y|}{|X|+|Y|}}}$"
   ]
  },
  {
   "cell_type": "code",
   "execution_count": 13,
   "id": "compact-midnight",
   "metadata": {},
   "outputs": [],
   "source": [
    "def _dice_dist(A, B):\n",
    "    if not isinstance(A, set):\n",
    "        A = set(A)\n",
    "    if not isinstance(B, set):\n",
    "        B = set(B)\n",
    "    return np_utils._try_divide(2.*float(len(A.intersection(B))), (len(A) + len(B)))"
   ]
  },
  {
   "cell_type": "code",
   "execution_count": 14,
   "id": "hungry-armenia",
   "metadata": {},
   "outputs": [
    {
     "name": "stdout",
     "output_type": "stream",
     "text": [
      "[jupytext] Reading dist_utils.ipynb in format ipynb\n",
      "[jupytext] Writing dist_utils.py (destination file replaced)\n"
     ]
    }
   ],
   "source": [
    "# convert notebook.ipynb to a .py file\n",
    "!jupytext --to py dist_utils.ipynb"
   ]
  }
 ],
 "metadata": {
  "kernelspec": {
   "display_name": "Python 3",
   "language": "python",
   "name": "python3"
  },
  "language_info": {
   "codemirror_mode": {
    "name": "ipython",
    "version": 3
   },
   "file_extension": ".py",
   "mimetype": "text/x-python",
   "name": "python",
   "nbconvert_exporter": "python",
   "pygments_lexer": "ipython3",
   "version": "3.7.7"
  }
 },
 "nbformat": 4,
 "nbformat_minor": 5
}
