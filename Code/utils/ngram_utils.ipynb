{
 "cells": [
  {
   "cell_type": "code",
   "execution_count": 1,
   "metadata": {},
   "outputs": [
    {
     "data": {
      "text/plain": [
       "'\\n@author: Eric Tsai <eric492718@gmail.com>\\n@brief: utils for ngram\\n\\n'"
      ]
     },
     "execution_count": 1,
     "metadata": {},
     "output_type": "execute_result"
    }
   ],
   "source": [
    "\"\"\"\n",
    "@author: Eric Tsai <eric492718@gmail.com>\n",
    "@brief: utils for ngram\n",
    "\n",
    "\"\"\""
   ]
  },
  {
   "cell_type": "markdown",
   "metadata": {},
   "source": [
    "## Table of Content\n",
    "* [1. N-gram model](#1.-N-gram-model)\n",
    "    * [1.1 unigrams](#1.1-unigrams)\n",
    "    * [1.2 bigrams](#1.2-bigrams)\n",
    "    * [1.3 trigrams](#1.3-trigrams)\n",
    "    * [1.4 fourgrams](#1.4-fourgrams)\n",
    "* [2. N-terms](#2.-N-terms)\n",
    "    * [2.1 uniterms](#2.1-uniterms) \n",
    "    * [2.2 biterms](#2.2-biterms)\n",
    "    * [2.3 triterms](#2.3-triterms)    \n",
    "    * [2.4 fourterms](#2.4-fourterms)       \n",
    "* [3. Dictionary for N-grams and N-iterms method](#3.-Dictionary-for-N-grams-and-N-iterms-method)\n",
    "* [4. N-grams functon](#4.-N-grams-functon)\n",
    "* [5. N-term function](#5.-N-term-function)\n",
    "* [6. Test Process](#6.-Test-Process)"
   ]
  },
  {
   "cell_type": "markdown",
   "metadata": {},
   "source": [
    "## 1. N-gram model"
   ]
  },
  {
   "cell_type": "markdown",
   "metadata": {},
   "source": [
    "**Ngram Description:**<br>\n",
    "**Object:**<br>\n",
    "Extract the possibly meaningful compound word in the sentence.\n",
    ">**words**<br> \n",
    "['a', 'b', 'c', 'd', 'e', 'f', 'g']<br>\n",
    "**function**<br> \n",
    "\\_trigrams(words,&emsp;join_string,&emsp;skip)<br>\n",
    "**return**<br>\n",
    "['a_b_c', 'a_b_d', 'a_b_e', 'a_c_d', 'a_c_e', 'a_c_f', 'a_d_e', 'a_d_f', 'a_d_g']"
   ]
  },
  {
   "cell_type": "markdown",
   "metadata": {},
   "source": [
    "**\\_trigrams function:** Set variable which `join_string='_'` and `skip=2`. <br>\n",
    "Extract the possible features which are the compound word from the sentence. And example only displays the first element of the compound word is `a`.<br>\n",
    "<br>\n",
    "### **Algorithm:**\n",
    "#### **Structure**\n",
    "**first stage&ensp;&ensp;&ensp;&ensp;&ensp;secondstage&ensp;&ensp;&ensp;&ensp;&ensp;&ensp;&ensp;&ensp;&ensp;&ensp;&ensp;third stage**\n",
    "_____________________________________________________________________________________________________________________\n",
    "                               c (skip=0) => a_b_c\n",
    "                             ↗ \n",
    "                b           |→ d (skip=1) => a_b_d\n",
    "             ↗               ↘   \n",
    "             | (skip=0)        e (skip=2) => a_b_e\n",
    "             |                 \n",
    "             |    \n",
    "             |                 d (skip=0) => a_c_d\n",
    "             |               ↗ \n",
    "    a        |→ c           |→ e (skip=1) => a_c_e\n",
    "             | (skip=1)      ↘ \n",
    "             |                 f (skip=2) => a_c_f\n",
    "             |    \n",
    "             |    \n",
    "             |                 e (skip=0) => a_d_e\n",
    "             ↘               ↗ \n",
    "                d           |→ f (skip=1) => a_d_f\n",
    "               (skip=2)      ↘\n",
    "                               g (skip=2) => a_d_g\n",
    "\n",
    "#### **Code**\n",
    "```python\n",
    "def _trigrams(words, join_string='_', skip=2):               \n",
    "    assert type(words) == list                           \n",
    "    L = len(words)\n",
    "    if L > 2:\n",
    "        lst = []\n",
    "        for i in range(L-2): # number of first stage element index\n",
    "            for k1 in range(1,skip+2): # number of 'skip' on the second(third) stage\n",
    "                for k2 in range(1,skip+2): # plus number of the first(second) stage element index\n",
    "                    if i+k1 < L and i+k1+k2 < L:\n",
    "                        lst.append( join_string.join([words[i], words[i+k1], words[i+k1+k2]]) )\n",
    "    else:\n",
    "        # set it as bigram\n",
    "        lst = _bigrams(words, join_string, skip)\n",
    "    return lst\n",
    "```"
   ]
  },
  {
   "cell_type": "markdown",
   "metadata": {},
   "source": [
    "### 1.1 unigrams"
   ]
  },
  {
   "cell_type": "code",
   "execution_count": 2,
   "metadata": {},
   "outputs": [],
   "source": [
    "def _unigrams(words):\n",
    "    \"\"\"\n",
    "        Input: a list of words, e.g., ['I', 'am', 'Denny']\n",
    "        Output: a list of unigram\n",
    "    \"\"\"\n",
    "    assert type(words) == list # Assertion Testing\n",
    "    return words"
   ]
  },
  {
   "cell_type": "markdown",
   "metadata": {},
   "source": [
    "### 1.2 bigrams"
   ]
  },
  {
   "cell_type": "code",
   "execution_count": 3,
   "metadata": {},
   "outputs": [],
   "source": [
    "# if skip = 5, implies we will skip up to five words\n",
    "# and combine all combinations(bigrams)\n",
    "def _bigrams(words, join_string, skip=0):\n",
    "    \"\"\"\n",
    "       Input: a list of words, e.g., [\"I\", \"am\", \"Denny\"]\n",
    "       Output: a list of bigram, e.g., [\"I_am\", \"am_Denny\"]\n",
    "       I use _ as join_string for this example.\n",
    "    \"\"\"\n",
    "    assert type(words) == list\n",
    "    L = len(words)\n",
    "    if L > 1:\n",
    "        lst = []\n",
    "        for i in range(L-1):\n",
    "            for k in range(1,skip+2):\n",
    "                if i+k < L:\n",
    "                    lst.append( join_string.join([words[i], words[i+k]]) )\n",
    "    else:\n",
    "        # set it as unigram\n",
    "        lst = _unigrams(words)\n",
    "    return lst"
   ]
  },
  {
   "cell_type": "markdown",
   "metadata": {},
   "source": [
    "### 1.3 trigrams"
   ]
  },
  {
   "cell_type": "code",
   "execution_count": 4,
   "metadata": {},
   "outputs": [],
   "source": [
    "def _trigrams(words, join_string, skip=0):\n",
    "    \"\"\"\n",
    "       Input: a list of words, e.g., [\"I\", \"am\", \"Denny\"]\n",
    "       Output: a list of trigram, e.g., [\"I_am_Denny\"]\n",
    "       I use _ as join_string for this example.\n",
    "    \"\"\"\n",
    "    assert type(words) == list\n",
    "    L = len(words)\n",
    "    if L > 2:\n",
    "        lst = []\n",
    "        for i in range(L-2):\n",
    "            for k1 in range(1,skip+2):\n",
    "                for k2 in range(1,skip+2):\n",
    "                    if i+k1 < L and i+k1+k2 < L:\n",
    "                        lst.append( join_string.join([words[i], words[i+k1], words[i+k1+k2]]) )\n",
    "    else:\n",
    "        # set it as bigram\n",
    "        lst = _bigrams(words, join_string, skip)\n",
    "    return lst\n"
   ]
  },
  {
   "cell_type": "markdown",
   "metadata": {},
   "source": [
    "### 1.4 fourgrams"
   ]
  },
  {
   "cell_type": "code",
   "execution_count": 5,
   "metadata": {},
   "outputs": [],
   "source": [
    "def _fourgrams(words, join_string):\n",
    "    \"\"\"\n",
    "        Input: a list of words, e.g., [\"I\", \"am\", \"Denny\", \"boy\"]\n",
    "        Output: a list of trigram, e.g., [\"I_am_Denny_boy\"]\n",
    "        I use _ as join_string for this example.\n",
    "    \"\"\"\n",
    "    assert type(words) == list\n",
    "    L = len(words)\n",
    "    if L > 3:\n",
    "        lst = []\n",
    "        for i in range(L-3):\n",
    "            lst.append( join_string.join([words[i], words[i+1], words[i+2], words[i+3]]) )\n",
    "    else:\n",
    "        # set it as trigram\n",
    "        lst = _trigrams(words, join_string)\n",
    "    return lst\n",
    " "
   ]
  },
  {
   "cell_type": "markdown",
   "metadata": {},
   "source": [
    "## 2. N-terms "
   ]
  },
  {
   "cell_type": "markdown",
   "metadata": {},
   "source": [
    "### 2.1 uniterms"
   ]
  },
  {
   "cell_type": "code",
   "execution_count": 6,
   "metadata": {},
   "outputs": [],
   "source": [
    "def _uniterms(words):\n",
    "    return _unigrams(words)"
   ]
  },
  {
   "cell_type": "markdown",
   "metadata": {},
   "source": [
    "### 2.2 biterms"
   ]
  },
  {
   "cell_type": "code",
   "execution_count": 7,
   "metadata": {},
   "outputs": [],
   "source": [
    "def _biterms(words, join_string):\n",
    "    \"\"\"\n",
    "        Input: a list of words, e.g., [\"I\", \"am\", \"Denny\", \"boy\"]\n",
    "        Output: a list of biterm, e.g., [\"I_am\", \"I_Denny\", \"I_boy\", \"am_Denny\", \"am_boy\", \"Denny_boy\"]\n",
    "        I use _ as join_string for this example.\n",
    "    \"\"\"\n",
    "    assert type(words) == list\n",
    "    L = len(words)\n",
    "    if L > 1:\n",
    "        lst = []\n",
    "        for i in range(L-1):\n",
    "            for j in range(i+1,L):\n",
    "                lst.append( join_string.join([words[i], words[j]]) )\n",
    "    else:\n",
    "        # set it as uniterm\n",
    "        lst = _uniterms(words)\n",
    "    return lst"
   ]
  },
  {
   "cell_type": "markdown",
   "metadata": {},
   "source": [
    "### 2.3 triterms"
   ]
  },
  {
   "cell_type": "code",
   "execution_count": 8,
   "metadata": {},
   "outputs": [],
   "source": [
    "def _triterms(words, join_string):\n",
    "    \"\"\"\n",
    "        Input: a list of words, e.g., [\"I\", \"am\", \"Denny\", \"boy\"]\n",
    "        Output: a list of triterm, e.g., [\"I_am_Denny\", \"I_am_boy\", \"I_Denny_boy\", \"am_Denny_boy\"]\n",
    "        I use _ as join_string for this example.\n",
    "    \"\"\"\n",
    "    assert type(words) == list\n",
    "    L = len(words)\n",
    "    if L > 2:\n",
    "        lst = []\n",
    "        for i in range(L-2):\n",
    "            for j in range(i+1,L-1):\n",
    "                for k in range(j+1,L):\n",
    "                    lst.append( join_string.join([words[i], words[j], words[k]]) )\n",
    "    else:\n",
    "        # set it as biterm\n",
    "        lst = _biterms(words, join_string)\n",
    "    return lst"
   ]
  },
  {
   "cell_type": "markdown",
   "metadata": {},
   "source": [
    "### 2.4 fourterms"
   ]
  },
  {
   "cell_type": "code",
   "execution_count": 9,
   "metadata": {},
   "outputs": [],
   "source": [
    "def _fourterms(words, join_string):\n",
    "    \"\"\"\n",
    "        Input: a list of words, e.g., [\"I\", \"am\", \"Denny\", \"boy\", \"ha\"]\n",
    "        Output: a list of fourterm, e.g., [\"I_am_Denny_boy\", \"I_am_Denny_ha\", \"I_am_boy_ha\", \"I_Denny_boy_ha\", \"am_Denny_boy_ha\"]\n",
    "        I use _ as join_string for this example.\n",
    "    \"\"\"\n",
    "    assert type(words) == list\n",
    "    L = len(words)\n",
    "    if L > 3:\n",
    "        lst = []\n",
    "        for i in range(L-3):\n",
    "            for j in range(i+1,L-2):\n",
    "                for k in range(j+1,L-1):\n",
    "                    for l in range(k+1,L):\n",
    "                        lst.append( join_string.join([words[i], words[j], words[k], words[l]]) )\n",
    "    else:\n",
    "        # set it as triterm\n",
    "        lst = _triterms(words, join_string)\n",
    "    return lst"
   ]
  },
  {
   "cell_type": "markdown",
   "metadata": {},
   "source": [
    "## 3. Dictionary for N-grams and N-iterms method"
   ]
  },
  {
   "cell_type": "code",
   "execution_count": 10,
   "metadata": {},
   "outputs": [],
   "source": [
    "_ngram_str_map = {\n",
    "    1: \"Unigram\",\n",
    "    2: \"Bigram\",\n",
    "    3: \"Trigram\",\n",
    "    4: \"Fourgram\",\n",
    "    5: \"Fivegram\",\n",
    "    12: \"UBgram\",\n",
    "    123: \"UBTgram\",\n",
    "}"
   ]
  },
  {
   "cell_type": "markdown",
   "metadata": {},
   "source": [
    "## 4. N-grams functon"
   ]
  },
  {
   "cell_type": "code",
   "execution_count": 11,
   "metadata": {},
   "outputs": [],
   "source": [
    "def _ngrams(words, ngram, join_string=\" \"):\n",
    "    \"\"\"wrapper for ngram\"\"\"\n",
    "    if ngram == 1:\n",
    "        return _unigrams(words)\n",
    "    elif ngram == 2:\n",
    "        return _bigrams(words, join_string)\n",
    "    elif ngram == 3:\n",
    "        return _trigrams(words, join_string)\n",
    "    elif ngram == 4:\n",
    "        return _fourgrams(words, join_string)\n",
    "    elif ngram == 12:\n",
    "        unigram = _unigrams(words)\n",
    "        bigram = [x for x in _bigrams(words, join_string) if len(x.split(join_string)) == 2]\n",
    "        return unigram + bigram\n",
    "    elif ngram == 123:\n",
    "        unigram = _unigrams(words)\n",
    "        bigram = [x for x in _bigrams(words, join_string) if len(x.split(join_string)) == 2]\n",
    "        trigram = [x for x in _trigrams(words, join_string) if len(x.split(join_string)) == 3]\n",
    "        return unigram + bigram + trigram"
   ]
  },
  {
   "cell_type": "code",
   "execution_count": 12,
   "metadata": {},
   "outputs": [],
   "source": [
    "_nterm_str_map = {\n",
    "    1: \"Uniterm\",\n",
    "    2: \"Biterm\",\n",
    "    3: \"Triterm\",\n",
    "    4: \"Fourterm\",\n",
    "    5: \"Fiveterm\",\n",
    "}"
   ]
  },
  {
   "cell_type": "markdown",
   "metadata": {},
   "source": [
    "## 5. N-term function"
   ]
  },
  {
   "cell_type": "code",
   "execution_count": 13,
   "metadata": {},
   "outputs": [],
   "source": [
    "def _nterms(words, nterm, join_string=\" \"):\n",
    "    \"\"\"wrapper for nterm\"\"\"\n",
    "    if nterm == 1:\n",
    "        return _uniterms(words)\n",
    "    elif nterm == 2:\n",
    "        return _biterms(words, join_string)\n",
    "    elif nterm == 3:\n",
    "        return _triterms(words, join_string)\n",
    "    elif nterm == 4:\n",
    "        return _fourterms(words, join_string)"
   ]
  },
  {
   "cell_type": "markdown",
   "metadata": {},
   "source": [
    "## 6. Test Process"
   ]
  },
  {
   "cell_type": "code",
   "execution_count": 14,
   "metadata": {},
   "outputs": [],
   "source": [
    "if __name__ == \"__main__\":\n",
    "\n",
    "    text = \"I am Denny boy ha\"\n",
    "    words = text.split(\" \")\n",
    "\n",
    "    assert _ngrams(words, 1) == [\"I\", \"am\", \"Denny\", \"boy\", \"ha\"]\n",
    "    assert _ngrams(words, 2) == [\"I am\", \"am Denny\", \"Denny boy\", \"boy ha\"]\n",
    "    assert _ngrams(words, 3) == [\"I am Denny\", \"am Denny boy\", \"Denny boy ha\"]\n",
    "    assert _ngrams(words, 4) == [\"I am Denny boy\", \"am Denny boy ha\"]\n",
    "\n",
    "    assert _nterms(words, 1) == [\"I\", \"am\", \"Denny\", \"boy\", \"ha\"]\n",
    "    assert _nterms(words, 2) == [\"I am\", \"I Denny\", \"I boy\", \"I ha\", \"am Denny\", \"am boy\", \"am ha\", \"Denny boy\", \"Denny ha\", \"boy ha\"]\n",
    "    assert _nterms(words, 3) == [\"I am Denny\", \"I am boy\", \"I am ha\", \"I Denny boy\", \"I Denny ha\", \"I boy ha\", \"am Denny boy\", \"am Denny ha\", \"am boy ha\", \"Denny boy ha\"]\n",
    "    assert _nterms(words, 4) == [\"I am Denny boy\", \"I am Denny ha\", \"I am boy ha\", \"I Denny boy ha\", \"am Denny boy ha\"]\n"
   ]
  },
  {
   "cell_type": "code",
   "execution_count": 15,
   "metadata": {},
   "outputs": [
    {
     "name": "stdout",
     "output_type": "stream",
     "text": [
      "[jupytext] Reading ngram_utils.ipynb in format ipynb\n",
      "[jupytext] Writing ngram_utils.py (destination file replaced)\n"
     ]
    }
   ],
   "source": [
    "# convert notebook.ipynb to a .py file\n",
    "!jupytext --to py ngram_utils.ipynb"
   ]
  },
  {
   "cell_type": "code",
   "execution_count": null,
   "metadata": {},
   "outputs": [],
   "source": []
  }
 ],
 "metadata": {
  "kernelspec": {
   "display_name": "Python 3",
   "language": "python",
   "name": "python3"
  },
  "language_info": {
   "codemirror_mode": {
    "name": "ipython",
    "version": 3
   },
   "file_extension": ".py",
   "mimetype": "text/x-python",
   "name": "python",
   "nbconvert_exporter": "python",
   "pygments_lexer": "ipython3",
   "version": "3.7.7"
  }
 },
 "nbformat": 4,
 "nbformat_minor": 4
}
