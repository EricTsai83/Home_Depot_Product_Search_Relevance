{
 "cells": [
  {
   "cell_type": "code",
   "execution_count": 1,
   "id": "excellent-ground",
   "metadata": {},
   "outputs": [
    {
     "data": {
      "text/plain": [
       "'\\n@author: Eric Tsai <eric492718@gmail.com>\\n@brief: utils for numpy\\n\\n'"
      ]
     },
     "execution_count": 1,
     "metadata": {},
     "output_type": "execute_result"
    }
   ],
   "source": [
    "\"\"\"\n",
    "@author: Eric Tsai <eric492718@gmail.com>\n",
    "@brief: utils for numpy\n",
    "\n",
    "\"\"\""
   ]
  },
  {
   "cell_type": "code",
   "execution_count": 2,
   "id": "expensive-deviation",
   "metadata": {},
   "outputs": [],
   "source": [
    "import sys\n",
    "import numpy as np\n",
    "from scipy.stats import pearsonr\n",
    "from collections import Counter\n",
    "# sys.path是Python的搜尋模組的路徑集，是一個list\n",
    "# 可以在 python 環境下使用sys.path.append(path)新增相關的路徑，但在退出python環境後自己新增的路徑就會自動消失了\n",
    "sys.path.append(\"..\") # in order to import config\n",
    "import config"
   ]
  },
  {
   "cell_type": "code",
   "execution_count": 3,
   "id": "fourth-facial",
   "metadata": {},
   "outputs": [],
   "source": [
    "# # Import matplotlib, numpy and math \n",
    "# import matplotlib.pyplot as plt \n",
    "# import numpy as np \n",
    "# import math "
   ]
  },
  {
   "cell_type": "markdown",
   "id": "tender-harvard",
   "metadata": {},
   "source": [
    "## 1. Sigmoid\n",
    "$$y = \\frac{1}{1 + e^{-x}}$$"
   ]
  },
  {
   "cell_type": "code",
   "execution_count": 4,
   "id": "returning-guard",
   "metadata": {},
   "outputs": [],
   "source": [
    "def _sigmoid(score):\n",
    "    p = 1. / (1. + np.exp(-score))\n",
    "    return p"
   ]
  },
  {
   "cell_type": "markdown",
   "id": "fifty-collar",
   "metadata": {},
   "source": [
    "### 1.1 Sigmoid Graph"
   ]
  },
  {
   "cell_type": "code",
   "execution_count": 5,
   "id": "focused-prince",
   "metadata": {},
   "outputs": [],
   "source": [
    "# x = np.linspace(-10, 10, 1000) \n",
    "# y = 1/(1 + np.exp(-x)) \n",
    "# plt.plot(x, y) \n",
    "# plt.xlabel(\"x\") \n",
    "# plt.ylabel(\"Sigmoid(X)\") \n",
    "# plt.show() "
   ]
  },
  {
   "cell_type": "markdown",
   "id": "fiscal-increase",
   "metadata": {},
   "source": [
    "## 2. Logit"
   ]
  },
  {
   "cell_type": "markdown",
   "id": "familiar-choir",
   "metadata": {},
   "source": [
    "$$y = log(\\frac{x}{1-x})$$"
   ]
  },
  {
   "cell_type": "code",
   "execution_count": 6,
   "id": "bibliographic-philip",
   "metadata": {},
   "outputs": [],
   "source": [
    "def _logit(p):\n",
    "    return np.log(p/(1.-p))"
   ]
  },
  {
   "cell_type": "markdown",
   "id": "victorian-console",
   "metadata": {},
   "source": [
    "### 2.1 Logit Graph"
   ]
  },
  {
   "cell_type": "code",
   "execution_count": 7,
   "id": "moved-triple",
   "metadata": {},
   "outputs": [],
   "source": [
    "# x = np.linspace(0.0001, 0.9999, 1000) \n",
    "# y = np.log(x/(1.-x))\n",
    "# plt.plot(x, y) \n",
    "# plt.xlabel(\"x\") \n",
    "# plt.ylabel(\"Logit(X)\") \n",
    "# plt.show() "
   ]
  },
  {
   "cell_type": "markdown",
   "id": "careful-clone",
   "metadata": {},
   "source": [
    "## 3. Softmax"
   ]
  },
  {
   "cell_type": "markdown",
   "id": "musical-performance",
   "metadata": {},
   "source": [
    "$$q(i) = P_{W,b}(Y=i|X) = \\frac {e^{W_i X + b_i}} {\\sum_j e^{W_j X + b_j}} = \\frac {d_i} {\\sum_j d_j} = \\frac {e^{W_i X + b_i - max(W_j X + b_j)}} {\\sum_j e^{W_j X + b_j - max(W_j X + b_j)}}$$"
   ]
  },
  {
   "cell_type": "code",
   "execution_count": 8,
   "id": "active-palestinian",
   "metadata": {},
   "outputs": [],
   "source": [
    "def _softmax(score):\n",
    "    \"\"\"\n",
    "    Compute the softmax function for each row of the input x.\n",
    "    Arguments:\n",
    "    x -- A N dimensional vector or M x N dimensional numpy matrix.\n",
    "    Return:\n",
    "    x -- You are allowed to modify x in-place\n",
    "    \"\"\"\n",
    "    score = np.asarray(score, dtype=float)\n",
    "    score = np.exp(score - np.max(score))\n",
    "    try:\n",
    "        score /= np.sum(score, axis=1)[:,np.newaxis]  # 增加原本 array 的維度 array[np.newaxis,:]增加 row 的維度，增加 column 的維度 array[:,np.newaxis]\n",
    "    except:\n",
    "        score /= np.sum(score, axis=0)\n",
    "    return score"
   ]
  },
  {
   "cell_type": "markdown",
   "id": "willing-contemporary",
   "metadata": {},
   "source": [
    "### 3.1 Softmax Output Check"
   ]
  },
  {
   "cell_type": "code",
   "execution_count": 9,
   "id": "spare-romantic",
   "metadata": {},
   "outputs": [],
   "source": [
    "# x = np.linspace(-10, 10, 10) \n",
    "# y = _softmax(x)\n",
    "# print(f\"==========\\nInput:\\n==========\\n{x}\")\n",
    "# print(f\"==========\\nOutput:\\n==========\\n{y}\")\n",
    "# print(f\"==========\\nOutput sum:\\n==========\\n {sum(y)}\")"
   ]
  },
  {
   "cell_type": "code",
   "execution_count": 10,
   "id": "studied-index",
   "metadata": {},
   "outputs": [],
   "source": [
    "def _cast_proba_predict(proba):\n",
    "    N = proba.shape[1]\n",
    "    w = np.arange(1,N+1)\n",
    "    pred = proba * w[np.newaxis,:]\n",
    "    pred = np.sum(pred, axis=1)\n",
    "    return pred"
   ]
  },
  {
   "cell_type": "code",
   "execution_count": 11,
   "id": "compressed-sierra",
   "metadata": {},
   "outputs": [],
   "source": [
    "def _one_hot_label(label, n_classes):\n",
    "    \"\"\"\n",
    "    label(array): digital label represent each class\n",
    "    n_class(int): number of class\n",
    "    \"\"\"\n",
    "    num = label.shape[0]\n",
    "    tmp = np.zeros((num, n_classes), dtype=int)\n",
    "    tmp[np.arange(num),label.astype(int)] = 1\n",
    "    return tmp"
   ]
  },
  {
   "cell_type": "code",
   "execution_count": 12,
   "id": "graduate-anaheim",
   "metadata": {},
   "outputs": [],
   "source": [
    "# label=np.array([1,2,0,3,6])"
   ]
  },
  {
   "cell_type": "code",
   "execution_count": 13,
   "id": "impaired-founder",
   "metadata": {},
   "outputs": [],
   "source": [
    "# _one_hot_label(label, n_classes=7)"
   ]
  },
  {
   "cell_type": "code",
   "execution_count": 14,
   "id": "early-muscle",
   "metadata": {},
   "outputs": [],
   "source": [
    "def _majority_voting(x, weight=None):\n",
    "    ## apply weight\n",
    "    if weight is not None:\n",
    "        assert len(weight) == len(x)\n",
    "        x = np.repeat(x, weight)\n",
    "    c = Counter(x)\n",
    "    value, count = c.most_common()[0]\n",
    "    return value"
   ]
  },
  {
   "cell_type": "code",
   "execution_count": 15,
   "id": "consistent-alexander",
   "metadata": {},
   "outputs": [],
   "source": [
    "def _voter(x, weight=None):\n",
    "    idx = np.isfinite(x)  # Test element-wise for finiteness (not infinity or not Not a Number).\n",
    "    if sum(idx) == 0:\n",
    "        value = config.MISSING_VALUE_NUMERIC\n",
    "    else:\n",
    "        if weight is not None:\n",
    "            value = _majority_voting(x[idx], weight[idx])\n",
    "        else:\n",
    "            value = _majority_voting(x[idx])\n",
    "    return value"
   ]
  },
  {
   "cell_type": "code",
   "execution_count": 16,
   "id": "available-catch",
   "metadata": {},
   "outputs": [],
   "source": [
    "# res=np.array([1,3,3,3,6])"
   ]
  },
  {
   "cell_type": "code",
   "execution_count": 17,
   "id": "accepting-input",
   "metadata": {},
   "outputs": [],
   "source": [
    "# np.isfinite(res)"
   ]
  },
  {
   "cell_type": "code",
   "execution_count": 18,
   "id": "present-partnership",
   "metadata": {},
   "outputs": [],
   "source": [
    "# _voter(res)"
   ]
  },
  {
   "cell_type": "code",
   "execution_count": 19,
   "id": "surrounded-height",
   "metadata": {},
   "outputs": [],
   "source": [
    "# _voter(res, np.array([6,1,1,1,5]))"
   ]
  },
  {
   "cell_type": "code",
   "execution_count": 20,
   "id": "terminal-contributor",
   "metadata": {},
   "outputs": [],
   "source": [
    "def _array_majority_voting(X, weight=None):\n",
    "    \"\"\"\n",
    "    majority voting by column\n",
    "    note: if a tie, return the smallest result\n",
    "    \"\"\"\n",
    "    # sometime, your function got an 'if' statement, then you can't use np.vectorize for iteration, use '.apply_along_axis'\n",
    "    y = np.apply_along_axis(_voter, axis=1, arr=X, weight=weight)\n",
    "    return y"
   ]
  },
  {
   "cell_type": "code",
   "execution_count": 21,
   "id": "dimensional-germany",
   "metadata": {},
   "outputs": [],
   "source": [
    "# res=np.array([[1,3,1,5,0],  # 1\n",
    "#               [0,2,3,0,6],  # 0\n",
    "#               [1,3,2,3,6],  # 3\n",
    "#               [1,4,2,3,6],  # tie\n",
    "#               [1,5,2,3,6]])  # tie"
   ]
  },
  {
   "cell_type": "code",
   "execution_count": 22,
   "id": "timely-louisiana",
   "metadata": {},
   "outputs": [],
   "source": [
    "# _array_majority_voting(res, weight=None)"
   ]
  },
  {
   "cell_type": "code",
   "execution_count": 23,
   "id": "accurate-anniversary",
   "metadata": {},
   "outputs": [],
   "source": [
    "def _mean(x):\n",
    "    idx = np.isfinite(x)\n",
    "    if sum(idx) == 0:\n",
    "        value = float(config.MISSING_VALUE_NUMERIC) # cast it to float to accommodate the np.mean\n",
    "    else:\n",
    "        value = np.mean(x[idx]) # this is float!\n",
    "    return value"
   ]
  },
  {
   "cell_type": "code",
   "execution_count": 24,
   "id": "academic-drove",
   "metadata": {},
   "outputs": [],
   "source": [
    "# res=np.array([1,3,3,3,6])"
   ]
  },
  {
   "cell_type": "code",
   "execution_count": 25,
   "id": "designing-mistress",
   "metadata": {},
   "outputs": [],
   "source": [
    "# _mean(res)"
   ]
  },
  {
   "cell_type": "code",
   "execution_count": 26,
   "id": "mathematical-plate",
   "metadata": {},
   "outputs": [],
   "source": [
    "def _array_mean(X):\n",
    "    y = np.apply_along_axis(_mean, axis=1, arr=X)\n",
    "    return y"
   ]
  },
  {
   "cell_type": "code",
   "execution_count": 27,
   "id": "stone-migration",
   "metadata": {},
   "outputs": [],
   "source": [
    "res=np.array([[1,3,1,5,0],\n",
    "              [0,2,3,0,6],\n",
    "              [1,3,2,3,6],\n",
    "              [1,4,2,3,6],\n",
    "              [1,5,2,3,6]])"
   ]
  },
  {
   "cell_type": "code",
   "execution_count": 28,
   "id": "relevant-impossible",
   "metadata": {},
   "outputs": [],
   "source": [
    "# _array_mean(res)"
   ]
  },
  {
   "cell_type": "code",
   "execution_count": 29,
   "id": "loved-zoning",
   "metadata": {},
   "outputs": [],
   "source": [
    "def _dim(x):\n",
    "    d = 1 if len(x.shape) == 1 else x.shape[1]\n",
    "    return d"
   ]
  },
  {
   "cell_type": "code",
   "execution_count": 30,
   "id": "thirty-wallace",
   "metadata": {},
   "outputs": [],
   "source": [
    "def _corr(x, y_train):\n",
    "    if _dim(x) == 1:\n",
    "        corr = pearsonr(x.flatten(), y_train)[0]\n",
    "        if str(corr) == \"nan\":\n",
    "            corr = 0.\n",
    "    else:\n",
    "        corr = 1.\n",
    "    return corr"
   ]
  },
  {
   "cell_type": "code",
   "execution_count": 31,
   "id": "pressing-sherman",
   "metadata": {},
   "outputs": [],
   "source": [
    "# x=np.array([1,3,3,3,6])\n",
    "# y_train=np.array([1,3,3,3,6])"
   ]
  },
  {
   "cell_type": "code",
   "execution_count": 32,
   "id": "moderate-scientist",
   "metadata": {},
   "outputs": [],
   "source": [
    "# _corr(x, y_train)"
   ]
  },
  {
   "cell_type": "code",
   "execution_count": 33,
   "id": "tired-large",
   "metadata": {},
   "outputs": [],
   "source": [
    "def _entropy(proba):\n",
    "    entropy = -np.sum(proba*np.log(proba))\n",
    "    return entropy"
   ]
  },
  {
   "cell_type": "code",
   "execution_count": 34,
   "id": "stupid-writing",
   "metadata": {},
   "outputs": [],
   "source": [
    "# p1_li = [0.1, 0.2, 0.3, 0.4, 0.5, 0.6, 0.7, 0.8, 0.90]\n",
    "# p2_li = [1-i for i in p1_li]\n",
    "# prob_li = list(zip(p1_li, p2_li))\n",
    "# entropy_li = []\n",
    "# for i, t in prob_li:\n",
    "#     proba=np.array([i, t])\n",
    "#     y = _entropy(proba)\n",
    "#     entropy_li.append(y)"
   ]
  },
  {
   "cell_type": "code",
   "execution_count": 35,
   "id": "better-relay",
   "metadata": {},
   "outputs": [],
   "source": [
    "# fig = plt.figure()\n",
    "# ax1 = fig.add_subplot(111)\n",
    "# ax2 = ax1.twiny()\n",
    "\n",
    "# X = p1_li\n",
    "# Y = entropy_li\n",
    "\n",
    "# ax1.plot(X,Y)\n",
    "# ax1.set_xlabel(\"p1\")\n",
    "# ax1.set_ylabel(\"entropy(p1,p2)\")\n",
    "\n",
    "# new_tick_locations = np.array(p2_li)\n",
    "\n",
    "# def tick_function(X):\n",
    "#     return [\"%.1f\" % z for z in X]\n",
    "\n",
    "# ax2.set_xlim(ax1.get_xlim())\n",
    "# ax2.set_xticks(X)\n",
    "# ax2.set_xticklabels(tick_function(new_tick_locations))\n",
    "# ax2.set_xlabel(\"P2\")\n",
    "\n",
    "\n",
    "# plt.show()"
   ]
  },
  {
   "cell_type": "code",
   "execution_count": 36,
   "id": "planned-policy",
   "metadata": {},
   "outputs": [],
   "source": [
    "def _try_divide(x, y, val=0.0):\n",
    "    \"\"\"try to divide two numbers\"\"\"\n",
    "    if y != 0.0:\n",
    "        val = float(x) / y\n",
    "    return val"
   ]
  },
  {
   "cell_type": "code",
   "execution_count": 37,
   "id": "thick-financing",
   "metadata": {},
   "outputs": [],
   "source": [
    "# _try_divide(10,2)"
   ]
  },
  {
   "cell_type": "code",
   "execution_count": 38,
   "id": "prepared-ottawa",
   "metadata": {},
   "outputs": [],
   "source": [
    "# _try_divide(10,0)"
   ]
  },
  {
   "cell_type": "code",
   "execution_count": 39,
   "id": "sealed-burke",
   "metadata": {},
   "outputs": [
    {
     "name": "stdout",
     "output_type": "stream",
     "text": [
      "[jupytext] Reading np_utils.ipynb in format ipynb\n",
      "[jupytext] Writing np_utils.py (destination file replaced)\n"
     ]
    }
   ],
   "source": [
    "# convert notebook.ipynb to a .py file\n",
    "!jupytext --to py np_utils.ipynb"
   ]
  },
  {
   "cell_type": "code",
   "execution_count": null,
   "id": "parallel-arthritis",
   "metadata": {},
   "outputs": [],
   "source": []
  },
  {
   "cell_type": "code",
   "execution_count": null,
   "id": "convinced-antique",
   "metadata": {},
   "outputs": [],
   "source": []
  },
  {
   "cell_type": "code",
   "execution_count": null,
   "id": "unique-trick",
   "metadata": {},
   "outputs": [],
   "source": []
  }
 ],
 "metadata": {
  "kernelspec": {
   "display_name": "Python 3",
   "language": "python",
   "name": "python3"
  },
  "language_info": {
   "codemirror_mode": {
    "name": "ipython",
    "version": 3
   },
   "file_extension": ".py",
   "mimetype": "text/x-python",
   "name": "python",
   "nbconvert_exporter": "python",
   "pygments_lexer": "ipython3",
   "version": "3.7.7"
  }
 },
 "nbformat": 4,
 "nbformat_minor": 5
}
