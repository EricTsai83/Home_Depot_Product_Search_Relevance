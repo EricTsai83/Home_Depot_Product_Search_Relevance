{
 "cells": [
  {
   "cell_type": "code",
   "execution_count": 1,
   "metadata": {},
   "outputs": [
    {
     "data": {
      "text/plain": [
       "'\\n@author: Eric Tsai <eric492718@gmail.com>\\n@brief: utils for logging\\n\\n'"
      ]
     },
     "execution_count": 1,
     "metadata": {},
     "output_type": "execute_result"
    }
   ],
   "source": [
    "\"\"\"\n",
    "@author: Eric Tsai <eric492718@gmail.com>\n",
    "@brief: utils for logging\n",
    "\n",
    "\"\"\""
   ]
  },
  {
   "cell_type": "code",
   "execution_count": 2,
   "metadata": {},
   "outputs": [],
   "source": [
    "import os\n",
    "import logging\n",
    "import logging.handlers"
   ]
  },
  {
   "cell_type": "markdown",
   "metadata": {},
   "source": [
    "|等級      | 等級數值  |  輸出函數           |  說明    |\n",
    "|----------|----------|--------------------|:--------:|\n",
    "|NOTSET    |0         |無對應的輸出函數      |未設定    |\n",
    "|DEBUG     |10        |logging.debug()     |除錯       |\n",
    "|INFO      |20        |logging.info()      |訊息       |\n",
    "|WARNING   |30        |logging.warning()   |警告       |\n",
    "|ERROR     |40        |logging.error()     |錯誤       |\n",
    "|CRITICAL  |50        |logging.critical()  |嚴重錯誤   |"
   ]
  },
  {
   "cell_type": "markdown",
   "metadata": {},
   "source": [
    "***This module(Logging) will write a log in model.log (which is a log file). When model.log exceeded the capacity limit which is module variable, model.log will rename to model.log.1 and so on. Eventually, if we set backupCount=3 than we will get model.log, model.log.1, and model.log.2. They record the newest to the oldest log.***<br>\n",
    "\n",
    "**Rotating File Handler (backupCount=3):**<br>\n",
    "If the log file exceeds the capacity limit, pass the path to another stage.\n",
    "     \n",
    "    new record 📃\n",
    "             ↓ (write in)\n",
    "             ↓\n",
    "             model.log → → model.log.1\n",
    "                     (rename)        ↓\n",
    "                                     ↓ (rename)\n",
    "           model.log.3 ← ← model.log.2\n",
    "           ↓         (rename)\n",
    "    (drop) ↓ \n",
    "          🗑️"
   ]
  },
  {
   "cell_type": "code",
   "execution_count": 3,
   "metadata": {},
   "outputs": [],
   "source": [
    "# loglevel: 記錄最低等級\n",
    "def _get_logger(logdir, logname, loglevel=logging.INFO):\n",
    "    fmt = '[%(asctime)s] %(levelname)s: %(message)s'\n",
    "    formatter = logging.Formatter(fmt)\n",
    "\n",
    "    handler = logging.handlers.RotatingFileHandler(\n",
    "                    filename=os.path.join(logdir, logname),\n",
    "                    maxBytes=10*1024*1024, # 大小不超過 10 MB，若紀錄檔已超過就會轉換為backup的log檔，\n",
    "                    backupCount=10)        # 並重新創建一個新的紀錄檔，紀錄新的log\n",
    "    handler.setFormatter(formatter)\n",
    "\n",
    "    logger = logging.getLogger('')\n",
    "    logger.addHandler(handler)\n",
    "    logger.setLevel(loglevel)\n",
    "    return logger\n"
   ]
  },
  {
   "cell_type": "code",
   "execution_count": 4,
   "metadata": {},
   "outputs": [
    {
     "name": "stdout",
     "output_type": "stream",
     "text": [
      "[jupytext] Reading logging_utils.ipynb in format ipynb\n",
      "[jupytext] Writing logging_utils.py (destination file replaced)\n"
     ]
    }
   ],
   "source": [
    "# convert notebook.ipynb to a .py file\n",
    "!jupytext --to py logging_utils.ipynb"
   ]
  },
  {
   "cell_type": "code",
   "execution_count": null,
   "metadata": {},
   "outputs": [],
   "source": []
  }
 ],
 "metadata": {
  "kernelspec": {
   "display_name": "Python 3",
   "language": "python",
   "name": "python3"
  },
  "language_info": {
   "codemirror_mode": {
    "name": "ipython",
    "version": 3
   },
   "file_extension": ".py",
   "mimetype": "text/x-python",
   "name": "python",
   "nbconvert_exporter": "python",
   "pygments_lexer": "ipython3",
   "version": "3.7.7"
  }
 },
 "nbformat": 4,
 "nbformat_minor": 4
}
