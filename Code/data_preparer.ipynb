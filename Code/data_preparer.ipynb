{
 "cells": [
  {
   "cell_type": "markdown",
   "metadata": {
    "slideshow": {
     "slide_type": "slide"
    }
   },
   "source": [
    "# Data pre-processing"
   ]
  },
  {
   "cell_type": "code",
   "execution_count": null,
   "metadata": {},
   "outputs": [],
   "source": [
    "\"\"\"\n",
    "@author: Eric Tsai <eric492718@gmail.com>\n",
    "@brief: generate raw dataframe data\n",
    "\n",
    "\"\"\""
   ]
  },
  {
   "cell_type": "markdown",
   "metadata": {},
   "source": [
    "## Table of contents\n",
    "* [1. Import libraries](#1.-Import-libraries)\n",
    "* [2. Design Working Directory](#2.-Design-Working-Directory)\n",
    "* [3. Creating a Dataset](#3.-Creating-a-Dataset)"
   ]
  },
  {
   "cell_type": "markdown",
   "metadata": {},
   "source": [
    "## 1. Import libraries"
   ]
  },
  {
   "cell_type": "code",
   "execution_count": 2,
   "metadata": {},
   "outputs": [],
   "source": [
    "import gc\n",
    "\n",
    "import numpy as np\n",
    "import pandas as pd\n",
    "\n",
    "# import config\n",
    "from utils import pkl_utils\n",
    "import config\n",
    "\n",
    "import os"
   ]
  },
  {
   "cell_type": "markdown",
   "metadata": {},
   "source": [
    "## 2. Design Working Directory\n",
    "Synchronize Working Directory to config.py"
   ]
  },
  {
   "cell_type": "markdown",
   "metadata": {},
   "source": [
    "<div class=\"alert alert-warning\" role=\"alert\">\n",
    "  <strong>Note!</strong> Synchronize Working Directory to config.py \n",
    "</div>"
   ]
  },
  {
   "cell_type": "markdown",
   "metadata": {},
   "source": [
    "### EX.\n",
    "---\n",
    "    ./\n",
    "    ├── A\n",
    "    │   ├── B\n",
    "    │   └── C\n",
    "    ├── D\n",
    "    │   └── E\n",
    "    └── F\n",
    "---\n",
    "    ./\n",
    "    ├── EDA\n",
    "    ├── Data\n",
    "    │   └── Clean (clean data)\n",
    "    ├── Feat\n",
    "    ├── Code\n",
    "    │    └── Conf (feature config)\n",
    "    ├── Fig\n",
    "    ├── Log    \n",
    "    ├── Output\n",
    "    └── README.md"
   ]
  },
  {
   "cell_type": "markdown",
   "metadata": {},
   "source": [
    "## 3. Creating a Dataset"
   ]
  },
  {
   "cell_type": "markdown",
   "metadata": {},
   "source": [
    "***Because in the real world, we usually get the whole dataset and split the training and test data by ourseleve.\n",
    "So I will like to start with making a dataset, and then create a complete API. It will help me to reproduce analysis (or model) structure easily.***"
   ]
  },
  {
   "cell_type": "code",
   "execution_count": 3,
   "metadata": {},
   "outputs": [],
   "source": [
    "# load provided data\n",
    "dfTrain = pd.read_csv(config.TRAIN_DATA, encoding=\"ISO-8859-1\")\n",
    "dfTest = pd.read_csv(config.TEST_DATA, encoding=\"ISO-8859-1\")\n",
    "dfAttr = pd.read_csv(config.ATTR_DATA)\n",
    "dfDesc = pd.read_csv(config.DESC_DATA)"
   ]
  },
  {
   "cell_type": "code",
   "execution_count": 4,
   "metadata": {},
   "outputs": [
    {
     "name": "stdout",
     "output_type": "stream",
     "text": [
      "--------------------------------------------------------------------------------------------------------\n",
      "Train\n",
      "shape: (74067, 5), column: ['id' 'product_uid' 'product_title' 'search_term' 'relevance']\n",
      "--------------------------------------------------------------------------------------------------------\n",
      "Test\n",
      "shape: (166693, 4), column: ['id' 'product_uid' 'product_title' 'search_term']\n",
      "--------------------------------------------------------------------------------------------------------\n",
      "Attr\n",
      "shape: (2044803, 3), column: ['product_uid' 'name' 'value']\n",
      "--------------------------------------------------------------------------------------------------------\n",
      "Desc\n",
      "shape: (124428, 2), column: ['product_uid' 'product_description']\n",
      "--------------------------------------------------------------------------------------------------------\n"
     ]
    }
   ],
   "source": [
    "print('--------------------------------------------------------------------------------------------------------')\n",
    "print('Train')\n",
    "print(f'shape: {dfTrain.shape}, column: {dfTrain.columns.values}')\n",
    "print('--------------------------------------------------------------------------------------------------------')\n",
    "print('Test')\n",
    "print(f'shape: {dfTest.shape}, column: {dfTest.columns.values}')\n",
    "print('--------------------------------------------------------------------------------------------------------')\n",
    "print('Attr')\n",
    "print(f'shape: {dfAttr.shape}, column: {dfAttr.columns.values}')\n",
    "print('--------------------------------------------------------------------------------------------------------')\n",
    "print('Desc')\n",
    "print(f'shape: {dfDesc.shape}, column: {dfDesc.columns.values}')\n",
    "print('--------------------------------------------------------------------------------------------------------')"
   ]
  },
  {
   "cell_type": "code",
   "execution_count": 5,
   "metadata": {},
   "outputs": [
    {
     "name": "stdout",
     "output_type": "stream",
     "text": [
      "Train Mean: 2.381634\n",
      "Train Var: 0.285135\n"
     ]
    }
   ],
   "source": [
    "# \n",
    "print(\"Train Mean: %.6f\"%np.mean(dfTrain[\"relevance\"]))\n",
    "print(\"Train Var: %.6f\"%np.var(dfTrain[\"relevance\"]))"
   ]
  },
  {
   "cell_type": "code",
   "execution_count": 6,
   "metadata": {},
   "outputs": [],
   "source": [
    "#\n",
    "dfTest[\"relevance\"] = np.zeros((config.TEST_SIZE))\n",
    "dfAttr.dropna(how=\"all\", inplace=True)\n",
    "dfAttr[\"value\"] = dfAttr[\"value\"].astype(str)"
   ]
  },
  {
   "cell_type": "code",
   "execution_count": 7,
   "metadata": {},
   "outputs": [
    {
     "data": {
      "text/plain": [
       "22"
      ]
     },
     "execution_count": 7,
     "metadata": {},
     "output_type": "execute_result"
    }
   ],
   "source": [
    "# concat train and test\n",
    "dfAll = pd.concat((dfTrain, dfTest), ignore_index=True)\n",
    "del dfTrain\n",
    "del dfTest\n",
    "gc.collect()"
   ]
  },
  {
   "cell_type": "code",
   "execution_count": 8,
   "metadata": {},
   "outputs": [],
   "source": [
    "# merge product description\n",
    "dfAll = pd.merge(dfAll, dfDesc, on=\"product_uid\", how=\"left\")"
   ]
  },
  {
   "cell_type": "code",
   "execution_count": 9,
   "metadata": {},
   "outputs": [
    {
     "data": {
      "text/html": [
       "<div>\n",
       "<style scoped>\n",
       "    .dataframe tbody tr th:only-of-type {\n",
       "        vertical-align: middle;\n",
       "    }\n",
       "\n",
       "    .dataframe tbody tr th {\n",
       "        vertical-align: top;\n",
       "    }\n",
       "\n",
       "    .dataframe thead th {\n",
       "        text-align: right;\n",
       "    }\n",
       "</style>\n",
       "<table border=\"1\" class=\"dataframe\">\n",
       "  <thead>\n",
       "    <tr style=\"text-align: right;\">\n",
       "      <th></th>\n",
       "      <th>id</th>\n",
       "      <th>product_uid</th>\n",
       "      <th>product_title</th>\n",
       "      <th>search_term</th>\n",
       "      <th>relevance</th>\n",
       "      <th>product_description</th>\n",
       "    </tr>\n",
       "  </thead>\n",
       "  <tbody>\n",
       "    <tr>\n",
       "      <th>0</th>\n",
       "      <td>2</td>\n",
       "      <td>100001</td>\n",
       "      <td>Simpson Strong-Tie 12-Gauge Angle</td>\n",
       "      <td>angle bracket</td>\n",
       "      <td>3.00</td>\n",
       "      <td>Not only do angles make joints stronger, they ...</td>\n",
       "    </tr>\n",
       "    <tr>\n",
       "      <th>1</th>\n",
       "      <td>3</td>\n",
       "      <td>100001</td>\n",
       "      <td>Simpson Strong-Tie 12-Gauge Angle</td>\n",
       "      <td>l bracket</td>\n",
       "      <td>2.50</td>\n",
       "      <td>Not only do angles make joints stronger, they ...</td>\n",
       "    </tr>\n",
       "    <tr>\n",
       "      <th>2</th>\n",
       "      <td>9</td>\n",
       "      <td>100002</td>\n",
       "      <td>BEHR Premium Textured DeckOver 1-gal. #SC-141 ...</td>\n",
       "      <td>deck over</td>\n",
       "      <td>3.00</td>\n",
       "      <td>BEHR Premium Textured DECKOVER is an innovativ...</td>\n",
       "    </tr>\n",
       "    <tr>\n",
       "      <th>3</th>\n",
       "      <td>16</td>\n",
       "      <td>100005</td>\n",
       "      <td>Delta Vero 1-Handle Shower Only Faucet Trim Ki...</td>\n",
       "      <td>rain shower head</td>\n",
       "      <td>2.33</td>\n",
       "      <td>Update your bathroom with the Delta Vero Singl...</td>\n",
       "    </tr>\n",
       "    <tr>\n",
       "      <th>4</th>\n",
       "      <td>17</td>\n",
       "      <td>100005</td>\n",
       "      <td>Delta Vero 1-Handle Shower Only Faucet Trim Ki...</td>\n",
       "      <td>shower only faucet</td>\n",
       "      <td>2.67</td>\n",
       "      <td>Update your bathroom with the Delta Vero Singl...</td>\n",
       "    </tr>\n",
       "  </tbody>\n",
       "</table>\n",
       "</div>"
      ],
      "text/plain": [
       "   id  product_uid                                      product_title  \\\n",
       "0   2       100001                  Simpson Strong-Tie 12-Gauge Angle   \n",
       "1   3       100001                  Simpson Strong-Tie 12-Gauge Angle   \n",
       "2   9       100002  BEHR Premium Textured DeckOver 1-gal. #SC-141 ...   \n",
       "3  16       100005  Delta Vero 1-Handle Shower Only Faucet Trim Ki...   \n",
       "4  17       100005  Delta Vero 1-Handle Shower Only Faucet Trim Ki...   \n",
       "\n",
       "          search_term  relevance  \\\n",
       "0       angle bracket       3.00   \n",
       "1           l bracket       2.50   \n",
       "2           deck over       3.00   \n",
       "3    rain shower head       2.33   \n",
       "4  shower only faucet       2.67   \n",
       "\n",
       "                                 product_description  \n",
       "0  Not only do angles make joints stronger, they ...  \n",
       "1  Not only do angles make joints stronger, they ...  \n",
       "2  BEHR Premium Textured DECKOVER is an innovativ...  \n",
       "3  Update your bathroom with the Delta Vero Singl...  \n",
       "4  Update your bathroom with the Delta Vero Singl...  "
      ]
     },
     "execution_count": 9,
     "metadata": {},
     "output_type": "execute_result"
    }
   ],
   "source": [
    "dfAll.head()"
   ]
  },
  {
   "cell_type": "markdown",
   "metadata": {},
   "source": [
    "* ### Check dataset information"
   ]
  },
  {
   "cell_type": "code",
   "execution_count": 10,
   "metadata": {},
   "outputs": [
    {
     "data": {
      "text/html": [
       "<div>\n",
       "<style scoped>\n",
       "    .dataframe tbody tr th:only-of-type {\n",
       "        vertical-align: middle;\n",
       "    }\n",
       "\n",
       "    .dataframe tbody tr th {\n",
       "        vertical-align: top;\n",
       "    }\n",
       "\n",
       "    .dataframe thead th {\n",
       "        text-align: right;\n",
       "    }\n",
       "</style>\n",
       "<table border=\"1\" class=\"dataframe\">\n",
       "  <thead>\n",
       "    <tr style=\"text-align: right;\">\n",
       "      <th></th>\n",
       "      <th>column_type</th>\n",
       "      <th>Non_Null_Count</th>\n",
       "    </tr>\n",
       "  </thead>\n",
       "  <tbody>\n",
       "    <tr>\n",
       "      <th>id</th>\n",
       "      <td>int64</td>\n",
       "      <td>240760</td>\n",
       "    </tr>\n",
       "    <tr>\n",
       "      <th>product_uid</th>\n",
       "      <td>int64</td>\n",
       "      <td>240760</td>\n",
       "    </tr>\n",
       "    <tr>\n",
       "      <th>product_title</th>\n",
       "      <td>object</td>\n",
       "      <td>240760</td>\n",
       "    </tr>\n",
       "    <tr>\n",
       "      <th>search_term</th>\n",
       "      <td>object</td>\n",
       "      <td>240760</td>\n",
       "    </tr>\n",
       "    <tr>\n",
       "      <th>relevance</th>\n",
       "      <td>float64</td>\n",
       "      <td>240760</td>\n",
       "    </tr>\n",
       "    <tr>\n",
       "      <th>product_description</th>\n",
       "      <td>object</td>\n",
       "      <td>240760</td>\n",
       "    </tr>\n",
       "  </tbody>\n",
       "</table>\n",
       "</div>"
      ],
      "text/plain": [
       "                    column_type  Non_Null_Count\n",
       "id                        int64          240760\n",
       "product_uid               int64          240760\n",
       "product_title            object          240760\n",
       "search_term              object          240760\n",
       "relevance               float64          240760\n",
       "product_description      object          240760"
      ]
     },
     "metadata": {},
     "output_type": "display_data"
    },
    {
     "name": "stdout",
     "output_type": "stream",
     "text": [
      "-------------------------------------------------------------\n",
      "total columns: 6\n",
      "-------------------------------------------------------------\n",
      "column type count:\n",
      "[('int64', 2), ('float64', 1), ('object', 3)]\n",
      "-------------------------------------------------------------\n",
      "column memory usage (bytes):\n",
      "[('Index', 1926080), ('id', 1926080), ('product_uid', 1926080), ('product_title', 1926080), ('search_term', 1926080), ('relevance', 1926080), ('product_description', 1926080)]\n"
     ]
    }
   ],
   "source": [
    "df_column_type = pd.DataFrame(dfAll.dtypes, columns = ['column_type'])\n",
    "df_Non_Null_Count = pd.DataFrame(dfAll.notnull().sum(), columns = ['Non_Null_Count'])\n",
    "df_info = pd.concat([df_column_type, df_Non_Null_Count ], axis = 1)\n",
    "\n",
    "display(df_info)\n",
    "print('-------------------------------------------------------------')\n",
    "print(f'total columns: {dfAll.shape[1]}')\n",
    "print('-------------------------------------------------------------')\n",
    "temp = pd.DataFrame(dfAll.dtypes, columns = ['dtypes']).groupby('dtypes').size()\n",
    "temp = pd.DataFrame(temp, columns = ['count'])\n",
    "temp = temp.reset_index(drop = False)\n",
    "temp = temp.astype({\"dtypes\": str})\n",
    "column_type_count = [(temp['dtypes'][i],temp['count'][i]) for i in range(len(temp))]\n",
    "print('column type count:')\n",
    "print(column_type_count)\n",
    "\n",
    "temp = pd.DataFrame(dfAll.memory_usage(), columns = ['memory_usage'])\n",
    "temp = temp.reset_index(drop = False)\n",
    "temp.columns = ['item','memory_usage']\n",
    "column_memory_usage = [(temp['item'][i],temp['memory_usage'][i]) for i in range(len(temp))]\n",
    "print('-------------------------------------------------------------')\n",
    "print('column memory usage (bytes):')\n",
    "print(column_memory_usage)"
   ]
  },
  {
   "cell_type": "markdown",
   "metadata": {},
   "source": [
    "<code style=\"background:yellow;color:black\">***The dataset seems to be fine. No Missing value need to be solve. But I would like to create a process to solve the problem if it is exist.***</code>"
   ]
  },
  {
   "cell_type": "code",
   "execution_count": 11,
   "metadata": {},
   "outputs": [
    {
     "data": {
      "text/plain": [
       "22"
      ]
     },
     "execution_count": 11,
     "metadata": {},
     "output_type": "execute_result"
    }
   ],
   "source": [
    "dfAll.fillna(config.MISSING_VALUE_STRING, inplace=True)\n",
    "del dfDesc\n",
    "gc.collect()"
   ]
  },
  {
   "cell_type": "code",
   "execution_count": 12,
   "metadata": {},
   "outputs": [
    {
     "data": {
      "text/plain": [
       "22"
      ]
     },
     "execution_count": 12,
     "metadata": {},
     "output_type": "execute_result"
    }
   ],
   "source": [
    "# merge product brand from attributes\n",
    "dfBrand = dfAttr[dfAttr.name=='MFG Brand Name'][['product_uid', 'value']].rename(columns={'value': 'product_brand'})\n",
    "dfAll = pd.merge(dfAll, dfBrand, on='product_uid', how='left')\n",
    "# this command is not necessary, because 'product_brand' is already stored by str type. \n",
    "# but do this can remind me to consider difference condition \n",
    "dfBrand['product_brand'] = dfBrand['product_brand'].values.astype(str)  # the command is redundant in this case\n",
    "dfAll.fillna(config.MISSING_VALUE_STRING, inplace=True)\n",
    "del dfBrand\n",
    "gc.collect()"
   ]
  },
  {
   "cell_type": "code",
   "execution_count": 13,
   "metadata": {},
   "outputs": [
    {
     "data": {
      "text/html": [
       "<div>\n",
       "<style scoped>\n",
       "    .dataframe tbody tr th:only-of-type {\n",
       "        vertical-align: middle;\n",
       "    }\n",
       "\n",
       "    .dataframe tbody tr th {\n",
       "        vertical-align: top;\n",
       "    }\n",
       "\n",
       "    .dataframe thead th {\n",
       "        text-align: right;\n",
       "    }\n",
       "</style>\n",
       "<table border=\"1\" class=\"dataframe\">\n",
       "  <thead>\n",
       "    <tr style=\"text-align: right;\">\n",
       "      <th></th>\n",
       "      <th>id</th>\n",
       "      <th>product_uid</th>\n",
       "      <th>product_title</th>\n",
       "      <th>search_term</th>\n",
       "      <th>relevance</th>\n",
       "      <th>product_description</th>\n",
       "      <th>product_brand</th>\n",
       "    </tr>\n",
       "  </thead>\n",
       "  <tbody>\n",
       "    <tr>\n",
       "      <th>0</th>\n",
       "      <td>2</td>\n",
       "      <td>100001</td>\n",
       "      <td>Simpson Strong-Tie 12-Gauge Angle</td>\n",
       "      <td>angle bracket</td>\n",
       "      <td>3.00</td>\n",
       "      <td>Not only do angles make joints stronger, they ...</td>\n",
       "      <td>Simpson Strong-Tie</td>\n",
       "    </tr>\n",
       "    <tr>\n",
       "      <th>1</th>\n",
       "      <td>3</td>\n",
       "      <td>100001</td>\n",
       "      <td>Simpson Strong-Tie 12-Gauge Angle</td>\n",
       "      <td>l bracket</td>\n",
       "      <td>2.50</td>\n",
       "      <td>Not only do angles make joints stronger, they ...</td>\n",
       "      <td>Simpson Strong-Tie</td>\n",
       "    </tr>\n",
       "    <tr>\n",
       "      <th>2</th>\n",
       "      <td>9</td>\n",
       "      <td>100002</td>\n",
       "      <td>BEHR Premium Textured DeckOver 1-gal. #SC-141 ...</td>\n",
       "      <td>deck over</td>\n",
       "      <td>3.00</td>\n",
       "      <td>BEHR Premium Textured DECKOVER is an innovativ...</td>\n",
       "      <td>BEHR Premium Textured DeckOver</td>\n",
       "    </tr>\n",
       "    <tr>\n",
       "      <th>3</th>\n",
       "      <td>16</td>\n",
       "      <td>100005</td>\n",
       "      <td>Delta Vero 1-Handle Shower Only Faucet Trim Ki...</td>\n",
       "      <td>rain shower head</td>\n",
       "      <td>2.33</td>\n",
       "      <td>Update your bathroom with the Delta Vero Singl...</td>\n",
       "      <td>Delta</td>\n",
       "    </tr>\n",
       "    <tr>\n",
       "      <th>4</th>\n",
       "      <td>17</td>\n",
       "      <td>100005</td>\n",
       "      <td>Delta Vero 1-Handle Shower Only Faucet Trim Ki...</td>\n",
       "      <td>shower only faucet</td>\n",
       "      <td>2.67</td>\n",
       "      <td>Update your bathroom with the Delta Vero Singl...</td>\n",
       "      <td>Delta</td>\n",
       "    </tr>\n",
       "  </tbody>\n",
       "</table>\n",
       "</div>"
      ],
      "text/plain": [
       "   id  product_uid                                      product_title  \\\n",
       "0   2       100001                  Simpson Strong-Tie 12-Gauge Angle   \n",
       "1   3       100001                  Simpson Strong-Tie 12-Gauge Angle   \n",
       "2   9       100002  BEHR Premium Textured DeckOver 1-gal. #SC-141 ...   \n",
       "3  16       100005  Delta Vero 1-Handle Shower Only Faucet Trim Ki...   \n",
       "4  17       100005  Delta Vero 1-Handle Shower Only Faucet Trim Ki...   \n",
       "\n",
       "          search_term  relevance  \\\n",
       "0       angle bracket       3.00   \n",
       "1           l bracket       2.50   \n",
       "2           deck over       3.00   \n",
       "3    rain shower head       2.33   \n",
       "4  shower only faucet       2.67   \n",
       "\n",
       "                                 product_description  \\\n",
       "0  Not only do angles make joints stronger, they ...   \n",
       "1  Not only do angles make joints stronger, they ...   \n",
       "2  BEHR Premium Textured DECKOVER is an innovativ...   \n",
       "3  Update your bathroom with the Delta Vero Singl...   \n",
       "4  Update your bathroom with the Delta Vero Singl...   \n",
       "\n",
       "                    product_brand  \n",
       "0              Simpson Strong-Tie  \n",
       "1              Simpson Strong-Tie  \n",
       "2  BEHR Premium Textured DeckOver  \n",
       "3                           Delta  \n",
       "4                           Delta  "
      ]
     },
     "execution_count": 13,
     "metadata": {},
     "output_type": "execute_result"
    }
   ],
   "source": [
    "dfAll.head()"
   ]
  },
  {
   "cell_type": "markdown",
   "metadata": {},
   "source": [
    "前置單一底線 _$(object) ：用於類別內部使用，from M import *並無法直接使用此類的物件。此種用法類似於在class中定義private的method或是attribute。"
   ]
  },
  {
   "cell_type": "markdown",
   "metadata": {},
   "source": [
    "If using 'single leading underscore', it means the function only design for this case.<br>\n",
    "Engineering view: weak \"internal use\" indicator. E.g. from M import * does not import objects whose name starts with an underscore."
   ]
  },
  {
   "cell_type": "markdown",
   "metadata": {},
   "source": [
    "<div class=\"alert alert-success\" role=\"alert\">\n",
    "  <h4 class=\"alert-heading\">Note!</h4>\n",
    "<strong>\n",
    "1. If using 'single leading underscore', it means the function only design for this case.<br>\n",
    "2. Engineering view: weak \"internal use\" indicator. E.g. from M import * does not import objects whose name starts with an underscore.<br> \n",
    "3. Sometime, the uncompleted function will add a single leading underscore in the function name.</strong>"
   ]
  },
  {
   "cell_type": "code",
   "execution_count": 14,
   "metadata": {},
   "outputs": [
    {
     "data": {
      "text/plain": [
       "0"
      ]
     },
     "execution_count": 14,
     "metadata": {},
     "output_type": "execute_result"
    }
   ],
   "source": [
    "# merge product color from attributes\n",
    "color_columns = ['Color Family', 'Color/Finish', 'Color', 'Color/Finish Family', 'Fixture Color/Finish']\n",
    "dfColor = dfAttr[dfAttr.name.isin(color_columns)][[\"product_uid\", \"value\"]].rename(columns={\"value\": \"product_color\"})\n",
    "dfColor.dropna(how=\"all\", inplace=True)  # the command is redundant in this case\n",
    "_agg_color = lambda df: \" \".join(list(set(df[\"product_color\"])))\n",
    "dfColor = dfColor.groupby(\"product_uid\").apply(_agg_color)\n",
    "dfColor = dfColor.reset_index(name=\"product_color\")\n",
    "dfColor[\"product_color\"] = dfColor[\"product_color\"].values.astype(str)\n",
    "dfAll = pd.merge(dfAll, dfColor, on=\"product_uid\", how=\"left\")\n",
    "dfAll.fillna(config.MISSING_VALUE_STRING, inplace=True)\n",
    "del dfColor\n",
    "gc.collect()"
   ]
  },
  {
   "cell_type": "code",
   "execution_count": 15,
   "metadata": {},
   "outputs": [
    {
     "data": {
      "text/html": [
       "<div>\n",
       "<style scoped>\n",
       "    .dataframe tbody tr th:only-of-type {\n",
       "        vertical-align: middle;\n",
       "    }\n",
       "\n",
       "    .dataframe tbody tr th {\n",
       "        vertical-align: top;\n",
       "    }\n",
       "\n",
       "    .dataframe thead th {\n",
       "        text-align: right;\n",
       "    }\n",
       "</style>\n",
       "<table border=\"1\" class=\"dataframe\">\n",
       "  <thead>\n",
       "    <tr style=\"text-align: right;\">\n",
       "      <th></th>\n",
       "      <th>id</th>\n",
       "      <th>product_uid</th>\n",
       "      <th>product_title</th>\n",
       "      <th>search_term</th>\n",
       "      <th>relevance</th>\n",
       "      <th>product_description</th>\n",
       "      <th>product_brand</th>\n",
       "      <th>product_color</th>\n",
       "    </tr>\n",
       "  </thead>\n",
       "  <tbody>\n",
       "    <tr>\n",
       "      <th>0</th>\n",
       "      <td>2</td>\n",
       "      <td>100001</td>\n",
       "      <td>Simpson Strong-Tie 12-Gauge Angle</td>\n",
       "      <td>angle bracket</td>\n",
       "      <td>3.00</td>\n",
       "      <td>Not only do angles make joints stronger, they ...</td>\n",
       "      <td>Simpson Strong-Tie</td>\n",
       "      <td>MISSINGVALUE</td>\n",
       "    </tr>\n",
       "    <tr>\n",
       "      <th>1</th>\n",
       "      <td>3</td>\n",
       "      <td>100001</td>\n",
       "      <td>Simpson Strong-Tie 12-Gauge Angle</td>\n",
       "      <td>l bracket</td>\n",
       "      <td>2.50</td>\n",
       "      <td>Not only do angles make joints stronger, they ...</td>\n",
       "      <td>Simpson Strong-Tie</td>\n",
       "      <td>MISSINGVALUE</td>\n",
       "    </tr>\n",
       "    <tr>\n",
       "      <th>2</th>\n",
       "      <td>9</td>\n",
       "      <td>100002</td>\n",
       "      <td>BEHR Premium Textured DeckOver 1-gal. #SC-141 ...</td>\n",
       "      <td>deck over</td>\n",
       "      <td>3.00</td>\n",
       "      <td>BEHR Premium Textured DECKOVER is an innovativ...</td>\n",
       "      <td>BEHR Premium Textured DeckOver</td>\n",
       "      <td>Tugboat Browns / Tans</td>\n",
       "    </tr>\n",
       "    <tr>\n",
       "      <th>3</th>\n",
       "      <td>16</td>\n",
       "      <td>100005</td>\n",
       "      <td>Delta Vero 1-Handle Shower Only Faucet Trim Ki...</td>\n",
       "      <td>rain shower head</td>\n",
       "      <td>2.33</td>\n",
       "      <td>Update your bathroom with the Delta Vero Singl...</td>\n",
       "      <td>Delta</td>\n",
       "      <td>Chrome</td>\n",
       "    </tr>\n",
       "    <tr>\n",
       "      <th>4</th>\n",
       "      <td>17</td>\n",
       "      <td>100005</td>\n",
       "      <td>Delta Vero 1-Handle Shower Only Faucet Trim Ki...</td>\n",
       "      <td>shower only faucet</td>\n",
       "      <td>2.67</td>\n",
       "      <td>Update your bathroom with the Delta Vero Singl...</td>\n",
       "      <td>Delta</td>\n",
       "      <td>Chrome</td>\n",
       "    </tr>\n",
       "  </tbody>\n",
       "</table>\n",
       "</div>"
      ],
      "text/plain": [
       "   id  product_uid                                      product_title  \\\n",
       "0   2       100001                  Simpson Strong-Tie 12-Gauge Angle   \n",
       "1   3       100001                  Simpson Strong-Tie 12-Gauge Angle   \n",
       "2   9       100002  BEHR Premium Textured DeckOver 1-gal. #SC-141 ...   \n",
       "3  16       100005  Delta Vero 1-Handle Shower Only Faucet Trim Ki...   \n",
       "4  17       100005  Delta Vero 1-Handle Shower Only Faucet Trim Ki...   \n",
       "\n",
       "          search_term  relevance  \\\n",
       "0       angle bracket       3.00   \n",
       "1           l bracket       2.50   \n",
       "2           deck over       3.00   \n",
       "3    rain shower head       2.33   \n",
       "4  shower only faucet       2.67   \n",
       "\n",
       "                                 product_description  \\\n",
       "0  Not only do angles make joints stronger, they ...   \n",
       "1  Not only do angles make joints stronger, they ...   \n",
       "2  BEHR Premium Textured DECKOVER is an innovativ...   \n",
       "3  Update your bathroom with the Delta Vero Singl...   \n",
       "4  Update your bathroom with the Delta Vero Singl...   \n",
       "\n",
       "                    product_brand          product_color  \n",
       "0              Simpson Strong-Tie           MISSINGVALUE  \n",
       "1              Simpson Strong-Tie           MISSINGVALUE  \n",
       "2  BEHR Premium Textured DeckOver  Tugboat Browns / Tans  \n",
       "3                           Delta                 Chrome  \n",
       "4                           Delta                 Chrome  "
      ]
     },
     "execution_count": 15,
     "metadata": {},
     "output_type": "execute_result"
    }
   ],
   "source": [
    "dfAll.head()"
   ]
  },
  {
   "cell_type": "markdown",
   "metadata": {},
   "source": [
    "<code style=\"background:yellow;color:black\">***The number of attributes is different from each product, so covert each attributes to the text and use '|' to separate them.***</code>"
   ]
  },
  {
   "cell_type": "code",
   "execution_count": 16,
   "metadata": {},
   "outputs": [
    {
     "data": {
      "text/plain": [
       "0"
      ]
     },
     "execution_count": 16,
     "metadata": {},
     "output_type": "execute_result"
    }
   ],
   "source": [
    "# merge product attribute\n",
    "_agg_attr = lambda df: config.ATTR_SEPARATOR.join(df[\"name\"] + config.ATTR_SEPARATOR + df[\"value\"])\n",
    "dfAttr = dfAttr.groupby(\"product_uid\").apply(_agg_attr)\n",
    "dfAttr = dfAttr.reset_index(name=\"product_attribute_concat\")\n",
    "dfAll = pd.merge(dfAll, dfAttr, on=\"product_uid\", how=\"left\")\n",
    "dfAll.fillna(config.MISSING_VALUE_STRING, inplace=True)\n",
    "del dfAttr\n",
    "gc.collect()"
   ]
  },
  {
   "cell_type": "code",
   "execution_count": 17,
   "metadata": {},
   "outputs": [
    {
     "data": {
      "text/html": [
       "<div>\n",
       "<style scoped>\n",
       "    .dataframe tbody tr th:only-of-type {\n",
       "        vertical-align: middle;\n",
       "    }\n",
       "\n",
       "    .dataframe tbody tr th {\n",
       "        vertical-align: top;\n",
       "    }\n",
       "\n",
       "    .dataframe thead th {\n",
       "        text-align: right;\n",
       "    }\n",
       "</style>\n",
       "<table border=\"1\" class=\"dataframe\">\n",
       "  <thead>\n",
       "    <tr style=\"text-align: right;\">\n",
       "      <th></th>\n",
       "      <th>id</th>\n",
       "      <th>product_uid</th>\n",
       "      <th>product_title</th>\n",
       "      <th>search_term</th>\n",
       "      <th>relevance</th>\n",
       "      <th>product_description</th>\n",
       "      <th>product_brand</th>\n",
       "      <th>product_color</th>\n",
       "      <th>product_attribute_concat</th>\n",
       "    </tr>\n",
       "  </thead>\n",
       "  <tbody>\n",
       "    <tr>\n",
       "      <th>0</th>\n",
       "      <td>2</td>\n",
       "      <td>100001</td>\n",
       "      <td>Simpson Strong-Tie 12-Gauge Angle</td>\n",
       "      <td>angle bracket</td>\n",
       "      <td>3.00</td>\n",
       "      <td>Not only do angles make joints stronger, they ...</td>\n",
       "      <td>Simpson Strong-Tie</td>\n",
       "      <td>MISSINGVALUE</td>\n",
       "      <td>Bullet01 | Versatile connector for various 90°...</td>\n",
       "    </tr>\n",
       "    <tr>\n",
       "      <th>1</th>\n",
       "      <td>3</td>\n",
       "      <td>100001</td>\n",
       "      <td>Simpson Strong-Tie 12-Gauge Angle</td>\n",
       "      <td>l bracket</td>\n",
       "      <td>2.50</td>\n",
       "      <td>Not only do angles make joints stronger, they ...</td>\n",
       "      <td>Simpson Strong-Tie</td>\n",
       "      <td>MISSINGVALUE</td>\n",
       "      <td>Bullet01 | Versatile connector for various 90°...</td>\n",
       "    </tr>\n",
       "    <tr>\n",
       "      <th>2</th>\n",
       "      <td>9</td>\n",
       "      <td>100002</td>\n",
       "      <td>BEHR Premium Textured DeckOver 1-gal. #SC-141 ...</td>\n",
       "      <td>deck over</td>\n",
       "      <td>3.00</td>\n",
       "      <td>BEHR Premium Textured DECKOVER is an innovativ...</td>\n",
       "      <td>BEHR Premium Textured DeckOver</td>\n",
       "      <td>Tugboat Browns / Tans</td>\n",
       "      <td>Application Method | Brush,Roller,Spray | Asse...</td>\n",
       "    </tr>\n",
       "    <tr>\n",
       "      <th>3</th>\n",
       "      <td>16</td>\n",
       "      <td>100005</td>\n",
       "      <td>Delta Vero 1-Handle Shower Only Faucet Trim Ki...</td>\n",
       "      <td>rain shower head</td>\n",
       "      <td>2.33</td>\n",
       "      <td>Update your bathroom with the Delta Vero Singl...</td>\n",
       "      <td>Delta</td>\n",
       "      <td>Chrome</td>\n",
       "      <td>Bath Faucet Type | Combo Tub and Shower | Buil...</td>\n",
       "    </tr>\n",
       "    <tr>\n",
       "      <th>4</th>\n",
       "      <td>17</td>\n",
       "      <td>100005</td>\n",
       "      <td>Delta Vero 1-Handle Shower Only Faucet Trim Ki...</td>\n",
       "      <td>shower only faucet</td>\n",
       "      <td>2.67</td>\n",
       "      <td>Update your bathroom with the Delta Vero Singl...</td>\n",
       "      <td>Delta</td>\n",
       "      <td>Chrome</td>\n",
       "      <td>Bath Faucet Type | Combo Tub and Shower | Buil...</td>\n",
       "    </tr>\n",
       "  </tbody>\n",
       "</table>\n",
       "</div>"
      ],
      "text/plain": [
       "   id  product_uid                                      product_title  \\\n",
       "0   2       100001                  Simpson Strong-Tie 12-Gauge Angle   \n",
       "1   3       100001                  Simpson Strong-Tie 12-Gauge Angle   \n",
       "2   9       100002  BEHR Premium Textured DeckOver 1-gal. #SC-141 ...   \n",
       "3  16       100005  Delta Vero 1-Handle Shower Only Faucet Trim Ki...   \n",
       "4  17       100005  Delta Vero 1-Handle Shower Only Faucet Trim Ki...   \n",
       "\n",
       "          search_term  relevance  \\\n",
       "0       angle bracket       3.00   \n",
       "1           l bracket       2.50   \n",
       "2           deck over       3.00   \n",
       "3    rain shower head       2.33   \n",
       "4  shower only faucet       2.67   \n",
       "\n",
       "                                 product_description  \\\n",
       "0  Not only do angles make joints stronger, they ...   \n",
       "1  Not only do angles make joints stronger, they ...   \n",
       "2  BEHR Premium Textured DECKOVER is an innovativ...   \n",
       "3  Update your bathroom with the Delta Vero Singl...   \n",
       "4  Update your bathroom with the Delta Vero Singl...   \n",
       "\n",
       "                    product_brand          product_color  \\\n",
       "0              Simpson Strong-Tie           MISSINGVALUE   \n",
       "1              Simpson Strong-Tie           MISSINGVALUE   \n",
       "2  BEHR Premium Textured DeckOver  Tugboat Browns / Tans   \n",
       "3                           Delta                 Chrome   \n",
       "4                           Delta                 Chrome   \n",
       "\n",
       "                            product_attribute_concat  \n",
       "0  Bullet01 | Versatile connector for various 90°...  \n",
       "1  Bullet01 | Versatile connector for various 90°...  \n",
       "2  Application Method | Brush,Roller,Spray | Asse...  \n",
       "3  Bath Faucet Type | Combo Tub and Shower | Buil...  \n",
       "4  Bath Faucet Type | Combo Tub and Shower | Buil...  "
      ]
     },
     "execution_count": 17,
     "metadata": {},
     "output_type": "execute_result"
    }
   ],
   "source": [
    "dfAll.head()"
   ]
  },
  {
   "cell_type": "code",
   "execution_count": 18,
   "metadata": {},
   "outputs": [],
   "source": [
    "# save data\n",
    "if config.TASK == 'sample':\n",
    "    dfAll = dfAll.iloc[:config.SAMPLE_SIZE].copy() # in this case \".copy\" is redundant\n",
    "pkl_utils._save(config.ALL_DATA_RAW, dfAll)\n",
    "\n",
    "# info\n",
    "dfInfo = dfAll[['id','relevance']].copy()\n",
    "pkl_utils._save(config.INFO_DATA, dfInfo)"
   ]
  },
  {
   "cell_type": "code",
   "execution_count": 19,
   "metadata": {},
   "outputs": [
    {
     "name": "stderr",
     "output_type": "stream",
     "text": [
      "[NbConvertApp] Converting notebook data_preparer.ipynb to script\n",
      "[NbConvertApp] Writing 7702 bytes to data_preparer.py\n"
     ]
    }
   ],
   "source": [
    "# convert notebook.ipynb to a .py file\n",
    "!jupytext --to py data_preparer.ipynb"
   ]
  },
  {
   "cell_type": "code",
   "execution_count": null,
   "metadata": {},
   "outputs": [],
   "source": []
  },
  {
   "cell_type": "code",
   "execution_count": null,
   "metadata": {},
   "outputs": [],
   "source": []
  }
 ],
 "metadata": {
  "kernelspec": {
   "display_name": "Python 3",
   "language": "python",
   "name": "python3"
  },
  "language_info": {
   "codemirror_mode": {
    "name": "ipython",
    "version": 3
   },
   "file_extension": ".py",
   "mimetype": "text/x-python",
   "name": "python",
   "nbconvert_exporter": "python",
   "pygments_lexer": "ipython3",
   "version": "3.7.7"
  },
  "toc-autonumbering": false,
  "toc-showcode": false,
  "toc-showmarkdowntxt": true
 },
 "nbformat": 4,
 "nbformat_minor": 4
}
