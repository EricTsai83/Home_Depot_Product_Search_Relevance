{
 "cells": [
  {
   "cell_type": "markdown",
   "metadata": {
    "slideshow": {
     "slide_type": "slide"
    }
   },
   "source": [
    "# Exploratory Data Analysis (EDA)"
   ]
  },
  {
   "cell_type": "markdown",
   "metadata": {},
   "source": [
    "## Table of contents\n",
    "* [1. Import libraries](#1.-Import-libraries)\n",
    "* [2. Dataset Overview](#2.-Dataset-Overview)\n",
    "* [3. EDA](#3.-EDA)\n",
    "    * [3.1 Deal with Traing Data](#3.1-Deal-with-Traing-Data)\n",
    "    * [3.2 Deal with Attributes](#3.2-Deal-with-Attributes)\n",
    "    * [3.3 Deal with Product Descriptions](#3.3-Deal-with-Product-Descriptions)\n",
    "* [4. EDA Final Report](#4.-EDA-Final-Report)\n",
    "    "
   ]
  },
  {
   "cell_type": "markdown",
   "metadata": {},
   "source": [
    "## 1. Import libraries"
   ]
  },
  {
   "cell_type": "code",
   "execution_count": 1,
   "metadata": {},
   "outputs": [],
   "source": [
    "# basic libraries\n",
    "import pandas as pd\n",
    "import numpy as np\n",
    "\n",
    "# help data frame can show side by side \n",
    "from IPython.display import display,HTML\n",
    "\n",
    "# statistic libraries\n",
    "import seaborn as sns\n",
    "from scipy.stats import norm\n",
    "from scipy import stats\n",
    "# plot\n",
    "import matplotlib.pyplot as plt\n",
    "\n",
    "\n",
    "# release memory \n",
    "import gc \n",
    "\n",
    "# loop step\n",
    "from tqdm import tqdm\n",
    "\n",
    "# print color text\n",
    "from termcolor import colored"
   ]
  },
  {
   "cell_type": "code",
   "execution_count": 2,
   "metadata": {},
   "outputs": [],
   "source": [
    "df_train = pd.read_csv('../Data/train.csv', encoding=\"ISO-8859-1\")\n",
    "df_test = pd.read_csv('../Data/test.csv', encoding=\"ISO-8859-1\")\n",
    "df_attributes = pd.read_csv('../Data/attributes.csv')\n",
    "df_product_descriptions = pd.read_csv('../Data/product_descriptions.csv')"
   ]
  },
  {
   "cell_type": "markdown",
   "metadata": {},
   "source": [
    "## 2. Dataset Overview"
   ]
  },
  {
   "cell_type": "code",
   "execution_count": 3,
   "metadata": {},
   "outputs": [],
   "source": [
    "# let data frame display flexible, show whole value in cell\n",
    "def grid_df_display(list_df, list_df_name, list_number_of_data, row = 1, col=1, fill = 'cols'):\n",
    "    html_table = \"<table style='width:100%; border:0px'>{content}</table>\"\n",
    "    html_row = \"<tr style='border:0px'>{content}</tr>\"\n",
    "    html_cell = \"<td style='width:{width}%;vertical-align:top;border:0px'>{{content}}</td>\"\n",
    "    html_cell = html_cell.format(width=100/col)\n",
    "    \n",
    "    li = []\n",
    "    for i in range(len(list_df)):\n",
    "        li.append(list_df[i].head(list_number_of_data[i]).\n",
    "                  style.set_table_attributes(\"style='display:inline'\").\n",
    "                  set_caption(f'<b><H2>{list_df_name[i]}<H2></b>')\n",
    "                 )\n",
    "    \n",
    "    \n",
    "    cell = [ html_cell.format(content=df.render()) for df in li[:row*col] ]\n",
    "    cell += col * [html_cell.format(content=\"\")] # pad\n",
    "\n",
    "    if fill == 'row': #fill in rows first (first row: 0,1,2,... col-1)\n",
    "        grid = [ html_row.format(content=\"\".join(cell[i:i+col])) for i in range(0,row*col,col)]\n",
    "\n",
    "    if fill == 'col': #fill columns first (first column: 0,1,2,..., rows-1)\n",
    "        grid = [ html_row.format(content=\"\".join(cell[i:row*col:row])) for i in range(0,row)]\n",
    "    \n",
    "    display(HTML(html_table.format(content=\"\".join(grid))))"
   ]
  },
  {
   "cell_type": "code",
   "execution_count": 4,
   "metadata": {},
   "outputs": [
    {
     "data": {
      "text/html": [
       "<table style='width:100%; border:0px'><tr style='border:0px'><td style='width:50.0%;vertical-align:top;border:0px'><style  type=\"text/css\" >\n",
       "</style><table id=\"T_7f51935c_79a3_11eb_a5c1_2c56dc262bbd\" style='display:inline'><caption><b><H2>Traing Data<H2></b></caption><thead>    <tr>        <th class=\"blank level0\" ></th>        <th class=\"col_heading level0 col0\" >id</th>        <th class=\"col_heading level0 col1\" >product_uid</th>        <th class=\"col_heading level0 col2\" >product_title</th>        <th class=\"col_heading level0 col3\" >search_term</th>        <th class=\"col_heading level0 col4\" >relevance</th>    </tr></thead><tbody>\n",
       "                <tr>\n",
       "                        <th id=\"T_7f51935c_79a3_11eb_a5c1_2c56dc262bbdlevel0_row0\" class=\"row_heading level0 row0\" >0</th>\n",
       "                        <td id=\"T_7f51935c_79a3_11eb_a5c1_2c56dc262bbdrow0_col0\" class=\"data row0 col0\" >2</td>\n",
       "                        <td id=\"T_7f51935c_79a3_11eb_a5c1_2c56dc262bbdrow0_col1\" class=\"data row0 col1\" >100001</td>\n",
       "                        <td id=\"T_7f51935c_79a3_11eb_a5c1_2c56dc262bbdrow0_col2\" class=\"data row0 col2\" >Simpson Strong-Tie 12-Gauge Angle</td>\n",
       "                        <td id=\"T_7f51935c_79a3_11eb_a5c1_2c56dc262bbdrow0_col3\" class=\"data row0 col3\" >angle bracket</td>\n",
       "                        <td id=\"T_7f51935c_79a3_11eb_a5c1_2c56dc262bbdrow0_col4\" class=\"data row0 col4\" >3.000000</td>\n",
       "            </tr>\n",
       "            <tr>\n",
       "                        <th id=\"T_7f51935c_79a3_11eb_a5c1_2c56dc262bbdlevel0_row1\" class=\"row_heading level0 row1\" >1</th>\n",
       "                        <td id=\"T_7f51935c_79a3_11eb_a5c1_2c56dc262bbdrow1_col0\" class=\"data row1 col0\" >3</td>\n",
       "                        <td id=\"T_7f51935c_79a3_11eb_a5c1_2c56dc262bbdrow1_col1\" class=\"data row1 col1\" >100001</td>\n",
       "                        <td id=\"T_7f51935c_79a3_11eb_a5c1_2c56dc262bbdrow1_col2\" class=\"data row1 col2\" >Simpson Strong-Tie 12-Gauge Angle</td>\n",
       "                        <td id=\"T_7f51935c_79a3_11eb_a5c1_2c56dc262bbdrow1_col3\" class=\"data row1 col3\" >l bracket</td>\n",
       "                        <td id=\"T_7f51935c_79a3_11eb_a5c1_2c56dc262bbdrow1_col4\" class=\"data row1 col4\" >2.500000</td>\n",
       "            </tr>\n",
       "            <tr>\n",
       "                        <th id=\"T_7f51935c_79a3_11eb_a5c1_2c56dc262bbdlevel0_row2\" class=\"row_heading level0 row2\" >2</th>\n",
       "                        <td id=\"T_7f51935c_79a3_11eb_a5c1_2c56dc262bbdrow2_col0\" class=\"data row2 col0\" >9</td>\n",
       "                        <td id=\"T_7f51935c_79a3_11eb_a5c1_2c56dc262bbdrow2_col1\" class=\"data row2 col1\" >100002</td>\n",
       "                        <td id=\"T_7f51935c_79a3_11eb_a5c1_2c56dc262bbdrow2_col2\" class=\"data row2 col2\" >BEHR Premium Textured DeckOver 1-gal. #SC-141 Tugboat Wood and Concrete Coating</td>\n",
       "                        <td id=\"T_7f51935c_79a3_11eb_a5c1_2c56dc262bbdrow2_col3\" class=\"data row2 col3\" >deck over</td>\n",
       "                        <td id=\"T_7f51935c_79a3_11eb_a5c1_2c56dc262bbdrow2_col4\" class=\"data row2 col4\" >3.000000</td>\n",
       "            </tr>\n",
       "            <tr>\n",
       "                        <th id=\"T_7f51935c_79a3_11eb_a5c1_2c56dc262bbdlevel0_row3\" class=\"row_heading level0 row3\" >3</th>\n",
       "                        <td id=\"T_7f51935c_79a3_11eb_a5c1_2c56dc262bbdrow3_col0\" class=\"data row3 col0\" >16</td>\n",
       "                        <td id=\"T_7f51935c_79a3_11eb_a5c1_2c56dc262bbdrow3_col1\" class=\"data row3 col1\" >100005</td>\n",
       "                        <td id=\"T_7f51935c_79a3_11eb_a5c1_2c56dc262bbdrow3_col2\" class=\"data row3 col2\" >Delta Vero 1-Handle Shower Only Faucet Trim Kit in Chrome (Valve Not Included)</td>\n",
       "                        <td id=\"T_7f51935c_79a3_11eb_a5c1_2c56dc262bbdrow3_col3\" class=\"data row3 col3\" >rain shower head</td>\n",
       "                        <td id=\"T_7f51935c_79a3_11eb_a5c1_2c56dc262bbdrow3_col4\" class=\"data row3 col4\" >2.330000</td>\n",
       "            </tr>\n",
       "            <tr>\n",
       "                        <th id=\"T_7f51935c_79a3_11eb_a5c1_2c56dc262bbdlevel0_row4\" class=\"row_heading level0 row4\" >4</th>\n",
       "                        <td id=\"T_7f51935c_79a3_11eb_a5c1_2c56dc262bbdrow4_col0\" class=\"data row4 col0\" >17</td>\n",
       "                        <td id=\"T_7f51935c_79a3_11eb_a5c1_2c56dc262bbdrow4_col1\" class=\"data row4 col1\" >100005</td>\n",
       "                        <td id=\"T_7f51935c_79a3_11eb_a5c1_2c56dc262bbdrow4_col2\" class=\"data row4 col2\" >Delta Vero 1-Handle Shower Only Faucet Trim Kit in Chrome (Valve Not Included)</td>\n",
       "                        <td id=\"T_7f51935c_79a3_11eb_a5c1_2c56dc262bbdrow4_col3\" class=\"data row4 col3\" >shower only faucet</td>\n",
       "                        <td id=\"T_7f51935c_79a3_11eb_a5c1_2c56dc262bbdrow4_col4\" class=\"data row4 col4\" >2.670000</td>\n",
       "            </tr>\n",
       "    </tbody></table></td><td style='width:50.0%;vertical-align:top;border:0px'><style  type=\"text/css\" >\n",
       "</style><table id=\"T_7f52f2e2_79a3_11eb_b554_2c56dc262bbd\" style='display:inline'><caption><b><H2>Test Data<H2></b></caption><thead>    <tr>        <th class=\"blank level0\" ></th>        <th class=\"col_heading level0 col0\" >id</th>        <th class=\"col_heading level0 col1\" >product_uid</th>        <th class=\"col_heading level0 col2\" >product_title</th>        <th class=\"col_heading level0 col3\" >search_term</th>    </tr></thead><tbody>\n",
       "                <tr>\n",
       "                        <th id=\"T_7f52f2e2_79a3_11eb_b554_2c56dc262bbdlevel0_row0\" class=\"row_heading level0 row0\" >0</th>\n",
       "                        <td id=\"T_7f52f2e2_79a3_11eb_b554_2c56dc262bbdrow0_col0\" class=\"data row0 col0\" >1</td>\n",
       "                        <td id=\"T_7f52f2e2_79a3_11eb_b554_2c56dc262bbdrow0_col1\" class=\"data row0 col1\" >100001</td>\n",
       "                        <td id=\"T_7f52f2e2_79a3_11eb_b554_2c56dc262bbdrow0_col2\" class=\"data row0 col2\" >Simpson Strong-Tie 12-Gauge Angle</td>\n",
       "                        <td id=\"T_7f52f2e2_79a3_11eb_b554_2c56dc262bbdrow0_col3\" class=\"data row0 col3\" >90 degree bracket</td>\n",
       "            </tr>\n",
       "            <tr>\n",
       "                        <th id=\"T_7f52f2e2_79a3_11eb_b554_2c56dc262bbdlevel0_row1\" class=\"row_heading level0 row1\" >1</th>\n",
       "                        <td id=\"T_7f52f2e2_79a3_11eb_b554_2c56dc262bbdrow1_col0\" class=\"data row1 col0\" >4</td>\n",
       "                        <td id=\"T_7f52f2e2_79a3_11eb_b554_2c56dc262bbdrow1_col1\" class=\"data row1 col1\" >100001</td>\n",
       "                        <td id=\"T_7f52f2e2_79a3_11eb_b554_2c56dc262bbdrow1_col2\" class=\"data row1 col2\" >Simpson Strong-Tie 12-Gauge Angle</td>\n",
       "                        <td id=\"T_7f52f2e2_79a3_11eb_b554_2c56dc262bbdrow1_col3\" class=\"data row1 col3\" >metal l brackets</td>\n",
       "            </tr>\n",
       "            <tr>\n",
       "                        <th id=\"T_7f52f2e2_79a3_11eb_b554_2c56dc262bbdlevel0_row2\" class=\"row_heading level0 row2\" >2</th>\n",
       "                        <td id=\"T_7f52f2e2_79a3_11eb_b554_2c56dc262bbdrow2_col0\" class=\"data row2 col0\" >5</td>\n",
       "                        <td id=\"T_7f52f2e2_79a3_11eb_b554_2c56dc262bbdrow2_col1\" class=\"data row2 col1\" >100001</td>\n",
       "                        <td id=\"T_7f52f2e2_79a3_11eb_b554_2c56dc262bbdrow2_col2\" class=\"data row2 col2\" >Simpson Strong-Tie 12-Gauge Angle</td>\n",
       "                        <td id=\"T_7f52f2e2_79a3_11eb_b554_2c56dc262bbdrow2_col3\" class=\"data row2 col3\" >simpson sku able</td>\n",
       "            </tr>\n",
       "            <tr>\n",
       "                        <th id=\"T_7f52f2e2_79a3_11eb_b554_2c56dc262bbdlevel0_row3\" class=\"row_heading level0 row3\" >3</th>\n",
       "                        <td id=\"T_7f52f2e2_79a3_11eb_b554_2c56dc262bbdrow3_col0\" class=\"data row3 col0\" >6</td>\n",
       "                        <td id=\"T_7f52f2e2_79a3_11eb_b554_2c56dc262bbdrow3_col1\" class=\"data row3 col1\" >100001</td>\n",
       "                        <td id=\"T_7f52f2e2_79a3_11eb_b554_2c56dc262bbdrow3_col2\" class=\"data row3 col2\" >Simpson Strong-Tie 12-Gauge Angle</td>\n",
       "                        <td id=\"T_7f52f2e2_79a3_11eb_b554_2c56dc262bbdrow3_col3\" class=\"data row3 col3\" >simpson strong  ties</td>\n",
       "            </tr>\n",
       "            <tr>\n",
       "                        <th id=\"T_7f52f2e2_79a3_11eb_b554_2c56dc262bbdlevel0_row4\" class=\"row_heading level0 row4\" >4</th>\n",
       "                        <td id=\"T_7f52f2e2_79a3_11eb_b554_2c56dc262bbdrow4_col0\" class=\"data row4 col0\" >7</td>\n",
       "                        <td id=\"T_7f52f2e2_79a3_11eb_b554_2c56dc262bbdrow4_col1\" class=\"data row4 col1\" >100001</td>\n",
       "                        <td id=\"T_7f52f2e2_79a3_11eb_b554_2c56dc262bbdrow4_col2\" class=\"data row4 col2\" >Simpson Strong-Tie 12-Gauge Angle</td>\n",
       "                        <td id=\"T_7f52f2e2_79a3_11eb_b554_2c56dc262bbdrow4_col3\" class=\"data row4 col3\" >simpson strong tie hcc668</td>\n",
       "            </tr>\n",
       "            <tr>\n",
       "                        <th id=\"T_7f52f2e2_79a3_11eb_b554_2c56dc262bbdlevel0_row5\" class=\"row_heading level0 row5\" >5</th>\n",
       "                        <td id=\"T_7f52f2e2_79a3_11eb_b554_2c56dc262bbdrow5_col0\" class=\"data row5 col0\" >8</td>\n",
       "                        <td id=\"T_7f52f2e2_79a3_11eb_b554_2c56dc262bbdrow5_col1\" class=\"data row5 col1\" >100001</td>\n",
       "                        <td id=\"T_7f52f2e2_79a3_11eb_b554_2c56dc262bbdrow5_col2\" class=\"data row5 col2\" >Simpson Strong-Tie 12-Gauge Angle</td>\n",
       "                        <td id=\"T_7f52f2e2_79a3_11eb_b554_2c56dc262bbdrow5_col3\" class=\"data row5 col3\" >wood connectors</td>\n",
       "            </tr>\n",
       "    </tbody></table></td></tr><tr style='border:0px'><td style='width:50.0%;vertical-align:top;border:0px'><style  type=\"text/css\" >\n",
       "</style><table id=\"T_7f51e188_79a3_11eb_9e9c_2c56dc262bbd\" style='display:inline'><caption><b><H2>Attributes<H2></b></caption><thead>    <tr>        <th class=\"blank level0\" ></th>        <th class=\"col_heading level0 col0\" >product_uid</th>        <th class=\"col_heading level0 col1\" >name</th>        <th class=\"col_heading level0 col2\" >value</th>    </tr></thead><tbody>\n",
       "                <tr>\n",
       "                        <th id=\"T_7f51e188_79a3_11eb_9e9c_2c56dc262bbdlevel0_row0\" class=\"row_heading level0 row0\" >0</th>\n",
       "                        <td id=\"T_7f51e188_79a3_11eb_9e9c_2c56dc262bbdrow0_col0\" class=\"data row0 col0\" >100001.000000</td>\n",
       "                        <td id=\"T_7f51e188_79a3_11eb_9e9c_2c56dc262bbdrow0_col1\" class=\"data row0 col1\" >Bullet01</td>\n",
       "                        <td id=\"T_7f51e188_79a3_11eb_9e9c_2c56dc262bbdrow0_col2\" class=\"data row0 col2\" >Versatile connector for various 90° connections and home repair projects</td>\n",
       "            </tr>\n",
       "            <tr>\n",
       "                        <th id=\"T_7f51e188_79a3_11eb_9e9c_2c56dc262bbdlevel0_row1\" class=\"row_heading level0 row1\" >1</th>\n",
       "                        <td id=\"T_7f51e188_79a3_11eb_9e9c_2c56dc262bbdrow1_col0\" class=\"data row1 col0\" >100001.000000</td>\n",
       "                        <td id=\"T_7f51e188_79a3_11eb_9e9c_2c56dc262bbdrow1_col1\" class=\"data row1 col1\" >Bullet02</td>\n",
       "                        <td id=\"T_7f51e188_79a3_11eb_9e9c_2c56dc262bbdrow1_col2\" class=\"data row1 col2\" >Stronger than angled nailing or screw fastening alone</td>\n",
       "            </tr>\n",
       "            <tr>\n",
       "                        <th id=\"T_7f51e188_79a3_11eb_9e9c_2c56dc262bbdlevel0_row2\" class=\"row_heading level0 row2\" >2</th>\n",
       "                        <td id=\"T_7f51e188_79a3_11eb_9e9c_2c56dc262bbdrow2_col0\" class=\"data row2 col0\" >100001.000000</td>\n",
       "                        <td id=\"T_7f51e188_79a3_11eb_9e9c_2c56dc262bbdrow2_col1\" class=\"data row2 col1\" >Bullet03</td>\n",
       "                        <td id=\"T_7f51e188_79a3_11eb_9e9c_2c56dc262bbdrow2_col2\" class=\"data row2 col2\" >Help ensure joints are consistently straight and strong</td>\n",
       "            </tr>\n",
       "            <tr>\n",
       "                        <th id=\"T_7f51e188_79a3_11eb_9e9c_2c56dc262bbdlevel0_row3\" class=\"row_heading level0 row3\" >3</th>\n",
       "                        <td id=\"T_7f51e188_79a3_11eb_9e9c_2c56dc262bbdrow3_col0\" class=\"data row3 col0\" >100001.000000</td>\n",
       "                        <td id=\"T_7f51e188_79a3_11eb_9e9c_2c56dc262bbdrow3_col1\" class=\"data row3 col1\" >Bullet04</td>\n",
       "                        <td id=\"T_7f51e188_79a3_11eb_9e9c_2c56dc262bbdrow3_col2\" class=\"data row3 col2\" >Dimensions: 3 in. x 3 in. x 1-1/2 in.</td>\n",
       "            </tr>\n",
       "            <tr>\n",
       "                        <th id=\"T_7f51e188_79a3_11eb_9e9c_2c56dc262bbdlevel0_row4\" class=\"row_heading level0 row4\" >4</th>\n",
       "                        <td id=\"T_7f51e188_79a3_11eb_9e9c_2c56dc262bbdrow4_col0\" class=\"data row4 col0\" >100001.000000</td>\n",
       "                        <td id=\"T_7f51e188_79a3_11eb_9e9c_2c56dc262bbdrow4_col1\" class=\"data row4 col1\" >Bullet05</td>\n",
       "                        <td id=\"T_7f51e188_79a3_11eb_9e9c_2c56dc262bbdrow4_col2\" class=\"data row4 col2\" >Made from 12-Gauge steel</td>\n",
       "            </tr>\n",
       "            <tr>\n",
       "                        <th id=\"T_7f51e188_79a3_11eb_9e9c_2c56dc262bbdlevel0_row5\" class=\"row_heading level0 row5\" >5</th>\n",
       "                        <td id=\"T_7f51e188_79a3_11eb_9e9c_2c56dc262bbdrow5_col0\" class=\"data row5 col0\" >100001.000000</td>\n",
       "                        <td id=\"T_7f51e188_79a3_11eb_9e9c_2c56dc262bbdrow5_col1\" class=\"data row5 col1\" >Bullet06</td>\n",
       "                        <td id=\"T_7f51e188_79a3_11eb_9e9c_2c56dc262bbdrow5_col2\" class=\"data row5 col2\" >Galvanized for extra corrosion resistance</td>\n",
       "            </tr>\n",
       "            <tr>\n",
       "                        <th id=\"T_7f51e188_79a3_11eb_9e9c_2c56dc262bbdlevel0_row6\" class=\"row_heading level0 row6\" >6</th>\n",
       "                        <td id=\"T_7f51e188_79a3_11eb_9e9c_2c56dc262bbdrow6_col0\" class=\"data row6 col0\" >100001.000000</td>\n",
       "                        <td id=\"T_7f51e188_79a3_11eb_9e9c_2c56dc262bbdrow6_col1\" class=\"data row6 col1\" >Bullet07</td>\n",
       "                        <td id=\"T_7f51e188_79a3_11eb_9e9c_2c56dc262bbdrow6_col2\" class=\"data row6 col2\" >Install with 10d common nails or #9 x 1-1/2 in. Strong-Drive SD screws</td>\n",
       "            </tr>\n",
       "            <tr>\n",
       "                        <th id=\"T_7f51e188_79a3_11eb_9e9c_2c56dc262bbdlevel0_row7\" class=\"row_heading level0 row7\" >7</th>\n",
       "                        <td id=\"T_7f51e188_79a3_11eb_9e9c_2c56dc262bbdrow7_col0\" class=\"data row7 col0\" >100001.000000</td>\n",
       "                        <td id=\"T_7f51e188_79a3_11eb_9e9c_2c56dc262bbdrow7_col1\" class=\"data row7 col1\" >Gauge</td>\n",
       "                        <td id=\"T_7f51e188_79a3_11eb_9e9c_2c56dc262bbdrow7_col2\" class=\"data row7 col2\" >12</td>\n",
       "            </tr>\n",
       "            <tr>\n",
       "                        <th id=\"T_7f51e188_79a3_11eb_9e9c_2c56dc262bbdlevel0_row8\" class=\"row_heading level0 row8\" >8</th>\n",
       "                        <td id=\"T_7f51e188_79a3_11eb_9e9c_2c56dc262bbdrow8_col0\" class=\"data row8 col0\" >100001.000000</td>\n",
       "                        <td id=\"T_7f51e188_79a3_11eb_9e9c_2c56dc262bbdrow8_col1\" class=\"data row8 col1\" >Material</td>\n",
       "                        <td id=\"T_7f51e188_79a3_11eb_9e9c_2c56dc262bbdrow8_col2\" class=\"data row8 col2\" >Galvanized Steel</td>\n",
       "            </tr>\n",
       "            <tr>\n",
       "                        <th id=\"T_7f51e188_79a3_11eb_9e9c_2c56dc262bbdlevel0_row9\" class=\"row_heading level0 row9\" >9</th>\n",
       "                        <td id=\"T_7f51e188_79a3_11eb_9e9c_2c56dc262bbdrow9_col0\" class=\"data row9 col0\" >100001.000000</td>\n",
       "                        <td id=\"T_7f51e188_79a3_11eb_9e9c_2c56dc262bbdrow9_col1\" class=\"data row9 col1\" >MFG Brand Name</td>\n",
       "                        <td id=\"T_7f51e188_79a3_11eb_9e9c_2c56dc262bbdrow9_col2\" class=\"data row9 col2\" >Simpson Strong-Tie</td>\n",
       "            </tr>\n",
       "            <tr>\n",
       "                        <th id=\"T_7f51e188_79a3_11eb_9e9c_2c56dc262bbdlevel0_row10\" class=\"row_heading level0 row10\" >10</th>\n",
       "                        <td id=\"T_7f51e188_79a3_11eb_9e9c_2c56dc262bbdrow10_col0\" class=\"data row10 col0\" >100001.000000</td>\n",
       "                        <td id=\"T_7f51e188_79a3_11eb_9e9c_2c56dc262bbdrow10_col1\" class=\"data row10 col1\" >Number of Pieces</td>\n",
       "                        <td id=\"T_7f51e188_79a3_11eb_9e9c_2c56dc262bbdrow10_col2\" class=\"data row10 col2\" >1</td>\n",
       "            </tr>\n",
       "            <tr>\n",
       "                        <th id=\"T_7f51e188_79a3_11eb_9e9c_2c56dc262bbdlevel0_row11\" class=\"row_heading level0 row11\" >11</th>\n",
       "                        <td id=\"T_7f51e188_79a3_11eb_9e9c_2c56dc262bbdrow11_col0\" class=\"data row11 col0\" >100001.000000</td>\n",
       "                        <td id=\"T_7f51e188_79a3_11eb_9e9c_2c56dc262bbdrow11_col1\" class=\"data row11 col1\" >Product Depth (in.)</td>\n",
       "                        <td id=\"T_7f51e188_79a3_11eb_9e9c_2c56dc262bbdrow11_col2\" class=\"data row11 col2\" >1.5</td>\n",
       "            </tr>\n",
       "            <tr>\n",
       "                        <th id=\"T_7f51e188_79a3_11eb_9e9c_2c56dc262bbdlevel0_row12\" class=\"row_heading level0 row12\" >12</th>\n",
       "                        <td id=\"T_7f51e188_79a3_11eb_9e9c_2c56dc262bbdrow12_col0\" class=\"data row12 col0\" >100001.000000</td>\n",
       "                        <td id=\"T_7f51e188_79a3_11eb_9e9c_2c56dc262bbdrow12_col1\" class=\"data row12 col1\" >Product Height (in.)</td>\n",
       "                        <td id=\"T_7f51e188_79a3_11eb_9e9c_2c56dc262bbdrow12_col2\" class=\"data row12 col2\" >3</td>\n",
       "            </tr>\n",
       "            <tr>\n",
       "                        <th id=\"T_7f51e188_79a3_11eb_9e9c_2c56dc262bbdlevel0_row13\" class=\"row_heading level0 row13\" >13</th>\n",
       "                        <td id=\"T_7f51e188_79a3_11eb_9e9c_2c56dc262bbdrow13_col0\" class=\"data row13 col0\" >100001.000000</td>\n",
       "                        <td id=\"T_7f51e188_79a3_11eb_9e9c_2c56dc262bbdrow13_col1\" class=\"data row13 col1\" >Product Weight (lb.)</td>\n",
       "                        <td id=\"T_7f51e188_79a3_11eb_9e9c_2c56dc262bbdrow13_col2\" class=\"data row13 col2\" >0.26</td>\n",
       "            </tr>\n",
       "            <tr>\n",
       "                        <th id=\"T_7f51e188_79a3_11eb_9e9c_2c56dc262bbdlevel0_row14\" class=\"row_heading level0 row14\" >14</th>\n",
       "                        <td id=\"T_7f51e188_79a3_11eb_9e9c_2c56dc262bbdrow14_col0\" class=\"data row14 col0\" >100001.000000</td>\n",
       "                        <td id=\"T_7f51e188_79a3_11eb_9e9c_2c56dc262bbdrow14_col1\" class=\"data row14 col1\" >Product Width (in.)</td>\n",
       "                        <td id=\"T_7f51e188_79a3_11eb_9e9c_2c56dc262bbdrow14_col2\" class=\"data row14 col2\" >3</td>\n",
       "            </tr>\n",
       "            <tr>\n",
       "                        <th id=\"T_7f51e188_79a3_11eb_9e9c_2c56dc262bbdlevel0_row15\" class=\"row_heading level0 row15\" >15</th>\n",
       "                        <td id=\"T_7f51e188_79a3_11eb_9e9c_2c56dc262bbdrow15_col0\" class=\"data row15 col0\" >100002.000000</td>\n",
       "                        <td id=\"T_7f51e188_79a3_11eb_9e9c_2c56dc262bbdrow15_col1\" class=\"data row15 col1\" >Application Method</td>\n",
       "                        <td id=\"T_7f51e188_79a3_11eb_9e9c_2c56dc262bbdrow15_col2\" class=\"data row15 col2\" >Brush,Roller,Spray</td>\n",
       "            </tr>\n",
       "            <tr>\n",
       "                        <th id=\"T_7f51e188_79a3_11eb_9e9c_2c56dc262bbdlevel0_row16\" class=\"row_heading level0 row16\" >16</th>\n",
       "                        <td id=\"T_7f51e188_79a3_11eb_9e9c_2c56dc262bbdrow16_col0\" class=\"data row16 col0\" >100002.000000</td>\n",
       "                        <td id=\"T_7f51e188_79a3_11eb_9e9c_2c56dc262bbdrow16_col1\" class=\"data row16 col1\" >Assembled Depth (in.)</td>\n",
       "                        <td id=\"T_7f51e188_79a3_11eb_9e9c_2c56dc262bbdrow16_col2\" class=\"data row16 col2\" >6.63 in</td>\n",
       "            </tr>\n",
       "            <tr>\n",
       "                        <th id=\"T_7f51e188_79a3_11eb_9e9c_2c56dc262bbdlevel0_row17\" class=\"row_heading level0 row17\" >17</th>\n",
       "                        <td id=\"T_7f51e188_79a3_11eb_9e9c_2c56dc262bbdrow17_col0\" class=\"data row17 col0\" >100002.000000</td>\n",
       "                        <td id=\"T_7f51e188_79a3_11eb_9e9c_2c56dc262bbdrow17_col1\" class=\"data row17 col1\" >Assembled Height (in.)</td>\n",
       "                        <td id=\"T_7f51e188_79a3_11eb_9e9c_2c56dc262bbdrow17_col2\" class=\"data row17 col2\" >7.76 in</td>\n",
       "            </tr>\n",
       "            <tr>\n",
       "                        <th id=\"T_7f51e188_79a3_11eb_9e9c_2c56dc262bbdlevel0_row18\" class=\"row_heading level0 row18\" >18</th>\n",
       "                        <td id=\"T_7f51e188_79a3_11eb_9e9c_2c56dc262bbdrow18_col0\" class=\"data row18 col0\" >100002.000000</td>\n",
       "                        <td id=\"T_7f51e188_79a3_11eb_9e9c_2c56dc262bbdrow18_col1\" class=\"data row18 col1\" >Assembled Width (in.)</td>\n",
       "                        <td id=\"T_7f51e188_79a3_11eb_9e9c_2c56dc262bbdrow18_col2\" class=\"data row18 col2\" >6.63 in</td>\n",
       "            </tr>\n",
       "            <tr>\n",
       "                        <th id=\"T_7f51e188_79a3_11eb_9e9c_2c56dc262bbdlevel0_row19\" class=\"row_heading level0 row19\" >19</th>\n",
       "                        <td id=\"T_7f51e188_79a3_11eb_9e9c_2c56dc262bbdrow19_col0\" class=\"data row19 col0\" >100002.000000</td>\n",
       "                        <td id=\"T_7f51e188_79a3_11eb_9e9c_2c56dc262bbdrow19_col1\" class=\"data row19 col1\" >Bullet01</td>\n",
       "                        <td id=\"T_7f51e188_79a3_11eb_9e9c_2c56dc262bbdrow19_col2\" class=\"data row19 col2\" >Revives wood and composite decks, railings, porches and boat docks, also great for concrete pool decks, patios and sidewalks</td>\n",
       "            </tr>\n",
       "            <tr>\n",
       "                        <th id=\"T_7f51e188_79a3_11eb_9e9c_2c56dc262bbdlevel0_row20\" class=\"row_heading level0 row20\" >20</th>\n",
       "                        <td id=\"T_7f51e188_79a3_11eb_9e9c_2c56dc262bbdrow20_col0\" class=\"data row20 col0\" >100002.000000</td>\n",
       "                        <td id=\"T_7f51e188_79a3_11eb_9e9c_2c56dc262bbdrow20_col1\" class=\"data row20 col1\" >Bullet02</td>\n",
       "                        <td id=\"T_7f51e188_79a3_11eb_9e9c_2c56dc262bbdrow20_col2\" class=\"data row20 col2\" >100% acrylic solid color coating</td>\n",
       "            </tr>\n",
       "            <tr>\n",
       "                        <th id=\"T_7f51e188_79a3_11eb_9e9c_2c56dc262bbdlevel0_row21\" class=\"row_heading level0 row21\" >21</th>\n",
       "                        <td id=\"T_7f51e188_79a3_11eb_9e9c_2c56dc262bbdrow21_col0\" class=\"data row21 col0\" >100002.000000</td>\n",
       "                        <td id=\"T_7f51e188_79a3_11eb_9e9c_2c56dc262bbdrow21_col1\" class=\"data row21 col1\" >Bullet03</td>\n",
       "                        <td id=\"T_7f51e188_79a3_11eb_9e9c_2c56dc262bbdrow21_col2\" class=\"data row21 col2\" >Resists cracking and peeling and conceals splinters and cracks up to 1/4 in.</td>\n",
       "            </tr>\n",
       "            <tr>\n",
       "                        <th id=\"T_7f51e188_79a3_11eb_9e9c_2c56dc262bbdlevel0_row22\" class=\"row_heading level0 row22\" >22</th>\n",
       "                        <td id=\"T_7f51e188_79a3_11eb_9e9c_2c56dc262bbdrow22_col0\" class=\"data row22 col0\" >100002.000000</td>\n",
       "                        <td id=\"T_7f51e188_79a3_11eb_9e9c_2c56dc262bbdrow22_col1\" class=\"data row22 col1\" >Bullet04</td>\n",
       "                        <td id=\"T_7f51e188_79a3_11eb_9e9c_2c56dc262bbdrow22_col2\" class=\"data row22 col2\" >Provides a durable, mildew resistant finish</td>\n",
       "            </tr>\n",
       "            <tr>\n",
       "                        <th id=\"T_7f51e188_79a3_11eb_9e9c_2c56dc262bbdlevel0_row23\" class=\"row_heading level0 row23\" >23</th>\n",
       "                        <td id=\"T_7f51e188_79a3_11eb_9e9c_2c56dc262bbdrow23_col0\" class=\"data row23 col0\" >100002.000000</td>\n",
       "                        <td id=\"T_7f51e188_79a3_11eb_9e9c_2c56dc262bbdrow23_col1\" class=\"data row23 col1\" >Bullet05</td>\n",
       "                        <td id=\"T_7f51e188_79a3_11eb_9e9c_2c56dc262bbdrow23_col2\" class=\"data row23 col2\" >Covers up to 75 sq. ft. in 2 coats per gallon</td>\n",
       "            </tr>\n",
       "            <tr>\n",
       "                        <th id=\"T_7f51e188_79a3_11eb_9e9c_2c56dc262bbdlevel0_row24\" class=\"row_heading level0 row24\" >24</th>\n",
       "                        <td id=\"T_7f51e188_79a3_11eb_9e9c_2c56dc262bbdrow24_col0\" class=\"data row24 col0\" >100002.000000</td>\n",
       "                        <td id=\"T_7f51e188_79a3_11eb_9e9c_2c56dc262bbdrow24_col1\" class=\"data row24 col1\" >Bullet06</td>\n",
       "                        <td id=\"T_7f51e188_79a3_11eb_9e9c_2c56dc262bbdrow24_col2\" class=\"data row24 col2\" >Creates a textured, slip-resistant finish</td>\n",
       "            </tr>\n",
       "            <tr>\n",
       "                        <th id=\"T_7f51e188_79a3_11eb_9e9c_2c56dc262bbdlevel0_row25\" class=\"row_heading level0 row25\" >25</th>\n",
       "                        <td id=\"T_7f51e188_79a3_11eb_9e9c_2c56dc262bbdrow25_col0\" class=\"data row25 col0\" >100002.000000</td>\n",
       "                        <td id=\"T_7f51e188_79a3_11eb_9e9c_2c56dc262bbdrow25_col1\" class=\"data row25 col1\" >Bullet07</td>\n",
       "                        <td id=\"T_7f51e188_79a3_11eb_9e9c_2c56dc262bbdrow25_col2\" class=\"data row25 col2\" >For best results, prepare with the appropriate BEHR product for your wood or concrete surface</td>\n",
       "            </tr>\n",
       "            <tr>\n",
       "                        <th id=\"T_7f51e188_79a3_11eb_9e9c_2c56dc262bbdlevel0_row26\" class=\"row_heading level0 row26\" >26</th>\n",
       "                        <td id=\"T_7f51e188_79a3_11eb_9e9c_2c56dc262bbdrow26_col0\" class=\"data row26 col0\" >100002.000000</td>\n",
       "                        <td id=\"T_7f51e188_79a3_11eb_9e9c_2c56dc262bbdrow26_col1\" class=\"data row26 col1\" >Bullet08</td>\n",
       "                        <td id=\"T_7f51e188_79a3_11eb_9e9c_2c56dc262bbdrow26_col2\" class=\"data row26 col2\" >Actual paint colors may vary from on-screen and printer representations</td>\n",
       "            </tr>\n",
       "            <tr>\n",
       "                        <th id=\"T_7f51e188_79a3_11eb_9e9c_2c56dc262bbdlevel0_row27\" class=\"row_heading level0 row27\" >27</th>\n",
       "                        <td id=\"T_7f51e188_79a3_11eb_9e9c_2c56dc262bbdrow27_col0\" class=\"data row27 col0\" >100002.000000</td>\n",
       "                        <td id=\"T_7f51e188_79a3_11eb_9e9c_2c56dc262bbdrow27_col1\" class=\"data row27 col1\" >Bullet10</td>\n",
       "                        <td id=\"T_7f51e188_79a3_11eb_9e9c_2c56dc262bbdrow27_col2\" class=\"data row27 col2\" >Colors available to be tinted in most stores</td>\n",
       "            </tr>\n",
       "    </tbody></table></td><td style='width:50.0%;vertical-align:top;border:0px'><style  type=\"text/css\" >\n",
       "</style><table id=\"T_7f534106_79a3_11eb_b8aa_2c56dc262bbd\" style='display:inline'><caption><b><H2>Product Descriptions<H2></b></caption><thead>    <tr>        <th class=\"blank level0\" ></th>        <th class=\"col_heading level0 col0\" >product_uid</th>        <th class=\"col_heading level0 col1\" >product_description</th>    </tr></thead><tbody>\n",
       "                <tr>\n",
       "                        <th id=\"T_7f534106_79a3_11eb_b8aa_2c56dc262bbdlevel0_row0\" class=\"row_heading level0 row0\" >0</th>\n",
       "                        <td id=\"T_7f534106_79a3_11eb_b8aa_2c56dc262bbdrow0_col0\" class=\"data row0 col0\" >100001</td>\n",
       "                        <td id=\"T_7f534106_79a3_11eb_b8aa_2c56dc262bbdrow0_col1\" class=\"data row0 col1\" >Not only do angles make joints stronger, they also provide more consistent, straight corners. Simpson Strong-Tie offers a wide variety of angles in various sizes and thicknesses to handle light-duty jobs or projects where a structural connection is needed. Some can be bent (skewed) to match the project. For outdoor projects or those where moisture is present, use our ZMAX zinc-coated connectors, which provide extra resistance against corrosion (look for a \"Z\" at the end of the model number).Versatile connector for various 90 connections and home repair projectsStronger than angled nailing or screw fastening aloneHelp ensure joints are consistently straight and strongDimensions: 3 in. x 3 in. x 1-1/2 in.Made from 12-Gauge steelGalvanized for extra corrosion resistanceInstall with 10d common nails or #9 x 1-1/2 in. Strong-Drive SD screws</td>\n",
       "            </tr>\n",
       "            <tr>\n",
       "                        <th id=\"T_7f534106_79a3_11eb_b8aa_2c56dc262bbdlevel0_row1\" class=\"row_heading level0 row1\" >1</th>\n",
       "                        <td id=\"T_7f534106_79a3_11eb_b8aa_2c56dc262bbdrow1_col0\" class=\"data row1 col0\" >100002</td>\n",
       "                        <td id=\"T_7f534106_79a3_11eb_b8aa_2c56dc262bbdrow1_col1\" class=\"data row1 col1\" >BEHR Premium Textured DECKOVER is an innovative solid color coating. It will bring your old, weathered wood or concrete back to life. The advanced 100% acrylic resin formula creates a durable coating for your tired and worn out deck, rejuvenating to a whole new look.  For the best results, be sure to properly prepare the surface using other applicable BEHR products displayed above.California residents: see&nbsp;Proposition 65 informationRevives wood and composite decks, railings, porches and boat docks, also great for concrete pool decks, patios and sidewalks100% acrylic solid color coatingResists cracking and peeling and conceals splinters and cracks up to 1/4 in.Provides a durable, mildew resistant finishCovers up to 75 sq. ft. in 2 coats per gallonCreates a textured, slip-resistant finishFor best results, prepare with the appropriate BEHR product for your wood or concrete surfaceActual paint colors may vary from on-screen and printer representationsColors available to be tinted in most storesOnline Price includes Paint Care fee in the following states: CA, CO, CT, ME, MN, OR, RI, VT</td>\n",
       "            </tr>\n",
       "            <tr>\n",
       "                        <th id=\"T_7f534106_79a3_11eb_b8aa_2c56dc262bbdlevel0_row2\" class=\"row_heading level0 row2\" >2</th>\n",
       "                        <td id=\"T_7f534106_79a3_11eb_b8aa_2c56dc262bbdrow2_col0\" class=\"data row2 col0\" >100003</td>\n",
       "                        <td id=\"T_7f534106_79a3_11eb_b8aa_2c56dc262bbdrow2_col1\" class=\"data row2 col1\" >Classic architecture meets contemporary design in the Ensemble Curve series, made of solid Vikrell material, blending sleek, clean lines with gentle curves. Corner shelving is perfect for storing bath accessories. Modular design allows it to be moved around corners and through doorways with ease. Curve wall with a smooth, contemporary look, featuring integrated storage shelves.Slightly narrower for tighter spacesDesigned with an 18 in. apronDurable high-gloss finish provides a smooth, shiny surface that is easy to cleanConforms to ANSI Z124.1.2 and CSA B45.1 national consensus standardsCurve wall with a smooth, contemporary look, featuring integrated storage shelves</td>\n",
       "            </tr>\n",
       "            <tr>\n",
       "                        <th id=\"T_7f534106_79a3_11eb_b8aa_2c56dc262bbdlevel0_row3\" class=\"row_heading level0 row3\" >3</th>\n",
       "                        <td id=\"T_7f534106_79a3_11eb_b8aa_2c56dc262bbdrow3_col0\" class=\"data row3 col0\" >100004</td>\n",
       "                        <td id=\"T_7f534106_79a3_11eb_b8aa_2c56dc262bbdrow3_col1\" class=\"data row3 col1\" >The Grape Solar 265-Watt Polycrystalline PV Solar Panel bonus pack bundles 4 Grape Solar 265-Watt solar panels for extra savings. The Grape Solar 265-Watt Polycrystalline PV Solar Panel uses high efficiency solar cells (approximately 19%) made from quality silicon material for high module conversion efficiency, long term output stability, and reliability. Virtually maintenance free. High transmittance, low iron tempered glass for durability and enhanced impact resistance.Positive power tolerance (0 to +5-Watt)Anti-reflective and anti-soiling surface reduces power loss from dirt and dustOutstanding performance in low-light irradiances environmentsCertified to withstand high wind and snow loads100% electroluminescence inspection ensures modules are defect freePositive and negative leads quipped with MC4 connectors</td>\n",
       "            </tr>\n",
       "            <tr>\n",
       "                        <th id=\"T_7f534106_79a3_11eb_b8aa_2c56dc262bbdlevel0_row4\" class=\"row_heading level0 row4\" >4</th>\n",
       "                        <td id=\"T_7f534106_79a3_11eb_b8aa_2c56dc262bbdrow4_col0\" class=\"data row4 col0\" >100005</td>\n",
       "                        <td id=\"T_7f534106_79a3_11eb_b8aa_2c56dc262bbdrow4_col1\" class=\"data row4 col1\" >Update your bathroom with the Delta Vero Single-Handle Shower Faucet Trim Kit in Chrome. It has a sleek, modern and minimalistic aesthetic. The MultiChoice universal valve keeps the water temperature within +/-3 degrees Fahrenheit to help prevent scalding.California residents: see&nbsp;Proposition 65 informationIncludes the trim kit only, the rough-in kit (R10000-UNBX) is sold separatelyIncludes the handleMaintains a balanced pressure of hot and cold water even when a valve is turned on or off elsewhere in the systemDue to WaterSense regulations in the state of New York, please confirm your shipping zip code is not restricted from use of items that do not meet WaterSense qualifications</td>\n",
       "            </tr>\n",
       "    </tbody></table></td></tr></table>"
      ],
      "text/plain": [
       "<IPython.core.display.HTML object>"
      ]
     },
     "metadata": {},
     "output_type": "display_data"
    }
   ],
   "source": [
    "grid_df_display(list_df = [df_train, df_attributes, df_test, df_product_descriptions], \n",
    "                list_df_name = ['Traing Data', 'Attributes', 'Test Data', 'Product Descriptions'],\n",
    "                list_number_of_data = [5, 28, 6, 5], row = 2, col = 2, fill = 'col')"
   ]
  },
  {
   "cell_type": "code",
   "execution_count": 5,
   "metadata": {},
   "outputs": [
    {
     "name": "stdout",
     "output_type": "stream",
     "text": [
      "df_test shape: (166693, 4)\n",
      "df_attributes shape: (2044803, 3)\n",
      "df_product_descriptions shape: (124428, 2)\n"
     ]
    }
   ],
   "source": [
    "print(f'df_test shape: {df_test.shape}')\n",
    "print(f'df_attributes shape: {df_attributes.shape}')\n",
    "print(f'df_product_descriptions shape: {df_product_descriptions.shape}')"
   ]
  },
  {
   "cell_type": "code",
   "execution_count": null,
   "metadata": {},
   "outputs": [],
   "source": []
  },
  {
   "cell_type": "markdown",
   "metadata": {},
   "source": [
    "## 3. EDA"
   ]
  },
  {
   "cell_type": "markdown",
   "metadata": {},
   "source": [
    "**Descriptive Analysis of the Training Dataset.**\n"
   ]
  },
  {
   "cell_type": "markdown",
   "metadata": {},
   "source": [
    "### 3.1 Deal with Traing Data"
   ]
  },
  {
   "cell_type": "code",
   "execution_count": 6,
   "metadata": {},
   "outputs": [
    {
     "data": {
      "text/html": [
       "<style  type=\"text/css\" >\n",
       "</style><table id=\"T_7f5a458c_79a3_11eb_943c_2c56dc262bbd\" style='display:inline'><caption><b><H2>Traing Data<H2></b></caption><thead>    <tr>        <th class=\"blank level0\" ></th>        <th class=\"col_heading level0 col0\" >id</th>        <th class=\"col_heading level0 col1\" >product_uid</th>        <th class=\"col_heading level0 col2\" >product_title</th>        <th class=\"col_heading level0 col3\" >search_term</th>        <th class=\"col_heading level0 col4\" >relevance</th>    </tr></thead><tbody>\n",
       "                <tr>\n",
       "                        <th id=\"T_7f5a458c_79a3_11eb_943c_2c56dc262bbdlevel0_row0\" class=\"row_heading level0 row0\" >0</th>\n",
       "                        <td id=\"T_7f5a458c_79a3_11eb_943c_2c56dc262bbdrow0_col0\" class=\"data row0 col0\" >2</td>\n",
       "                        <td id=\"T_7f5a458c_79a3_11eb_943c_2c56dc262bbdrow0_col1\" class=\"data row0 col1\" >100001</td>\n",
       "                        <td id=\"T_7f5a458c_79a3_11eb_943c_2c56dc262bbdrow0_col2\" class=\"data row0 col2\" >Simpson Strong-Tie 12-Gauge Angle</td>\n",
       "                        <td id=\"T_7f5a458c_79a3_11eb_943c_2c56dc262bbdrow0_col3\" class=\"data row0 col3\" >angle bracket</td>\n",
       "                        <td id=\"T_7f5a458c_79a3_11eb_943c_2c56dc262bbdrow0_col4\" class=\"data row0 col4\" >3.000000</td>\n",
       "            </tr>\n",
       "            <tr>\n",
       "                        <th id=\"T_7f5a458c_79a3_11eb_943c_2c56dc262bbdlevel0_row1\" class=\"row_heading level0 row1\" >1</th>\n",
       "                        <td id=\"T_7f5a458c_79a3_11eb_943c_2c56dc262bbdrow1_col0\" class=\"data row1 col0\" >3</td>\n",
       "                        <td id=\"T_7f5a458c_79a3_11eb_943c_2c56dc262bbdrow1_col1\" class=\"data row1 col1\" >100001</td>\n",
       "                        <td id=\"T_7f5a458c_79a3_11eb_943c_2c56dc262bbdrow1_col2\" class=\"data row1 col2\" >Simpson Strong-Tie 12-Gauge Angle</td>\n",
       "                        <td id=\"T_7f5a458c_79a3_11eb_943c_2c56dc262bbdrow1_col3\" class=\"data row1 col3\" >l bracket</td>\n",
       "                        <td id=\"T_7f5a458c_79a3_11eb_943c_2c56dc262bbdrow1_col4\" class=\"data row1 col4\" >2.500000</td>\n",
       "            </tr>\n",
       "            <tr>\n",
       "                        <th id=\"T_7f5a458c_79a3_11eb_943c_2c56dc262bbdlevel0_row2\" class=\"row_heading level0 row2\" >2</th>\n",
       "                        <td id=\"T_7f5a458c_79a3_11eb_943c_2c56dc262bbdrow2_col0\" class=\"data row2 col0\" >9</td>\n",
       "                        <td id=\"T_7f5a458c_79a3_11eb_943c_2c56dc262bbdrow2_col1\" class=\"data row2 col1\" >100002</td>\n",
       "                        <td id=\"T_7f5a458c_79a3_11eb_943c_2c56dc262bbdrow2_col2\" class=\"data row2 col2\" >BEHR Premium Textured DeckOver 1-gal. #SC-141 Tugboat Wood and Concrete Coating</td>\n",
       "                        <td id=\"T_7f5a458c_79a3_11eb_943c_2c56dc262bbdrow2_col3\" class=\"data row2 col3\" >deck over</td>\n",
       "                        <td id=\"T_7f5a458c_79a3_11eb_943c_2c56dc262bbdrow2_col4\" class=\"data row2 col4\" >3.000000</td>\n",
       "            </tr>\n",
       "            <tr>\n",
       "                        <th id=\"T_7f5a458c_79a3_11eb_943c_2c56dc262bbdlevel0_row3\" class=\"row_heading level0 row3\" >3</th>\n",
       "                        <td id=\"T_7f5a458c_79a3_11eb_943c_2c56dc262bbdrow3_col0\" class=\"data row3 col0\" >16</td>\n",
       "                        <td id=\"T_7f5a458c_79a3_11eb_943c_2c56dc262bbdrow3_col1\" class=\"data row3 col1\" >100005</td>\n",
       "                        <td id=\"T_7f5a458c_79a3_11eb_943c_2c56dc262bbdrow3_col2\" class=\"data row3 col2\" >Delta Vero 1-Handle Shower Only Faucet Trim Kit in Chrome (Valve Not Included)</td>\n",
       "                        <td id=\"T_7f5a458c_79a3_11eb_943c_2c56dc262bbdrow3_col3\" class=\"data row3 col3\" >rain shower head</td>\n",
       "                        <td id=\"T_7f5a458c_79a3_11eb_943c_2c56dc262bbdrow3_col4\" class=\"data row3 col4\" >2.330000</td>\n",
       "            </tr>\n",
       "            <tr>\n",
       "                        <th id=\"T_7f5a458c_79a3_11eb_943c_2c56dc262bbdlevel0_row4\" class=\"row_heading level0 row4\" >4</th>\n",
       "                        <td id=\"T_7f5a458c_79a3_11eb_943c_2c56dc262bbdrow4_col0\" class=\"data row4 col0\" >17</td>\n",
       "                        <td id=\"T_7f5a458c_79a3_11eb_943c_2c56dc262bbdrow4_col1\" class=\"data row4 col1\" >100005</td>\n",
       "                        <td id=\"T_7f5a458c_79a3_11eb_943c_2c56dc262bbdrow4_col2\" class=\"data row4 col2\" >Delta Vero 1-Handle Shower Only Faucet Trim Kit in Chrome (Valve Not Included)</td>\n",
       "                        <td id=\"T_7f5a458c_79a3_11eb_943c_2c56dc262bbdrow4_col3\" class=\"data row4 col3\" >shower only faucet</td>\n",
       "                        <td id=\"T_7f5a458c_79a3_11eb_943c_2c56dc262bbdrow4_col4\" class=\"data row4 col4\" >2.670000</td>\n",
       "            </tr>\n",
       "    </tbody></table>"
      ],
      "text/plain": [
       "<pandas.io.formats.style.Styler at 0x17337c14348>"
      ]
     },
     "execution_count": 6,
     "metadata": {},
     "output_type": "execute_result"
    }
   ],
   "source": [
    "# let cell can show whole value\n",
    "df_train.head().style.set_table_attributes(\"style='display:inline'\").set_caption(f'<b><H2>Traing Data<H2></b>')"
   ]
  },
  {
   "cell_type": "code",
   "execution_count": 7,
   "metadata": {},
   "outputs": [
    {
     "name": "stdout",
     "output_type": "stream",
     "text": [
      "df_train shape: (74067, 5)\n"
     ]
    }
   ],
   "source": [
    "print(f'df_train shape: {df_train.shape}')"
   ]
  },
  {
   "cell_type": "code",
   "execution_count": 8,
   "metadata": {},
   "outputs": [
    {
     "name": "stdout",
     "output_type": "stream",
     "text": [
      "df_train: 資料未有重復項\n"
     ]
    }
   ],
   "source": [
    "# check duplicates\n",
    "if len(df_train.drop_duplicates(['id', 'product_uid', 'product_title', 'search_term', 'relevance']))==df_train.shape[0]:\n",
    "    print('df_train: 資料未有重復項')\n",
    "else:\n",
    "    print('df_train: 資料有重復項')"
   ]
  },
  {
   "cell_type": "code",
   "execution_count": 9,
   "metadata": {},
   "outputs": [
    {
     "data": {
      "text/html": [
       "<div>\n",
       "<style scoped>\n",
       "    .dataframe tbody tr th:only-of-type {\n",
       "        vertical-align: middle;\n",
       "    }\n",
       "\n",
       "    .dataframe tbody tr th {\n",
       "        vertical-align: top;\n",
       "    }\n",
       "\n",
       "    .dataframe thead th {\n",
       "        text-align: right;\n",
       "    }\n",
       "</style>\n",
       "<table border=\"1\" class=\"dataframe\">\n",
       "  <thead>\n",
       "    <tr style=\"text-align: right;\">\n",
       "      <th></th>\n",
       "      <th>column_type</th>\n",
       "      <th>Non_Null_Count</th>\n",
       "    </tr>\n",
       "  </thead>\n",
       "  <tbody>\n",
       "    <tr>\n",
       "      <th>id</th>\n",
       "      <td>int64</td>\n",
       "      <td>74067</td>\n",
       "    </tr>\n",
       "    <tr>\n",
       "      <th>product_uid</th>\n",
       "      <td>int64</td>\n",
       "      <td>74067</td>\n",
       "    </tr>\n",
       "    <tr>\n",
       "      <th>product_title</th>\n",
       "      <td>object</td>\n",
       "      <td>74067</td>\n",
       "    </tr>\n",
       "    <tr>\n",
       "      <th>search_term</th>\n",
       "      <td>object</td>\n",
       "      <td>74067</td>\n",
       "    </tr>\n",
       "    <tr>\n",
       "      <th>relevance</th>\n",
       "      <td>float64</td>\n",
       "      <td>74067</td>\n",
       "    </tr>\n",
       "  </tbody>\n",
       "</table>\n",
       "</div>"
      ],
      "text/plain": [
       "              column_type  Non_Null_Count\n",
       "id                  int64           74067\n",
       "product_uid         int64           74067\n",
       "product_title      object           74067\n",
       "search_term        object           74067\n",
       "relevance         float64           74067"
      ]
     },
     "metadata": {},
     "output_type": "display_data"
    },
    {
     "name": "stdout",
     "output_type": "stream",
     "text": [
      "-------------------------------------------------------------\n",
      "total columns: 5\n",
      "-------------------------------------------------------------\n",
      "column type count:\n",
      "[('int64', 2), ('float64', 1), ('object', 2)]\n",
      "-------------------------------------------------------------\n",
      "column memory usage (bytes):\n",
      "[('Index', 128), ('id', 592536), ('product_uid', 592536), ('product_title', 592536), ('search_term', 592536), ('relevance', 592536)]\n"
     ]
    }
   ],
   "source": [
    "df_column_type = pd.DataFrame(df_train.dtypes, columns = ['column_type'])\n",
    "df_Non_Null_Count = pd.DataFrame(df_train.notnull().sum(), columns = ['Non_Null_Count'])\n",
    "df_info = pd.concat([df_column_type, df_Non_Null_Count ], axis = 1)\n",
    "\n",
    "display(df_info)\n",
    "print('-------------------------------------------------------------')\n",
    "print(f'total columns: {df_train.shape[1]}')\n",
    "print('-------------------------------------------------------------')\n",
    "temp = pd.DataFrame(df_train.dtypes, columns = ['dtypes']).groupby('dtypes').size()\n",
    "temp = pd.DataFrame(temp, columns = ['count'])\n",
    "temp = temp.reset_index(drop = False)\n",
    "temp = temp.astype({\"dtypes\": str})\n",
    "column_type_count = [(temp['dtypes'][i],temp['count'][i]) for i in range(len(temp))]\n",
    "print('column type count:')\n",
    "print(column_type_count)\n",
    "\n",
    "temp = pd.DataFrame(df_train.memory_usage(), columns = ['memory_usage'])\n",
    "temp = temp.reset_index(drop = False)\n",
    "temp.columns = ['item','memory_usage']\n",
    "column_memory_usage = [(temp['item'][i],temp['memory_usage'][i]) for i in range(len(temp))]\n",
    "print('-------------------------------------------------------------')\n",
    "print('column memory usage (bytes):')\n",
    "print(column_memory_usage)"
   ]
  },
  {
   "cell_type": "markdown",
   "metadata": {},
   "source": [
    "* ### Convert id and product_uid's type to 'object'"
   ]
  },
  {
   "cell_type": "code",
   "execution_count": 10,
   "metadata": {},
   "outputs": [],
   "source": [
    "df_train[['id', 'product_uid']] = df_train[['id', 'product_uid']].astype('object')"
   ]
  },
  {
   "cell_type": "markdown",
   "metadata": {},
   "source": [
    "* ### Object & Numerical Data Summary"
   ]
  },
  {
   "cell_type": "markdown",
   "metadata": {},
   "source": [
    "The top is the most common value. The freq is the most common value’s frequency."
   ]
  },
  {
   "cell_type": "code",
   "execution_count": 11,
   "metadata": {},
   "outputs": [
    {
     "data": {
      "text/html": [
       "<table style='width:100%; border:0px'><tr style='border:0px'><td style='width:33.333333333333336%;vertical-align:top;border:0px'><style  type=\"text/css\" >\n",
       "</style><table id=\"T_7fd90d62_79a3_11eb_a1fe_2c56dc262bbd\" style='display:inline'><caption><b><H2>Descriptive Analysis (object)<H2></b></caption><thead>    <tr>        <th class=\"blank level0\" ></th>        <th class=\"col_heading level0 col0\" >id</th>        <th class=\"col_heading level0 col1\" >product_uid</th>        <th class=\"col_heading level0 col2\" >product_title</th>        <th class=\"col_heading level0 col3\" >search_term</th>    </tr></thead><tbody>\n",
       "                <tr>\n",
       "                        <th id=\"T_7fd90d62_79a3_11eb_a1fe_2c56dc262bbdlevel0_row0\" class=\"row_heading level0 row0\" >count</th>\n",
       "                        <td id=\"T_7fd90d62_79a3_11eb_a1fe_2c56dc262bbdrow0_col0\" class=\"data row0 col0\" >74067</td>\n",
       "                        <td id=\"T_7fd90d62_79a3_11eb_a1fe_2c56dc262bbdrow0_col1\" class=\"data row0 col1\" >74067</td>\n",
       "                        <td id=\"T_7fd90d62_79a3_11eb_a1fe_2c56dc262bbdrow0_col2\" class=\"data row0 col2\" >74067</td>\n",
       "                        <td id=\"T_7fd90d62_79a3_11eb_a1fe_2c56dc262bbdrow0_col3\" class=\"data row0 col3\" >74067</td>\n",
       "            </tr>\n",
       "            <tr>\n",
       "                        <th id=\"T_7fd90d62_79a3_11eb_a1fe_2c56dc262bbdlevel0_row1\" class=\"row_heading level0 row1\" >unique</th>\n",
       "                        <td id=\"T_7fd90d62_79a3_11eb_a1fe_2c56dc262bbdrow1_col0\" class=\"data row1 col0\" >74067</td>\n",
       "                        <td id=\"T_7fd90d62_79a3_11eb_a1fe_2c56dc262bbdrow1_col1\" class=\"data row1 col1\" >54667</td>\n",
       "                        <td id=\"T_7fd90d62_79a3_11eb_a1fe_2c56dc262bbdrow1_col2\" class=\"data row1 col2\" >53489</td>\n",
       "                        <td id=\"T_7fd90d62_79a3_11eb_a1fe_2c56dc262bbdrow1_col3\" class=\"data row1 col3\" >11795</td>\n",
       "            </tr>\n",
       "            <tr>\n",
       "                        <th id=\"T_7fd90d62_79a3_11eb_a1fe_2c56dc262bbdlevel0_row2\" class=\"row_heading level0 row2\" >top</th>\n",
       "                        <td id=\"T_7fd90d62_79a3_11eb_a1fe_2c56dc262bbdrow2_col0\" class=\"data row2 col0\" >131070</td>\n",
       "                        <td id=\"T_7fd90d62_79a3_11eb_a1fe_2c56dc262bbdrow2_col1\" class=\"data row2 col1\" >102893</td>\n",
       "                        <td id=\"T_7fd90d62_79a3_11eb_a1fe_2c56dc262bbdrow2_col2\" class=\"data row2 col2\" >Lithonia Lighting All Season 4 ft. 2-Light Grey T8 Strip Fluorescent Shop Light</td>\n",
       "                        <td id=\"T_7fd90d62_79a3_11eb_a1fe_2c56dc262bbdrow2_col3\" class=\"data row2 col3\" >contact paoer</td>\n",
       "            </tr>\n",
       "            <tr>\n",
       "                        <th id=\"T_7fd90d62_79a3_11eb_a1fe_2c56dc262bbdlevel0_row3\" class=\"row_heading level0 row3\" >freq</th>\n",
       "                        <td id=\"T_7fd90d62_79a3_11eb_a1fe_2c56dc262bbdrow3_col0\" class=\"data row3 col0\" >1</td>\n",
       "                        <td id=\"T_7fd90d62_79a3_11eb_a1fe_2c56dc262bbdrow3_col1\" class=\"data row3 col1\" >21</td>\n",
       "                        <td id=\"T_7fd90d62_79a3_11eb_a1fe_2c56dc262bbdrow3_col2\" class=\"data row3 col2\" >21</td>\n",
       "                        <td id=\"T_7fd90d62_79a3_11eb_a1fe_2c56dc262bbdrow3_col3\" class=\"data row3 col3\" >16</td>\n",
       "            </tr>\n",
       "    </tbody></table></td><td style='width:33.333333333333336%;vertical-align:top;border:0px'><style  type=\"text/css\" >\n",
       "</style><table id=\"T_7fd9346c_79a3_11eb_94a6_2c56dc262bbd\" style='display:inline'><caption><b><H2>Descriptive Analysis (numerical)<H2></b></caption><thead>    <tr>        <th class=\"blank level0\" ></th>        <th class=\"col_heading level0 col0\" >relevance</th>    </tr></thead><tbody>\n",
       "                <tr>\n",
       "                        <th id=\"T_7fd9346c_79a3_11eb_94a6_2c56dc262bbdlevel0_row0\" class=\"row_heading level0 row0\" >count</th>\n",
       "                        <td id=\"T_7fd9346c_79a3_11eb_94a6_2c56dc262bbdrow0_col0\" class=\"data row0 col0\" >74067.000000</td>\n",
       "            </tr>\n",
       "            <tr>\n",
       "                        <th id=\"T_7fd9346c_79a3_11eb_94a6_2c56dc262bbdlevel0_row1\" class=\"row_heading level0 row1\" >mean</th>\n",
       "                        <td id=\"T_7fd9346c_79a3_11eb_94a6_2c56dc262bbdrow1_col0\" class=\"data row1 col0\" >2.381634</td>\n",
       "            </tr>\n",
       "            <tr>\n",
       "                        <th id=\"T_7fd9346c_79a3_11eb_94a6_2c56dc262bbdlevel0_row2\" class=\"row_heading level0 row2\" >std</th>\n",
       "                        <td id=\"T_7fd9346c_79a3_11eb_94a6_2c56dc262bbdrow2_col0\" class=\"data row2 col0\" >0.533984</td>\n",
       "            </tr>\n",
       "            <tr>\n",
       "                        <th id=\"T_7fd9346c_79a3_11eb_94a6_2c56dc262bbdlevel0_row3\" class=\"row_heading level0 row3\" >min</th>\n",
       "                        <td id=\"T_7fd9346c_79a3_11eb_94a6_2c56dc262bbdrow3_col0\" class=\"data row3 col0\" >1.000000</td>\n",
       "            </tr>\n",
       "            <tr>\n",
       "                        <th id=\"T_7fd9346c_79a3_11eb_94a6_2c56dc262bbdlevel0_row4\" class=\"row_heading level0 row4\" >25%</th>\n",
       "                        <td id=\"T_7fd9346c_79a3_11eb_94a6_2c56dc262bbdrow4_col0\" class=\"data row4 col0\" >2.000000</td>\n",
       "            </tr>\n",
       "            <tr>\n",
       "                        <th id=\"T_7fd9346c_79a3_11eb_94a6_2c56dc262bbdlevel0_row5\" class=\"row_heading level0 row5\" >50%</th>\n",
       "                        <td id=\"T_7fd9346c_79a3_11eb_94a6_2c56dc262bbdrow5_col0\" class=\"data row5 col0\" >2.330000</td>\n",
       "            </tr>\n",
       "            <tr>\n",
       "                        <th id=\"T_7fd9346c_79a3_11eb_94a6_2c56dc262bbdlevel0_row6\" class=\"row_heading level0 row6\" >75%</th>\n",
       "                        <td id=\"T_7fd9346c_79a3_11eb_94a6_2c56dc262bbdrow6_col0\" class=\"data row6 col0\" >3.000000</td>\n",
       "            </tr>\n",
       "            <tr>\n",
       "                        <th id=\"T_7fd9346c_79a3_11eb_94a6_2c56dc262bbdlevel0_row7\" class=\"row_heading level0 row7\" >max</th>\n",
       "                        <td id=\"T_7fd9346c_79a3_11eb_94a6_2c56dc262bbdrow7_col0\" class=\"data row7 col0\" >3.000000</td>\n",
       "            </tr>\n",
       "    </tbody></table></td><td style='width:33.333333333333336%;vertical-align:top;border:0px'></td></tr></table>"
      ],
      "text/plain": [
       "<IPython.core.display.HTML object>"
      ]
     },
     "metadata": {},
     "output_type": "display_data"
    }
   ],
   "source": [
    "grid_df_display(list_df = [df_train.describe(include=\"O\"), df_train.describe()], \n",
    "                list_df_name = ['Descriptive Analysis (object)', 'Descriptive Analysis (numerical)'],\n",
    "                list_number_of_data = [len(df_train.describe(include=\"O\")), len(df_train.describe())], row = 1, col = 3, fill = 'col')"
   ]
  },
  {
   "cell_type": "markdown",
   "metadata": {},
   "source": [
    "* ###  Check  distribution for target variable"
   ]
  },
  {
   "cell_type": "code",
   "execution_count": 12,
   "metadata": {},
   "outputs": [
    {
     "data": {
      "text/plain": [
       "array([3.  , 2.5 , 2.33, 2.67, 2.  , 1.  , 1.67, 1.33, 1.25, 2.75, 1.75,\n",
       "       1.5 , 2.25])"
      ]
     },
     "execution_count": 12,
     "metadata": {},
     "output_type": "execute_result"
    }
   ],
   "source": [
    "# the target variable is discrete\n",
    "df_train['relevance'].unique()"
   ]
  },
  {
   "cell_type": "code",
   "execution_count": 13,
   "metadata": {},
   "outputs": [
    {
     "data": {
      "image/png": "[encoded data removed]",
      "text/plain": [
       "<Figure size 432x288 with 1 Axes>"
      ]
     },
     "metadata": {
      "needs_background": "light"
     },
     "output_type": "display_data"
    },
    {
     "data": {
      "image/png": "[encoded data removed]",
      "text/plain": [
       "<Figure size 576x360 with 1 Axes>"
      ]
     },
     "metadata": {
      "needs_background": "light"
     },
     "output_type": "display_data"
    }
   ],
   "source": [
    "#histogram and normal probability plot\n",
    "sns.histplot(df_train['relevance']);\n",
    "fig = plt.figure(num=3, figsize=(8, 5))\n",
    "res = stats.probplot(df_train['relevance'], plot=plt)"
   ]
  },
  {
   "cell_type": "markdown",
   "metadata": {},
   "source": [
    "* ###  EDA with `search_term` column"
   ]
  },
  {
   "cell_type": "markdown",
   "metadata": {},
   "source": [
    "<div class=\"alert alert-warning\" role=\"alert\">\n",
    "  <strong>Note!</strong> I want to familiar with customer <strong>search term</strong>, but time is money. So I <strong>only</strong> check the <strong>search term</strong> that was searched many times. \n",
    "</div>"
   ]
  },
  {
   "cell_type": "code",
   "execution_count": 14,
   "metadata": {},
   "outputs": [],
   "source": [
    "search_term_count = df_train.groupby(['search_term']).count()\n",
    "search_term_count = search_term_count.reset_index(drop=False)\n",
    "search_term_count = search_term_count[['search_term', 'id']]\n",
    "search_term_count.columns = ['search_term', 'ncount']"
   ]
  },
  {
   "cell_type": "code",
   "execution_count": 15,
   "metadata": {},
   "outputs": [],
   "source": [
    "search_term_count = search_term_count.sort_values(by='ncount', ascending=False )\n",
    "search_term_count = search_term_count.reset_index(drop=True)"
   ]
  },
  {
   "cell_type": "code",
   "execution_count": 16,
   "metadata": {},
   "outputs": [
    {
     "data": {
      "text/html": [
       "<div>\n",
       "<style scoped>\n",
       "    .dataframe tbody tr th:only-of-type {\n",
       "        vertical-align: middle;\n",
       "    }\n",
       "\n",
       "    .dataframe tbody tr th {\n",
       "        vertical-align: top;\n",
       "    }\n",
       "\n",
       "    .dataframe thead th {\n",
       "        text-align: right;\n",
       "    }\n",
       "</style>\n",
       "<table border=\"1\" class=\"dataframe\">\n",
       "  <thead>\n",
       "    <tr style=\"text-align: right;\">\n",
       "      <th></th>\n",
       "      <th>search_term</th>\n",
       "      <th>ncount</th>\n",
       "    </tr>\n",
       "  </thead>\n",
       "  <tbody>\n",
       "    <tr>\n",
       "      <th>0</th>\n",
       "      <td>burgundy red foot stools</td>\n",
       "      <td>16</td>\n",
       "    </tr>\n",
       "    <tr>\n",
       "      <th>1</th>\n",
       "      <td>metal sheet</td>\n",
       "      <td>16</td>\n",
       "    </tr>\n",
       "    <tr>\n",
       "      <th>2</th>\n",
       "      <td>1/2 zip wall</td>\n",
       "      <td>16</td>\n",
       "    </tr>\n",
       "    <tr>\n",
       "      <th>3</th>\n",
       "      <td>bed frames headboaed</td>\n",
       "      <td>16</td>\n",
       "    </tr>\n",
       "    <tr>\n",
       "      <th>4</th>\n",
       "      <td>anderson windows 400 seriesimpact resistant</td>\n",
       "      <td>16</td>\n",
       "    </tr>\n",
       "    <tr>\n",
       "      <th>5</th>\n",
       "      <td>everblit heavy duty canvas dropcloth</td>\n",
       "      <td>16</td>\n",
       "    </tr>\n",
       "    <tr>\n",
       "      <th>6</th>\n",
       "      <td>moen chat oil bronze tub/shower faucet</td>\n",
       "      <td>16</td>\n",
       "    </tr>\n",
       "    <tr>\n",
       "      <th>7</th>\n",
       "      <td>contact paoer</td>\n",
       "      <td>16</td>\n",
       "    </tr>\n",
       "    <tr>\n",
       "      <th>8</th>\n",
       "      <td>3 WAY TOGGLE SWITCH</td>\n",
       "      <td>16</td>\n",
       "    </tr>\n",
       "    <tr>\n",
       "      <th>9</th>\n",
       "      <td>wrt111sfdb ice maker</td>\n",
       "      <td>15</td>\n",
       "    </tr>\n",
       "    <tr>\n",
       "      <th>10</th>\n",
       "      <td>3/8 coupler</td>\n",
       "      <td>15</td>\n",
       "    </tr>\n",
       "    <tr>\n",
       "      <th>11</th>\n",
       "      <td>free shipping</td>\n",
       "      <td>15</td>\n",
       "    </tr>\n",
       "    <tr>\n",
       "      <th>12</th>\n",
       "      <td>sawtrax all terrain</td>\n",
       "      <td>15</td>\n",
       "    </tr>\n",
       "    <tr>\n",
       "      <th>13</th>\n",
       "      <td>window paint</td>\n",
       "      <td>15</td>\n",
       "    </tr>\n",
       "    <tr>\n",
       "      <th>14</th>\n",
       "      <td>closetmaid</td>\n",
       "      <td>15</td>\n",
       "    </tr>\n",
       "    <tr>\n",
       "      <th>15</th>\n",
       "      <td>bosch hole saw</td>\n",
       "      <td>15</td>\n",
       "    </tr>\n",
       "    <tr>\n",
       "      <th>16</th>\n",
       "      <td>5/8 rod</td>\n",
       "      <td>15</td>\n",
       "    </tr>\n",
       "    <tr>\n",
       "      <th>17</th>\n",
       "      <td>polished chrome cbinet pulls</td>\n",
       "      <td>15</td>\n",
       "    </tr>\n",
       "    <tr>\n",
       "      <th>18</th>\n",
       "      <td>box cutter blades</td>\n",
       "      <td>15</td>\n",
       "    </tr>\n",
       "    <tr>\n",
       "      <th>19</th>\n",
       "      <td>chime</td>\n",
       "      <td>15</td>\n",
       "    </tr>\n",
       "    <tr>\n",
       "      <th>20</th>\n",
       "      <td>ceiling mounted lighting fixures</td>\n",
       "      <td>15</td>\n",
       "    </tr>\n",
       "    <tr>\n",
       "      <th>21</th>\n",
       "      <td>quick snap punch</td>\n",
       "      <td>15</td>\n",
       "    </tr>\n",
       "    <tr>\n",
       "      <th>22</th>\n",
       "      <td>48 bath vanity</td>\n",
       "      <td>15</td>\n",
       "    </tr>\n",
       "    <tr>\n",
       "      <th>23</th>\n",
       "      <td>metric bolts hexhead</td>\n",
       "      <td>15</td>\n",
       "    </tr>\n",
       "    <tr>\n",
       "      <th>24</th>\n",
       "      <td>led area light</td>\n",
       "      <td>15</td>\n",
       "    </tr>\n",
       "    <tr>\n",
       "      <th>25</th>\n",
       "      <td>liquid propane water heaters</td>\n",
       "      <td>15</td>\n",
       "    </tr>\n",
       "    <tr>\n",
       "      <th>26</th>\n",
       "      <td>halloween light</td>\n",
       "      <td>15</td>\n",
       "    </tr>\n",
       "    <tr>\n",
       "      <th>27</th>\n",
       "      <td>decorative window sheeting</td>\n",
       "      <td>15</td>\n",
       "    </tr>\n",
       "    <tr>\n",
       "      <th>28</th>\n",
       "      <td>lighted switch</td>\n",
       "      <td>15</td>\n",
       "    </tr>\n",
       "    <tr>\n",
       "      <th>29</th>\n",
       "      <td>electric hammer drill</td>\n",
       "      <td>15</td>\n",
       "    </tr>\n",
       "    <tr>\n",
       "      <th>30</th>\n",
       "      <td>zinc plated flatbraces</td>\n",
       "      <td>15</td>\n",
       "    </tr>\n",
       "    <tr>\n",
       "      <th>31</th>\n",
       "      <td>w g 918</td>\n",
       "      <td>15</td>\n",
       "    </tr>\n",
       "    <tr>\n",
       "      <th>32</th>\n",
       "      <td>grid 9x12 for sink</td>\n",
       "      <td>15</td>\n",
       "    </tr>\n",
       "    <tr>\n",
       "      <th>33</th>\n",
       "      <td>bamboo click flooring</td>\n",
       "      <td>14</td>\n",
       "    </tr>\n",
       "    <tr>\n",
       "      <th>34</th>\n",
       "      <td>brown plastic planter</td>\n",
       "      <td>14</td>\n",
       "    </tr>\n",
       "  </tbody>\n",
       "</table>\n",
       "</div>"
      ],
      "text/plain": [
       "                                    search_term  ncount\n",
       "0                      burgundy red foot stools      16\n",
       "1                                   metal sheet      16\n",
       "2                                  1/2 zip wall      16\n",
       "3                          bed frames headboaed      16\n",
       "4   anderson windows 400 seriesimpact resistant      16\n",
       "5          everblit heavy duty canvas dropcloth      16\n",
       "6        moen chat oil bronze tub/shower faucet      16\n",
       "7                                 contact paoer      16\n",
       "8                           3 WAY TOGGLE SWITCH      16\n",
       "9                          wrt111sfdb ice maker      15\n",
       "10                                  3/8 coupler      15\n",
       "11                                free shipping      15\n",
       "12                          sawtrax all terrain      15\n",
       "13                                 window paint      15\n",
       "14                                   closetmaid      15\n",
       "15                               bosch hole saw      15\n",
       "16                                      5/8 rod      15\n",
       "17                 polished chrome cbinet pulls      15\n",
       "18                            box cutter blades      15\n",
       "19                                        chime      15\n",
       "20             ceiling mounted lighting fixures      15\n",
       "21                             quick snap punch      15\n",
       "22                               48 bath vanity      15\n",
       "23                         metric bolts hexhead      15\n",
       "24                               led area light      15\n",
       "25                 liquid propane water heaters      15\n",
       "26                              halloween light      15\n",
       "27                   decorative window sheeting      15\n",
       "28                               lighted switch      15\n",
       "29                        electric hammer drill      15\n",
       "30                       zinc plated flatbraces      15\n",
       "31                                      w g 918      15\n",
       "32                           grid 9x12 for sink      15\n",
       "33                        bamboo click flooring      14\n",
       "34                        brown plastic planter      14"
      ]
     },
     "execution_count": 16,
     "metadata": {},
     "output_type": "execute_result"
    }
   ],
   "source": [
    "search_term_count.head(35)"
   ]
  },
  {
   "cell_type": "code",
   "execution_count": null,
   "metadata": {},
   "outputs": [],
   "source": []
  },
  {
   "cell_type": "markdown",
   "metadata": {},
   "source": [
    "## 3.2 Deal with Attributes"
   ]
  },
  {
   "cell_type": "code",
   "execution_count": 17,
   "metadata": {},
   "outputs": [
    {
     "data": {
      "text/html": [
       "<style  type=\"text/css\" >\n",
       "</style><table id=\"T_d9055a3e_79a3_11eb_afa9_2c56dc262bbd\" style='display:inline'><caption><b><H2>Attributes<H2></b></caption><thead>    <tr>        <th class=\"blank level0\" ></th>        <th class=\"col_heading level0 col0\" >product_uid</th>        <th class=\"col_heading level0 col1\" >name</th>        <th class=\"col_heading level0 col2\" >value</th>    </tr></thead><tbody>\n",
       "                <tr>\n",
       "                        <th id=\"T_d9055a3e_79a3_11eb_afa9_2c56dc262bbdlevel0_row0\" class=\"row_heading level0 row0\" >0</th>\n",
       "                        <td id=\"T_d9055a3e_79a3_11eb_afa9_2c56dc262bbdrow0_col0\" class=\"data row0 col0\" >100001.000000</td>\n",
       "                        <td id=\"T_d9055a3e_79a3_11eb_afa9_2c56dc262bbdrow0_col1\" class=\"data row0 col1\" >Bullet01</td>\n",
       "                        <td id=\"T_d9055a3e_79a3_11eb_afa9_2c56dc262bbdrow0_col2\" class=\"data row0 col2\" >Versatile connector for various 90° connections and home repair projects</td>\n",
       "            </tr>\n",
       "            <tr>\n",
       "                        <th id=\"T_d9055a3e_79a3_11eb_afa9_2c56dc262bbdlevel0_row1\" class=\"row_heading level0 row1\" >1</th>\n",
       "                        <td id=\"T_d9055a3e_79a3_11eb_afa9_2c56dc262bbdrow1_col0\" class=\"data row1 col0\" >100001.000000</td>\n",
       "                        <td id=\"T_d9055a3e_79a3_11eb_afa9_2c56dc262bbdrow1_col1\" class=\"data row1 col1\" >Bullet02</td>\n",
       "                        <td id=\"T_d9055a3e_79a3_11eb_afa9_2c56dc262bbdrow1_col2\" class=\"data row1 col2\" >Stronger than angled nailing or screw fastening alone</td>\n",
       "            </tr>\n",
       "            <tr>\n",
       "                        <th id=\"T_d9055a3e_79a3_11eb_afa9_2c56dc262bbdlevel0_row2\" class=\"row_heading level0 row2\" >2</th>\n",
       "                        <td id=\"T_d9055a3e_79a3_11eb_afa9_2c56dc262bbdrow2_col0\" class=\"data row2 col0\" >100001.000000</td>\n",
       "                        <td id=\"T_d9055a3e_79a3_11eb_afa9_2c56dc262bbdrow2_col1\" class=\"data row2 col1\" >Bullet03</td>\n",
       "                        <td id=\"T_d9055a3e_79a3_11eb_afa9_2c56dc262bbdrow2_col2\" class=\"data row2 col2\" >Help ensure joints are consistently straight and strong</td>\n",
       "            </tr>\n",
       "            <tr>\n",
       "                        <th id=\"T_d9055a3e_79a3_11eb_afa9_2c56dc262bbdlevel0_row3\" class=\"row_heading level0 row3\" >3</th>\n",
       "                        <td id=\"T_d9055a3e_79a3_11eb_afa9_2c56dc262bbdrow3_col0\" class=\"data row3 col0\" >100001.000000</td>\n",
       "                        <td id=\"T_d9055a3e_79a3_11eb_afa9_2c56dc262bbdrow3_col1\" class=\"data row3 col1\" >Bullet04</td>\n",
       "                        <td id=\"T_d9055a3e_79a3_11eb_afa9_2c56dc262bbdrow3_col2\" class=\"data row3 col2\" >Dimensions: 3 in. x 3 in. x 1-1/2 in.</td>\n",
       "            </tr>\n",
       "            <tr>\n",
       "                        <th id=\"T_d9055a3e_79a3_11eb_afa9_2c56dc262bbdlevel0_row4\" class=\"row_heading level0 row4\" >4</th>\n",
       "                        <td id=\"T_d9055a3e_79a3_11eb_afa9_2c56dc262bbdrow4_col0\" class=\"data row4 col0\" >100001.000000</td>\n",
       "                        <td id=\"T_d9055a3e_79a3_11eb_afa9_2c56dc262bbdrow4_col1\" class=\"data row4 col1\" >Bullet05</td>\n",
       "                        <td id=\"T_d9055a3e_79a3_11eb_afa9_2c56dc262bbdrow4_col2\" class=\"data row4 col2\" >Made from 12-Gauge steel</td>\n",
       "            </tr>\n",
       "    </tbody></table>"
      ],
      "text/plain": [
       "<pandas.io.formats.style.Styler at 0x17338610f88>"
      ]
     },
     "execution_count": 17,
     "metadata": {},
     "output_type": "execute_result"
    }
   ],
   "source": [
    "# let cell can show whole value\n",
    "df_attributes.head().style.set_table_attributes(\"style='display:inline'\").set_caption(f'<b><H2>Attributes<H2></b>')"
   ]
  },
  {
   "cell_type": "code",
   "execution_count": 18,
   "metadata": {},
   "outputs": [
    {
     "name": "stdout",
     "output_type": "stream",
     "text": [
      "df_attributes shape: (2044803, 3)\n"
     ]
    }
   ],
   "source": [
    "print(f'df_attributes shape: {df_attributes.shape}')"
   ]
  },
  {
   "cell_type": "markdown",
   "metadata": {},
   "source": [
    "* ### Check Data Whether Duplicates"
   ]
  },
  {
   "cell_type": "code",
   "execution_count": 19,
   "metadata": {},
   "outputs": [
    {
     "name": "stdout",
     "output_type": "stream",
     "text": [
      "df_attributes: 資料有重復項\n"
     ]
    }
   ],
   "source": [
    "# check duplicates\n",
    "if len(df_attributes.drop_duplicates(['product_uid', 'name', 'value']))==df_attributes.shape[0]:\n",
    "    print('df_attributes: 資料未有重復項')\n",
    "else:\n",
    "    print('df_attributes: 資料有重復項')"
   ]
  },
  {
   "cell_type": "code",
   "execution_count": 20,
   "metadata": {},
   "outputs": [
    {
     "data": {
      "text/html": [
       "<div>\n",
       "<style scoped>\n",
       "    .dataframe tbody tr th:only-of-type {\n",
       "        vertical-align: middle;\n",
       "    }\n",
       "\n",
       "    .dataframe tbody tr th {\n",
       "        vertical-align: top;\n",
       "    }\n",
       "\n",
       "    .dataframe thead th {\n",
       "        text-align: right;\n",
       "    }\n",
       "</style>\n",
       "<table border=\"1\" class=\"dataframe\">\n",
       "  <thead>\n",
       "    <tr style=\"text-align: right;\">\n",
       "      <th></th>\n",
       "      <th>product_uid</th>\n",
       "      <th>name</th>\n",
       "      <th>value</th>\n",
       "    </tr>\n",
       "  </thead>\n",
       "  <tbody>\n",
       "    <tr>\n",
       "      <th>4094</th>\n",
       "      <td>NaN</td>\n",
       "      <td>NaN</td>\n",
       "      <td>NaN</td>\n",
       "    </tr>\n",
       "    <tr>\n",
       "      <th>4100</th>\n",
       "      <td>NaN</td>\n",
       "      <td>NaN</td>\n",
       "      <td>NaN</td>\n",
       "    </tr>\n",
       "    <tr>\n",
       "      <th>6823</th>\n",
       "      <td>NaN</td>\n",
       "      <td>NaN</td>\n",
       "      <td>NaN</td>\n",
       "    </tr>\n",
       "    <tr>\n",
       "      <th>37309</th>\n",
       "      <td>NaN</td>\n",
       "      <td>NaN</td>\n",
       "      <td>NaN</td>\n",
       "    </tr>\n",
       "    <tr>\n",
       "      <th>37316</th>\n",
       "      <td>NaN</td>\n",
       "      <td>NaN</td>\n",
       "      <td>NaN</td>\n",
       "    </tr>\n",
       "    <tr>\n",
       "      <th>...</th>\n",
       "      <td>...</td>\n",
       "      <td>...</td>\n",
       "      <td>...</td>\n",
       "    </tr>\n",
       "    <tr>\n",
       "      <th>1916113</th>\n",
       "      <td>NaN</td>\n",
       "      <td>NaN</td>\n",
       "      <td>NaN</td>\n",
       "    </tr>\n",
       "    <tr>\n",
       "      <th>1971357</th>\n",
       "      <td>NaN</td>\n",
       "      <td>NaN</td>\n",
       "      <td>NaN</td>\n",
       "    </tr>\n",
       "    <tr>\n",
       "      <th>1988903</th>\n",
       "      <td>NaN</td>\n",
       "      <td>NaN</td>\n",
       "      <td>NaN</td>\n",
       "    </tr>\n",
       "    <tr>\n",
       "      <th>2002980</th>\n",
       "      <td>NaN</td>\n",
       "      <td>NaN</td>\n",
       "      <td>NaN</td>\n",
       "    </tr>\n",
       "    <tr>\n",
       "      <th>2027937</th>\n",
       "      <td>NaN</td>\n",
       "      <td>NaN</td>\n",
       "      <td>NaN</td>\n",
       "    </tr>\n",
       "  </tbody>\n",
       "</table>\n",
       "<p>154 rows × 3 columns</p>\n",
       "</div>"
      ],
      "text/plain": [
       "         product_uid name value\n",
       "4094             NaN  NaN   NaN\n",
       "4100             NaN  NaN   NaN\n",
       "6823             NaN  NaN   NaN\n",
       "37309            NaN  NaN   NaN\n",
       "37316            NaN  NaN   NaN\n",
       "...              ...  ...   ...\n",
       "1916113          NaN  NaN   NaN\n",
       "1971357          NaN  NaN   NaN\n",
       "1988903          NaN  NaN   NaN\n",
       "2002980          NaN  NaN   NaN\n",
       "2027937          NaN  NaN   NaN\n",
       "\n",
       "[154 rows x 3 columns]"
      ]
     },
     "execution_count": 20,
     "metadata": {},
     "output_type": "execute_result"
    }
   ],
   "source": [
    "# first : All duplicates except their first occurrence will be marked as True\n",
    "# last : All duplicates except their last occurrence will be marked as True\n",
    "# False : All duplicates except will be marked as True\n",
    "df_attributes[df_attributes.duplicated(subset=['product_uid', 'name', 'value'], keep= 'first')]"
   ]
  },
  {
   "cell_type": "markdown",
   "metadata": {},
   "source": [
    "<code style=\"background:yellow;color:black\">***It look like data frame has some duplicates. The reason is data frame get all NaN values by row.***</code>"
   ]
  },
  {
   "cell_type": "code",
   "execution_count": 21,
   "metadata": {},
   "outputs": [],
   "source": [
    "# 'all' : If all values are NA, drop that row or column. \n",
    "# 'inplace': 是否在原 df 上進行操作，If True, alter datafram but return none. If false, return datafram which already drop NA row\n",
    "df_attributes.dropna(how='all', inplace=True) "
   ]
  },
  {
   "cell_type": "code",
   "execution_count": 22,
   "metadata": {},
   "outputs": [
    {
     "data": {
      "text/html": [
       "<div>\n",
       "<style scoped>\n",
       "    .dataframe tbody tr th:only-of-type {\n",
       "        vertical-align: middle;\n",
       "    }\n",
       "\n",
       "    .dataframe tbody tr th {\n",
       "        vertical-align: top;\n",
       "    }\n",
       "\n",
       "    .dataframe thead th {\n",
       "        text-align: right;\n",
       "    }\n",
       "</style>\n",
       "<table border=\"1\" class=\"dataframe\">\n",
       "  <thead>\n",
       "    <tr style=\"text-align: right;\">\n",
       "      <th></th>\n",
       "      <th>column_type</th>\n",
       "      <th>Not_Null_Count</th>\n",
       "    </tr>\n",
       "  </thead>\n",
       "  <tbody>\n",
       "    <tr>\n",
       "      <th>product_uid</th>\n",
       "      <td>float64</td>\n",
       "      <td>2044648</td>\n",
       "    </tr>\n",
       "    <tr>\n",
       "      <th>name</th>\n",
       "      <td>object</td>\n",
       "      <td>2044648</td>\n",
       "    </tr>\n",
       "    <tr>\n",
       "      <th>value</th>\n",
       "      <td>object</td>\n",
       "      <td>2042519</td>\n",
       "    </tr>\n",
       "  </tbody>\n",
       "</table>\n",
       "</div>"
      ],
      "text/plain": [
       "            column_type  Not_Null_Count\n",
       "product_uid     float64         2044648\n",
       "name             object         2044648\n",
       "value            object         2042519"
      ]
     },
     "metadata": {},
     "output_type": "display_data"
    },
    {
     "name": "stdout",
     "output_type": "stream",
     "text": [
      "-------------------------------------------------------------\n",
      "total columns: 3\n",
      "-------------------------------------------------------------\n",
      "column type count:\n",
      "[('float64', 1), ('object', 2)]\n",
      "-------------------------------------------------------------\n",
      "column memory usage (bytes):\n",
      "[('Index', 16357184), ('product_uid', 16357184), ('name', 16357184), ('value', 16357184)]\n"
     ]
    }
   ],
   "source": [
    "df_column_type = pd.DataFrame(df_attributes.dtypes, columns = ['column_type'])\n",
    "df_Non_Null_Count = pd.DataFrame(df_attributes.notnull().sum(), columns = ['Not_Null_Count'])\n",
    "df_info = pd.concat([df_column_type, df_Non_Null_Count ], axis = 1)\n",
    "display(df_info)\n",
    "\n",
    "print('-------------------------------------------------------------')\n",
    "print(f'total columns: {df_attributes.shape[1]}')\n",
    "print('-------------------------------------------------------------')\n",
    "temp = pd.DataFrame(df_attributes.dtypes, columns = ['dtypes']).groupby('dtypes').size()\n",
    "temp = pd.DataFrame(temp, columns = ['count'])\n",
    "temp = temp.reset_index(drop = False)\n",
    "temp = temp.astype({\"dtypes\": str})\n",
    "column_type_count = [(temp['dtypes'][i],temp['count'][i]) for i in range(len(temp))]\n",
    "print('column type count:')\n",
    "print(column_type_count)\n",
    "\n",
    "temp = pd.DataFrame(df_attributes.memory_usage(), columns = ['memory_usage'])\n",
    "temp = temp.reset_index(drop = False)\n",
    "temp.columns = ['item','memory_usage']\n",
    "column_memory_usage = [(temp['item'][i],temp['memory_usage'][i]) for i in range(len(temp))]\n",
    "print('-------------------------------------------------------------')\n",
    "print('column memory usage (bytes):')\n",
    "print(column_memory_usage)"
   ]
  },
  {
   "cell_type": "markdown",
   "metadata": {},
   "source": [
    "* ### Deal with NaN Data"
   ]
  },
  {
   "cell_type": "code",
   "execution_count": 23,
   "metadata": {},
   "outputs": [
    {
     "data": {
      "text/html": [
       "<div>\n",
       "<style scoped>\n",
       "    .dataframe tbody tr th:only-of-type {\n",
       "        vertical-align: middle;\n",
       "    }\n",
       "\n",
       "    .dataframe tbody tr th {\n",
       "        vertical-align: top;\n",
       "    }\n",
       "\n",
       "    .dataframe thead th {\n",
       "        text-align: right;\n",
       "    }\n",
       "</style>\n",
       "<table border=\"1\" class=\"dataframe\">\n",
       "  <thead>\n",
       "    <tr style=\"text-align: right;\">\n",
       "      <th></th>\n",
       "      <th>product_uid</th>\n",
       "      <th>name</th>\n",
       "      <th>value</th>\n",
       "    </tr>\n",
       "  </thead>\n",
       "  <tbody>\n",
       "    <tr>\n",
       "      <th>1022</th>\n",
       "      <td>100044.0</td>\n",
       "      <td>Collection Name</td>\n",
       "      <td>NaN</td>\n",
       "    </tr>\n",
       "    <tr>\n",
       "      <th>1349</th>\n",
       "      <td>100058.0</td>\n",
       "      <td>Battery Size</td>\n",
       "      <td>NaN</td>\n",
       "    </tr>\n",
       "    <tr>\n",
       "      <th>5909</th>\n",
       "      <td>100248.0</td>\n",
       "      <td>Fastener Thread Type</td>\n",
       "      <td>NaN</td>\n",
       "    </tr>\n",
       "    <tr>\n",
       "      <th>6367</th>\n",
       "      <td>100266.0</td>\n",
       "      <td>Drive Style</td>\n",
       "      <td>NaN</td>\n",
       "    </tr>\n",
       "    <tr>\n",
       "      <th>7898</th>\n",
       "      <td>100329.0</td>\n",
       "      <td>Fastener recommendation</td>\n",
       "      <td>NaN</td>\n",
       "    </tr>\n",
       "    <tr>\n",
       "      <th>...</th>\n",
       "      <td>...</td>\n",
       "      <td>...</td>\n",
       "      <td>...</td>\n",
       "    </tr>\n",
       "    <tr>\n",
       "      <th>2040533</th>\n",
       "      <td>224234.0</td>\n",
       "      <td>Hardware Finish Family</td>\n",
       "      <td>NaN</td>\n",
       "    </tr>\n",
       "    <tr>\n",
       "      <th>2040775</th>\n",
       "      <td>224246.0</td>\n",
       "      <td>Mosaic Sub Unit Length (in.)</td>\n",
       "      <td>NaN</td>\n",
       "    </tr>\n",
       "    <tr>\n",
       "      <th>2040776</th>\n",
       "      <td>224246.0</td>\n",
       "      <td>Mosaic Sub Unit Width (in.)</td>\n",
       "      <td>NaN</td>\n",
       "    </tr>\n",
       "    <tr>\n",
       "      <th>2041817</th>\n",
       "      <td>224289.0</td>\n",
       "      <td>Bore offset</td>\n",
       "      <td>NaN</td>\n",
       "    </tr>\n",
       "    <tr>\n",
       "      <th>2044339</th>\n",
       "      <td>224407.0</td>\n",
       "      <td>Security/ANSI Grade</td>\n",
       "      <td>NaN</td>\n",
       "    </tr>\n",
       "  </tbody>\n",
       "</table>\n",
       "<p>2129 rows × 3 columns</p>\n",
       "</div>"
      ],
      "text/plain": [
       "         product_uid                          name value\n",
       "1022        100044.0               Collection Name   NaN\n",
       "1349        100058.0                  Battery Size   NaN\n",
       "5909        100248.0          Fastener Thread Type   NaN\n",
       "6367        100266.0                   Drive Style   NaN\n",
       "7898        100329.0       Fastener recommendation   NaN\n",
       "...              ...                           ...   ...\n",
       "2040533     224234.0        Hardware Finish Family   NaN\n",
       "2040775     224246.0  Mosaic Sub Unit Length (in.)   NaN\n",
       "2040776     224246.0   Mosaic Sub Unit Width (in.)   NaN\n",
       "2041817     224289.0                   Bore offset   NaN\n",
       "2044339     224407.0           Security/ANSI Grade   NaN\n",
       "\n",
       "[2129 rows x 3 columns]"
      ]
     },
     "execution_count": 23,
     "metadata": {},
     "output_type": "execute_result"
    }
   ],
   "source": [
    "df_attributes[df_attributes.notnull().value==False]"
   ]
  },
  {
   "cell_type": "markdown",
   "metadata": {},
   "source": [
    "<code style=\"background:yellow;color:black\">***I find out df_attributes' value column has NaN. But I think NaN represent products don't have sufficient information to customers. And it usually means the product is not popular. So I convert column type to str.***</code>"
   ]
  },
  {
   "cell_type": "code",
   "execution_count": 24,
   "metadata": {},
   "outputs": [],
   "source": [
    "df_attributes['value'] = df_attributes['value'].astype(str)"
   ]
  },
  {
   "cell_type": "markdown",
   "metadata": {},
   "source": [
    "* ### Convert product_uid's type to 'object'"
   ]
  },
  {
   "cell_type": "code",
   "execution_count": 25,
   "metadata": {},
   "outputs": [],
   "source": [
    "df_attributes[['product_uid']] = df_attributes[['product_uid']].astype('int').astype('object')"
   ]
  },
  {
   "cell_type": "markdown",
   "metadata": {},
   "source": [
    "* ### Data Summary"
   ]
  },
  {
   "cell_type": "code",
   "execution_count": 26,
   "metadata": {},
   "outputs": [
    {
     "data": {
      "text/html": [
       "<table style='width:100%; border:0px'><tr style='border:0px'><td style='width:33.333333333333336%;vertical-align:top;border:0px'><style  type=\"text/css\" >\n",
       "</style><table id=\"T_078c0ea4_79a4_11eb_be41_2c56dc262bbd\" style='display:inline'><caption><b><H2>Descriptive Analysis (object)<H2></b></caption><thead>    <tr>        <th class=\"blank level0\" ></th>        <th class=\"col_heading level0 col0\" >product_uid</th>        <th class=\"col_heading level0 col1\" >name</th>        <th class=\"col_heading level0 col2\" >value</th>    </tr></thead><tbody>\n",
       "                <tr>\n",
       "                        <th id=\"T_078c0ea4_79a4_11eb_be41_2c56dc262bbdlevel0_row0\" class=\"row_heading level0 row0\" >count</th>\n",
       "                        <td id=\"T_078c0ea4_79a4_11eb_be41_2c56dc262bbdrow0_col0\" class=\"data row0 col0\" >2044648</td>\n",
       "                        <td id=\"T_078c0ea4_79a4_11eb_be41_2c56dc262bbdrow0_col1\" class=\"data row0 col1\" >2044648</td>\n",
       "                        <td id=\"T_078c0ea4_79a4_11eb_be41_2c56dc262bbdrow0_col2\" class=\"data row0 col2\" >2044648</td>\n",
       "            </tr>\n",
       "            <tr>\n",
       "                        <th id=\"T_078c0ea4_79a4_11eb_be41_2c56dc262bbdlevel0_row1\" class=\"row_heading level0 row1\" >unique</th>\n",
       "                        <td id=\"T_078c0ea4_79a4_11eb_be41_2c56dc262bbdrow1_col0\" class=\"data row1 col0\" >86263</td>\n",
       "                        <td id=\"T_078c0ea4_79a4_11eb_be41_2c56dc262bbdrow1_col1\" class=\"data row1 col1\" >5410</td>\n",
       "                        <td id=\"T_078c0ea4_79a4_11eb_be41_2c56dc262bbdrow1_col2\" class=\"data row1 col2\" >307588</td>\n",
       "            </tr>\n",
       "            <tr>\n",
       "                        <th id=\"T_078c0ea4_79a4_11eb_be41_2c56dc262bbdlevel0_row2\" class=\"row_heading level0 row2\" >top</th>\n",
       "                        <td id=\"T_078c0ea4_79a4_11eb_be41_2c56dc262bbdrow2_col0\" class=\"data row2 col0\" >195932</td>\n",
       "                        <td id=\"T_078c0ea4_79a4_11eb_be41_2c56dc262bbdrow2_col1\" class=\"data row2 col1\" >MFG Brand Name</td>\n",
       "                        <td id=\"T_078c0ea4_79a4_11eb_be41_2c56dc262bbdrow2_col2\" class=\"data row2 col2\" >No</td>\n",
       "            </tr>\n",
       "            <tr>\n",
       "                        <th id=\"T_078c0ea4_79a4_11eb_be41_2c56dc262bbdlevel0_row3\" class=\"row_heading level0 row3\" >freq</th>\n",
       "                        <td id=\"T_078c0ea4_79a4_11eb_be41_2c56dc262bbdrow3_col0\" class=\"data row3 col0\" >88</td>\n",
       "                        <td id=\"T_078c0ea4_79a4_11eb_be41_2c56dc262bbdrow3_col1\" class=\"data row3 col1\" >86250</td>\n",
       "                        <td id=\"T_078c0ea4_79a4_11eb_be41_2c56dc262bbdrow3_col2\" class=\"data row3 col2\" >92169</td>\n",
       "            </tr>\n",
       "    </tbody></table></td><td style='width:33.333333333333336%;vertical-align:top;border:0px'></td><td style='width:33.333333333333336%;vertical-align:top;border:0px'></td></tr></table>"
      ],
      "text/plain": [
       "<IPython.core.display.HTML object>"
      ]
     },
     "metadata": {},
     "output_type": "display_data"
    }
   ],
   "source": [
    "grid_df_display(list_df = [df_attributes.describe(include=\"O\")], \n",
    "                list_df_name = ['Descriptive Analysis (object)'],\n",
    "                list_number_of_data = [len(df_attributes.describe(include=\"O\"))], row = 1, col = 3, fill = 'col')"
   ]
  },
  {
   "cell_type": "markdown",
   "metadata": {},
   "source": [
    "The top is the most common value. The freq is the most common value’s frequency."
   ]
  },
  {
   "cell_type": "markdown",
   "metadata": {},
   "source": [
    "<code style=\"background:yellow;color:black\">***MFG Brand Name has the most frequency. It can be extract to be a importance feature.***</code>"
   ]
  },
  {
   "cell_type": "markdown",
   "metadata": {},
   "source": [
    "* ### Find out attributes(column name) which has a lot of frequency from df_attributes."
   ]
  },
  {
   "cell_type": "code",
   "execution_count": 27,
   "metadata": {},
   "outputs": [],
   "source": [
    "df_attributes_name_count = pd.DataFrame(df_attributes.groupby(['name']).size(), columns=['frequency'])\n",
    "df_attributes_name_count = df_attributes_name_count.sort_values(by= 'frequency', ascending=False).reset_index(drop = False)"
   ]
  },
  {
   "cell_type": "code",
   "execution_count": 28,
   "metadata": {},
   "outputs": [
    {
     "data": {
      "text/html": [
       "<div>\n",
       "<style scoped>\n",
       "    .dataframe tbody tr th:only-of-type {\n",
       "        vertical-align: middle;\n",
       "    }\n",
       "\n",
       "    .dataframe tbody tr th {\n",
       "        vertical-align: top;\n",
       "    }\n",
       "\n",
       "    .dataframe thead th {\n",
       "        text-align: right;\n",
       "    }\n",
       "</style>\n",
       "<table border=\"1\" class=\"dataframe\">\n",
       "  <thead>\n",
       "    <tr style=\"text-align: right;\">\n",
       "      <th></th>\n",
       "      <th>name</th>\n",
       "      <th>frequency</th>\n",
       "    </tr>\n",
       "  </thead>\n",
       "  <tbody>\n",
       "    <tr>\n",
       "      <th>0</th>\n",
       "      <td>MFG Brand Name</td>\n",
       "      <td>86250</td>\n",
       "    </tr>\n",
       "    <tr>\n",
       "      <th>1</th>\n",
       "      <td>Bullet02</td>\n",
       "      <td>86248</td>\n",
       "    </tr>\n",
       "    <tr>\n",
       "      <th>2</th>\n",
       "      <td>Bullet03</td>\n",
       "      <td>86226</td>\n",
       "    </tr>\n",
       "    <tr>\n",
       "      <th>3</th>\n",
       "      <td>Bullet04</td>\n",
       "      <td>86174</td>\n",
       "    </tr>\n",
       "    <tr>\n",
       "      <th>4</th>\n",
       "      <td>Bullet01</td>\n",
       "      <td>85940</td>\n",
       "    </tr>\n",
       "    <tr>\n",
       "      <th>5</th>\n",
       "      <td>Product Width (in.)</td>\n",
       "      <td>61137</td>\n",
       "    </tr>\n",
       "    <tr>\n",
       "      <th>6</th>\n",
       "      <td>Bullet05</td>\n",
       "      <td>60529</td>\n",
       "    </tr>\n",
       "    <tr>\n",
       "      <th>7</th>\n",
       "      <td>Product Height (in.)</td>\n",
       "      <td>54698</td>\n",
       "    </tr>\n",
       "    <tr>\n",
       "      <th>8</th>\n",
       "      <td>Product Depth (in.)</td>\n",
       "      <td>53652</td>\n",
       "    </tr>\n",
       "    <tr>\n",
       "      <th>9</th>\n",
       "      <td>Product Weight (lb.)</td>\n",
       "      <td>45175</td>\n",
       "    </tr>\n",
       "    <tr>\n",
       "      <th>10</th>\n",
       "      <td>Bullet06</td>\n",
       "      <td>44901</td>\n",
       "    </tr>\n",
       "    <tr>\n",
       "      <th>11</th>\n",
       "      <td>Color Family</td>\n",
       "      <td>41508</td>\n",
       "    </tr>\n",
       "    <tr>\n",
       "      <th>12</th>\n",
       "      <td>Bullet07</td>\n",
       "      <td>34349</td>\n",
       "    </tr>\n",
       "    <tr>\n",
       "      <th>13</th>\n",
       "      <td>Material</td>\n",
       "      <td>31500</td>\n",
       "    </tr>\n",
       "    <tr>\n",
       "      <th>14</th>\n",
       "      <td>Color/Finish</td>\n",
       "      <td>28564</td>\n",
       "    </tr>\n",
       "    <tr>\n",
       "      <th>15</th>\n",
       "      <td>Bullet08</td>\n",
       "      <td>26645</td>\n",
       "    </tr>\n",
       "    <tr>\n",
       "      <th>16</th>\n",
       "      <td>Certifications and Listings</td>\n",
       "      <td>24583</td>\n",
       "    </tr>\n",
       "    <tr>\n",
       "      <th>17</th>\n",
       "      <td>Bullet09</td>\n",
       "      <td>20567</td>\n",
       "    </tr>\n",
       "    <tr>\n",
       "      <th>18</th>\n",
       "      <td>Assembled Height (in.)</td>\n",
       "      <td>18299</td>\n",
       "    </tr>\n",
       "    <tr>\n",
       "      <th>19</th>\n",
       "      <td>Assembled Width (in.)</td>\n",
       "      <td>18263</td>\n",
       "    </tr>\n",
       "    <tr>\n",
       "      <th>20</th>\n",
       "      <td>Assembled Depth (in.)</td>\n",
       "      <td>18198</td>\n",
       "    </tr>\n",
       "    <tr>\n",
       "      <th>21</th>\n",
       "      <td>Product Length (in.)</td>\n",
       "      <td>16705</td>\n",
       "    </tr>\n",
       "    <tr>\n",
       "      <th>22</th>\n",
       "      <td>Bullet10</td>\n",
       "      <td>14763</td>\n",
       "    </tr>\n",
       "    <tr>\n",
       "      <th>23</th>\n",
       "      <td>Indoor/Outdoor</td>\n",
       "      <td>12939</td>\n",
       "    </tr>\n",
       "    <tr>\n",
       "      <th>24</th>\n",
       "      <td>Bullet11</td>\n",
       "      <td>11784</td>\n",
       "    </tr>\n",
       "  </tbody>\n",
       "</table>\n",
       "</div>"
      ],
      "text/plain": [
       "                           name  frequency\n",
       "0                MFG Brand Name      86250\n",
       "1                      Bullet02      86248\n",
       "2                      Bullet03      86226\n",
       "3                      Bullet04      86174\n",
       "4                      Bullet01      85940\n",
       "5           Product Width (in.)      61137\n",
       "6                      Bullet05      60529\n",
       "7          Product Height (in.)      54698\n",
       "8           Product Depth (in.)      53652\n",
       "9          Product Weight (lb.)      45175\n",
       "10                     Bullet06      44901\n",
       "11                 Color Family      41508\n",
       "12                     Bullet07      34349\n",
       "13                     Material      31500\n",
       "14                 Color/Finish      28564\n",
       "15                     Bullet08      26645\n",
       "16  Certifications and Listings      24583\n",
       "17                     Bullet09      20567\n",
       "18       Assembled Height (in.)      18299\n",
       "19        Assembled Width (in.)      18263\n",
       "20        Assembled Depth (in.)      18198\n",
       "21         Product Length (in.)      16705\n",
       "22                     Bullet10      14763\n",
       "23               Indoor/Outdoor      12939\n",
       "24                     Bullet11      11784"
      ]
     },
     "execution_count": 28,
     "metadata": {},
     "output_type": "execute_result"
    }
   ],
   "source": [
    "df_attributes_name_count.head(25)"
   ]
  },
  {
   "cell_type": "markdown",
   "metadata": {},
   "source": [
    "<code style=\"background:yellow;color:black\">***Product attributes such as 'MFG Brand Name', 'Color Family', 'Material', 'Color/Finish', and 'Certifications and Listings' that have a large frequency. Besides, I think these attributes are meaningful by users. So, maybe they can become an important feature for model training.***</code>"
   ]
  },
  {
   "cell_type": "code",
   "execution_count": 29,
   "metadata": {},
   "outputs": [],
   "source": [
    "df_attributes_with_Color = df_attributes_name_count[df_attributes_name_count['name'].str.contains('Color')]\n",
    "df_attributes_with_color = df_attributes_name_count[df_attributes_name_count['name'].str.contains('color')]"
   ]
  },
  {
   "cell_type": "code",
   "execution_count": 30,
   "metadata": {},
   "outputs": [
    {
     "data": {
      "text/html": [
       "<table style='width:100%; border:0px'><tr style='border:0px'><td style='width:33.333333333333336%;vertical-align:top;border:0px'><style  type=\"text/css\" >\n",
       "</style><table id=\"T_0a795d24_79a4_11eb_a68f_2c56dc262bbd\" style='display:inline'><caption><b><H2>Attributes with 'Color' word<H2></b></caption><thead>    <tr>        <th class=\"blank level0\" ></th>        <th class=\"col_heading level0 col0\" >name</th>        <th class=\"col_heading level0 col1\" >frequency</th>    </tr></thead><tbody>\n",
       "                <tr>\n",
       "                        <th id=\"T_0a795d24_79a4_11eb_a68f_2c56dc262bbdlevel0_row0\" class=\"row_heading level0 row0\" >11</th>\n",
       "                        <td id=\"T_0a795d24_79a4_11eb_a68f_2c56dc262bbdrow0_col0\" class=\"data row0 col0\" >Color Family</td>\n",
       "                        <td id=\"T_0a795d24_79a4_11eb_a68f_2c56dc262bbdrow0_col1\" class=\"data row0 col1\" >41508</td>\n",
       "            </tr>\n",
       "            <tr>\n",
       "                        <th id=\"T_0a795d24_79a4_11eb_a68f_2c56dc262bbdlevel0_row1\" class=\"row_heading level0 row1\" >14</th>\n",
       "                        <td id=\"T_0a795d24_79a4_11eb_a68f_2c56dc262bbdrow1_col0\" class=\"data row1 col0\" >Color/Finish</td>\n",
       "                        <td id=\"T_0a795d24_79a4_11eb_a68f_2c56dc262bbdrow1_col1\" class=\"data row1 col1\" >28564</td>\n",
       "            </tr>\n",
       "            <tr>\n",
       "                        <th id=\"T_0a795d24_79a4_11eb_a68f_2c56dc262bbdlevel0_row2\" class=\"row_heading level0 row2\" >32</th>\n",
       "                        <td id=\"T_0a795d24_79a4_11eb_a68f_2c56dc262bbdrow2_col0\" class=\"data row2 col0\" >Color</td>\n",
       "                        <td id=\"T_0a795d24_79a4_11eb_a68f_2c56dc262bbdrow2_col1\" class=\"data row2 col1\" >6222</td>\n",
       "            </tr>\n",
       "            <tr>\n",
       "                        <th id=\"T_0a795d24_79a4_11eb_a68f_2c56dc262bbdlevel0_row3\" class=\"row_heading level0 row3\" >41</th>\n",
       "                        <td id=\"T_0a795d24_79a4_11eb_a68f_2c56dc262bbdrow3_col0\" class=\"data row3 col0\" >Color/Finish Family</td>\n",
       "                        <td id=\"T_0a795d24_79a4_11eb_a68f_2c56dc262bbdrow3_col1\" class=\"data row3 col1\" >4630</td>\n",
       "            </tr>\n",
       "            <tr>\n",
       "                        <th id=\"T_0a795d24_79a4_11eb_a68f_2c56dc262bbdlevel0_row4\" class=\"row_heading level0 row4\" >44</th>\n",
       "                        <td id=\"T_0a795d24_79a4_11eb_a68f_2c56dc262bbdrow4_col0\" class=\"data row4 col0\" >Fixture Color/Finish</td>\n",
       "                        <td id=\"T_0a795d24_79a4_11eb_a68f_2c56dc262bbdrow4_col1\" class=\"data row4 col1\" >4119</td>\n",
       "            </tr>\n",
       "    </tbody></table></td><td style='width:33.333333333333336%;vertical-align:top;border:0px'><style  type=\"text/css\" >\n",
       "</style><table id=\"T_0a79ab74_79a4_11eb_8191_2c56dc262bbd\" style='display:inline'><caption><b><H2>Attributes with 'color' word<H2></b></caption><thead>    <tr>        <th class=\"blank level0\" ></th>        <th class=\"col_heading level0 col0\" >name</th>        <th class=\"col_heading level0 col1\" >frequency</th>    </tr></thead><tbody>\n",
       "                <tr>\n",
       "                        <th id=\"T_0a79ab74_79a4_11eb_8191_2c56dc262bbdlevel0_row0\" class=\"row_heading level0 row0\" >1217</th>\n",
       "                        <td id=\"T_0a79ab74_79a4_11eb_8191_2c56dc262bbdrow0_col0\" class=\"data row0 col0\" >Dry color family</td>\n",
       "                        <td id=\"T_0a79ab74_79a4_11eb_8191_2c56dc262bbdrow0_col1\" class=\"data row0 col1\" >157</td>\n",
       "            </tr>\n",
       "            <tr>\n",
       "                        <th id=\"T_0a79ab74_79a4_11eb_8191_2c56dc262bbdlevel0_row1\" class=\"row_heading level0 row1\" >1301</th>\n",
       "                        <td id=\"T_0a79ab74_79a4_11eb_8191_2c56dc262bbdrow1_col0\" class=\"data row1 col0\" >Wire color</td>\n",
       "                        <td id=\"T_0a79ab74_79a4_11eb_8191_2c56dc262bbdrow1_col1\" class=\"data row1 col1\" >140</td>\n",
       "            </tr>\n",
       "            <tr>\n",
       "                        <th id=\"T_0a79ab74_79a4_11eb_8191_2c56dc262bbdlevel0_row2\" class=\"row_heading level0 row2\" >2486</th>\n",
       "                        <td id=\"T_0a79ab74_79a4_11eb_8191_2c56dc262bbdrow2_col0\" class=\"data row2 col0\" >Lens color family</td>\n",
       "                        <td id=\"T_0a79ab74_79a4_11eb_8191_2c56dc262bbdrow2_col1\" class=\"data row2 col1\" >46</td>\n",
       "            </tr>\n",
       "    </tbody></table></td><td style='width:33.333333333333336%;vertical-align:top;border:0px'></td></tr></table>"
      ],
      "text/plain": [
       "<IPython.core.display.HTML object>"
      ]
     },
     "metadata": {},
     "output_type": "display_data"
    }
   ],
   "source": [
    "grid_df_display(list_df = [df_attributes_with_Color.head() , df_attributes_with_color.head()], \n",
    "                list_df_name = [\"Attributes with 'Color' word\", \"Attributes with 'color' word\"],\n",
    "                list_number_of_data = [len(df_attributes_with_Color), len(df_attributes_with_color)], row = 1, col = 3, fill = 'col')"
   ]
  },
  {
   "cell_type": "markdown",
   "metadata": {},
   "source": [
    "<code style=\"background:yellow;color:black\">***I pick attributes which is product color and top 5 frequency.***</code>"
   ]
  },
  {
   "cell_type": "code",
   "execution_count": null,
   "metadata": {},
   "outputs": [],
   "source": []
  },
  {
   "cell_type": "markdown",
   "metadata": {},
   "source": [
    "* ### Check number of product attributes whether has some pattern is usable for model building"
   ]
  },
  {
   "cell_type": "code",
   "execution_count": 31,
   "metadata": {},
   "outputs": [
    {
     "data": {
      "text/html": [
       "<div>\n",
       "<style scoped>\n",
       "    .dataframe tbody tr th:only-of-type {\n",
       "        vertical-align: middle;\n",
       "    }\n",
       "\n",
       "    .dataframe tbody tr th {\n",
       "        vertical-align: top;\n",
       "    }\n",
       "\n",
       "    .dataframe thead th {\n",
       "        text-align: right;\n",
       "    }\n",
       "</style>\n",
       "<table border=\"1\" class=\"dataframe\">\n",
       "  <thead>\n",
       "    <tr style=\"text-align: right;\">\n",
       "      <th></th>\n",
       "      <th>product_uid</th>\n",
       "      <th>number_of_attribute</th>\n",
       "    </tr>\n",
       "  </thead>\n",
       "  <tbody>\n",
       "    <tr>\n",
       "      <th>0</th>\n",
       "      <td>100001</td>\n",
       "      <td>15</td>\n",
       "    </tr>\n",
       "    <tr>\n",
       "      <th>1</th>\n",
       "      <td>100002</td>\n",
       "      <td>35</td>\n",
       "    </tr>\n",
       "    <tr>\n",
       "      <th>2</th>\n",
       "      <td>100003</td>\n",
       "      <td>32</td>\n",
       "    </tr>\n",
       "    <tr>\n",
       "      <th>3</th>\n",
       "      <td>100004</td>\n",
       "      <td>25</td>\n",
       "    </tr>\n",
       "    <tr>\n",
       "      <th>4</th>\n",
       "      <td>100005</td>\n",
       "      <td>25</td>\n",
       "    </tr>\n",
       "    <tr>\n",
       "      <th>...</th>\n",
       "      <td>...</td>\n",
       "      <td>...</td>\n",
       "    </tr>\n",
       "    <tr>\n",
       "      <th>86258</th>\n",
       "      <td>224422</td>\n",
       "      <td>31</td>\n",
       "    </tr>\n",
       "    <tr>\n",
       "      <th>86259</th>\n",
       "      <td>224423</td>\n",
       "      <td>26</td>\n",
       "    </tr>\n",
       "    <tr>\n",
       "      <th>86260</th>\n",
       "      <td>224424</td>\n",
       "      <td>18</td>\n",
       "    </tr>\n",
       "    <tr>\n",
       "      <th>86261</th>\n",
       "      <td>224425</td>\n",
       "      <td>23</td>\n",
       "    </tr>\n",
       "    <tr>\n",
       "      <th>86262</th>\n",
       "      <td>224428</td>\n",
       "      <td>25</td>\n",
       "    </tr>\n",
       "  </tbody>\n",
       "</table>\n",
       "<p>86263 rows × 2 columns</p>\n",
       "</div>"
      ],
      "text/plain": [
       "       product_uid  number_of_attribute\n",
       "0           100001                   15\n",
       "1           100002                   35\n",
       "2           100003                   32\n",
       "3           100004                   25\n",
       "4           100005                   25\n",
       "...            ...                  ...\n",
       "86258       224422                   31\n",
       "86259       224423                   26\n",
       "86260       224424                   18\n",
       "86261       224425                   23\n",
       "86262       224428                   25\n",
       "\n",
       "[86263 rows x 2 columns]"
      ]
     },
     "execution_count": 31,
     "metadata": {},
     "output_type": "execute_result"
    }
   ],
   "source": [
    "df_number_of_attribute = pd.DataFrame(df_attributes.groupby('product_uid').size(), \n",
    "                                      columns = ['number_of_attribute']).reset_index(drop = False)\n",
    "df_number_of_attribute"
   ]
  },
  {
   "cell_type": "code",
   "execution_count": 32,
   "metadata": {},
   "outputs": [
    {
     "data": {
      "image/png": "[encoded data removed]",
      "text/plain": [
       "<Figure size 432x288 with 1 Axes>"
      ]
     },
     "metadata": {
      "needs_background": "light"
     },
     "output_type": "display_data"
    },
    {
     "data": {
      "image/png": "[encoded data removed]",
      "text/plain": [
       "<Figure size 576x360 with 1 Axes>"
      ]
     },
     "metadata": {
      "needs_background": "light"
     },
     "output_type": "display_data"
    }
   ],
   "source": [
    "#histogram and normal probability plot\n",
    "sns.histplot(df_number_of_attribute['number_of_attribute']);\n",
    "fig = plt.figure(num=3, figsize=(8, 5))\n",
    "res = stats.probplot(df_number_of_attribute['number_of_attribute'], plot=plt)"
   ]
  },
  {
   "cell_type": "code",
   "execution_count": null,
   "metadata": {},
   "outputs": [],
   "source": []
  },
  {
   "cell_type": "markdown",
   "metadata": {},
   "source": [
    "## 3.3 Deal with Product Descriptions"
   ]
  },
  {
   "cell_type": "code",
   "execution_count": 33,
   "metadata": {},
   "outputs": [
    {
     "data": {
      "text/html": [
       "<style  type=\"text/css\" >\n",
       "</style><table id=\"T_4b25121a_79a4_11eb_a536_2c56dc262bbd\" style='display:inline'><caption><b><H2>Product Descriptions<H2></b></caption><thead>    <tr>        <th class=\"blank level0\" ></th>        <th class=\"col_heading level0 col0\" >product_uid</th>        <th class=\"col_heading level0 col1\" >product_description</th>    </tr></thead><tbody>\n",
       "                <tr>\n",
       "                        <th id=\"T_4b25121a_79a4_11eb_a536_2c56dc262bbdlevel0_row0\" class=\"row_heading level0 row0\" >0</th>\n",
       "                        <td id=\"T_4b25121a_79a4_11eb_a536_2c56dc262bbdrow0_col0\" class=\"data row0 col0\" >100001</td>\n",
       "                        <td id=\"T_4b25121a_79a4_11eb_a536_2c56dc262bbdrow0_col1\" class=\"data row0 col1\" >Not only do angles make joints stronger, they also provide more consistent, straight corners. Simpson Strong-Tie offers a wide variety of angles in various sizes and thicknesses to handle light-duty jobs or projects where a structural connection is needed. Some can be bent (skewed) to match the project. For outdoor projects or those where moisture is present, use our ZMAX zinc-coated connectors, which provide extra resistance against corrosion (look for a \"Z\" at the end of the model number).Versatile connector for various 90 connections and home repair projectsStronger than angled nailing or screw fastening aloneHelp ensure joints are consistently straight and strongDimensions: 3 in. x 3 in. x 1-1/2 in.Made from 12-Gauge steelGalvanized for extra corrosion resistanceInstall with 10d common nails or #9 x 1-1/2 in. Strong-Drive SD screws</td>\n",
       "            </tr>\n",
       "            <tr>\n",
       "                        <th id=\"T_4b25121a_79a4_11eb_a536_2c56dc262bbdlevel0_row1\" class=\"row_heading level0 row1\" >1</th>\n",
       "                        <td id=\"T_4b25121a_79a4_11eb_a536_2c56dc262bbdrow1_col0\" class=\"data row1 col0\" >100002</td>\n",
       "                        <td id=\"T_4b25121a_79a4_11eb_a536_2c56dc262bbdrow1_col1\" class=\"data row1 col1\" >BEHR Premium Textured DECKOVER is an innovative solid color coating. It will bring your old, weathered wood or concrete back to life. The advanced 100% acrylic resin formula creates a durable coating for your tired and worn out deck, rejuvenating to a whole new look.  For the best results, be sure to properly prepare the surface using other applicable BEHR products displayed above.California residents: see&nbsp;Proposition 65 informationRevives wood and composite decks, railings, porches and boat docks, also great for concrete pool decks, patios and sidewalks100% acrylic solid color coatingResists cracking and peeling and conceals splinters and cracks up to 1/4 in.Provides a durable, mildew resistant finishCovers up to 75 sq. ft. in 2 coats per gallonCreates a textured, slip-resistant finishFor best results, prepare with the appropriate BEHR product for your wood or concrete surfaceActual paint colors may vary from on-screen and printer representationsColors available to be tinted in most storesOnline Price includes Paint Care fee in the following states: CA, CO, CT, ME, MN, OR, RI, VT</td>\n",
       "            </tr>\n",
       "            <tr>\n",
       "                        <th id=\"T_4b25121a_79a4_11eb_a536_2c56dc262bbdlevel0_row2\" class=\"row_heading level0 row2\" >2</th>\n",
       "                        <td id=\"T_4b25121a_79a4_11eb_a536_2c56dc262bbdrow2_col0\" class=\"data row2 col0\" >100003</td>\n",
       "                        <td id=\"T_4b25121a_79a4_11eb_a536_2c56dc262bbdrow2_col1\" class=\"data row2 col1\" >Classic architecture meets contemporary design in the Ensemble Curve series, made of solid Vikrell material, blending sleek, clean lines with gentle curves. Corner shelving is perfect for storing bath accessories. Modular design allows it to be moved around corners and through doorways with ease. Curve wall with a smooth, contemporary look, featuring integrated storage shelves.Slightly narrower for tighter spacesDesigned with an 18 in. apronDurable high-gloss finish provides a smooth, shiny surface that is easy to cleanConforms to ANSI Z124.1.2 and CSA B45.1 national consensus standardsCurve wall with a smooth, contemporary look, featuring integrated storage shelves</td>\n",
       "            </tr>\n",
       "            <tr>\n",
       "                        <th id=\"T_4b25121a_79a4_11eb_a536_2c56dc262bbdlevel0_row3\" class=\"row_heading level0 row3\" >3</th>\n",
       "                        <td id=\"T_4b25121a_79a4_11eb_a536_2c56dc262bbdrow3_col0\" class=\"data row3 col0\" >100004</td>\n",
       "                        <td id=\"T_4b25121a_79a4_11eb_a536_2c56dc262bbdrow3_col1\" class=\"data row3 col1\" >The Grape Solar 265-Watt Polycrystalline PV Solar Panel bonus pack bundles 4 Grape Solar 265-Watt solar panels for extra savings. The Grape Solar 265-Watt Polycrystalline PV Solar Panel uses high efficiency solar cells (approximately 19%) made from quality silicon material for high module conversion efficiency, long term output stability, and reliability. Virtually maintenance free. High transmittance, low iron tempered glass for durability and enhanced impact resistance.Positive power tolerance (0 to +5-Watt)Anti-reflective and anti-soiling surface reduces power loss from dirt and dustOutstanding performance in low-light irradiances environmentsCertified to withstand high wind and snow loads100% electroluminescence inspection ensures modules are defect freePositive and negative leads quipped with MC4 connectors</td>\n",
       "            </tr>\n",
       "            <tr>\n",
       "                        <th id=\"T_4b25121a_79a4_11eb_a536_2c56dc262bbdlevel0_row4\" class=\"row_heading level0 row4\" >4</th>\n",
       "                        <td id=\"T_4b25121a_79a4_11eb_a536_2c56dc262bbdrow4_col0\" class=\"data row4 col0\" >100005</td>\n",
       "                        <td id=\"T_4b25121a_79a4_11eb_a536_2c56dc262bbdrow4_col1\" class=\"data row4 col1\" >Update your bathroom with the Delta Vero Single-Handle Shower Faucet Trim Kit in Chrome. It has a sleek, modern and minimalistic aesthetic. The MultiChoice universal valve keeps the water temperature within +/-3 degrees Fahrenheit to help prevent scalding.California residents: see&nbsp;Proposition 65 informationIncludes the trim kit only, the rough-in kit (R10000-UNBX) is sold separatelyIncludes the handleMaintains a balanced pressure of hot and cold water even when a valve is turned on or off elsewhere in the systemDue to WaterSense regulations in the state of New York, please confirm your shipping zip code is not restricted from use of items that do not meet WaterSense qualifications</td>\n",
       "            </tr>\n",
       "    </tbody></table>"
      ],
      "text/plain": [
       "<pandas.io.formats.style.Styler at 0x17337cda508>"
      ]
     },
     "execution_count": 33,
     "metadata": {},
     "output_type": "execute_result"
    }
   ],
   "source": [
    "# let cell can show whole value\n",
    "df_product_descriptions.head().style.set_table_attributes(\"style='display:inline'\").set_caption(f'<b><H2>Product Descriptions<H2></b>')"
   ]
  },
  {
   "cell_type": "code",
   "execution_count": 34,
   "metadata": {},
   "outputs": [
    {
     "name": "stdout",
     "output_type": "stream",
     "text": [
      "df_product_descriptions shape: (124428, 2)\n"
     ]
    }
   ],
   "source": [
    "print(f'df_product_descriptions shape: {df_product_descriptions.shape}')"
   ]
  },
  {
   "cell_type": "markdown",
   "metadata": {},
   "source": [
    "* ### Check Data Whether Duplicates"
   ]
  },
  {
   "cell_type": "code",
   "execution_count": 35,
   "metadata": {},
   "outputs": [
    {
     "name": "stdout",
     "output_type": "stream",
     "text": [
      "df_product_descriptions: 資料未有重復項\n"
     ]
    }
   ],
   "source": [
    "# check duplicates\n",
    "if len(df_product_descriptions.drop_duplicates(['product_uid', 'product_description']))==df_product_descriptions.shape[0]:\n",
    "    print('df_product_descriptions: 資料未有重復項')\n",
    "else:\n",
    "    print('df_product_descriptions: 資料有重復項')"
   ]
  },
  {
   "cell_type": "code",
   "execution_count": 36,
   "metadata": {},
   "outputs": [
    {
     "data": {
      "text/html": [
       "<div>\n",
       "<style scoped>\n",
       "    .dataframe tbody tr th:only-of-type {\n",
       "        vertical-align: middle;\n",
       "    }\n",
       "\n",
       "    .dataframe tbody tr th {\n",
       "        vertical-align: top;\n",
       "    }\n",
       "\n",
       "    .dataframe thead th {\n",
       "        text-align: right;\n",
       "    }\n",
       "</style>\n",
       "<table border=\"1\" class=\"dataframe\">\n",
       "  <thead>\n",
       "    <tr style=\"text-align: right;\">\n",
       "      <th></th>\n",
       "      <th>column_type</th>\n",
       "      <th>Not_Null_Count</th>\n",
       "    </tr>\n",
       "  </thead>\n",
       "  <tbody>\n",
       "    <tr>\n",
       "      <th>product_uid</th>\n",
       "      <td>int64</td>\n",
       "      <td>124428</td>\n",
       "    </tr>\n",
       "    <tr>\n",
       "      <th>product_description</th>\n",
       "      <td>object</td>\n",
       "      <td>124428</td>\n",
       "    </tr>\n",
       "  </tbody>\n",
       "</table>\n",
       "</div>"
      ],
      "text/plain": [
       "                    column_type  Not_Null_Count\n",
       "product_uid               int64          124428\n",
       "product_description      object          124428"
      ]
     },
     "metadata": {},
     "output_type": "display_data"
    },
    {
     "name": "stdout",
     "output_type": "stream",
     "text": [
      "-------------------------------------------------------------\n",
      "total columns: 2\n",
      "-------------------------------------------------------------\n",
      "column type count:\n",
      "[('int64', 1), ('object', 1)]\n",
      "-------------------------------------------------------------\n",
      "column memory usage (bytes):\n",
      "[('Index', 128), ('product_uid', 995424), ('product_description', 995424)]\n"
     ]
    }
   ],
   "source": [
    "df_column_type = pd.DataFrame(df_product_descriptions.dtypes, columns = ['column_type'])\n",
    "df_Non_Null_Count = pd.DataFrame(df_product_descriptions.notnull().sum(), columns = ['Not_Null_Count'])\n",
    "df_info = pd.concat([df_column_type, df_Non_Null_Count ], axis = 1)\n",
    "display(df_info)\n",
    "\n",
    "print('-------------------------------------------------------------')\n",
    "print(f'total columns: {df_product_descriptions.shape[1]}')\n",
    "print('-------------------------------------------------------------')\n",
    "temp = pd.DataFrame(df_product_descriptions.dtypes, columns = ['dtypes']).groupby('dtypes').size()\n",
    "temp = pd.DataFrame(temp, columns = ['count'])\n",
    "temp = temp.reset_index(drop = False)\n",
    "temp = temp.astype({\"dtypes\": str})\n",
    "column_type_count = [(temp['dtypes'][i],temp['count'][i]) for i in range(len(temp))]\n",
    "print('column type count:')\n",
    "print(column_type_count)\n",
    "\n",
    "temp = pd.DataFrame(df_product_descriptions.memory_usage(), columns = ['memory_usage'])\n",
    "temp = temp.reset_index(drop = False)\n",
    "temp.columns = ['item','memory_usage']\n",
    "column_memory_usage = [(temp['item'][i],temp['memory_usage'][i]) for i in range(len(temp))]\n",
    "print('-------------------------------------------------------------')\n",
    "print('column memory usage (bytes):')\n",
    "print(column_memory_usage)"
   ]
  },
  {
   "cell_type": "markdown",
   "metadata": {},
   "source": [
    "* ### Convert product_uid's type to 'object'"
   ]
  },
  {
   "cell_type": "code",
   "execution_count": 37,
   "metadata": {},
   "outputs": [],
   "source": [
    "df_product_descriptions[['product_uid']] = df_product_descriptions[['product_uid']].astype('object')"
   ]
  },
  {
   "cell_type": "markdown",
   "metadata": {},
   "source": [
    "* ### Data Summary"
   ]
  },
  {
   "cell_type": "code",
   "execution_count": 38,
   "metadata": {},
   "outputs": [
    {
     "data": {
      "text/html": [
       "<table style='width:100%; border:0px'><tr style='border:0px'><td style='width:100.0%;vertical-align:top;border:0px'><style  type=\"text/css\" >\n",
       "</style><table id=\"T_4d495a3a_79a4_11eb_bf86_2c56dc262bbd\" style='display:inline'><caption><b><H2>Descriptive Analysis (object)<H2></b></caption><thead>    <tr>        <th class=\"blank level0\" ></th>        <th class=\"col_heading level0 col0\" >product_uid</th>        <th class=\"col_heading level0 col1\" >product_description</th>    </tr></thead><tbody>\n",
       "                <tr>\n",
       "                        <th id=\"T_4d495a3a_79a4_11eb_bf86_2c56dc262bbdlevel0_row0\" class=\"row_heading level0 row0\" >count</th>\n",
       "                        <td id=\"T_4d495a3a_79a4_11eb_bf86_2c56dc262bbdrow0_col0\" class=\"data row0 col0\" >124428</td>\n",
       "                        <td id=\"T_4d495a3a_79a4_11eb_bf86_2c56dc262bbdrow0_col1\" class=\"data row0 col1\" >124428</td>\n",
       "            </tr>\n",
       "            <tr>\n",
       "                        <th id=\"T_4d495a3a_79a4_11eb_bf86_2c56dc262bbdlevel0_row1\" class=\"row_heading level0 row1\" >unique</th>\n",
       "                        <td id=\"T_4d495a3a_79a4_11eb_bf86_2c56dc262bbdrow1_col0\" class=\"data row1 col0\" >124428</td>\n",
       "                        <td id=\"T_4d495a3a_79a4_11eb_bf86_2c56dc262bbdrow1_col1\" class=\"data row1 col1\" >110128</td>\n",
       "            </tr>\n",
       "            <tr>\n",
       "                        <th id=\"T_4d495a3a_79a4_11eb_bf86_2c56dc262bbdlevel0_row2\" class=\"row_heading level0 row2\" >top</th>\n",
       "                        <td id=\"T_4d495a3a_79a4_11eb_bf86_2c56dc262bbdrow2_col0\" class=\"data row2 col0\" >224428</td>\n",
       "                        <td id=\"T_4d495a3a_79a4_11eb_bf86_2c56dc262bbdrow2_col1\" class=\"data row2 col1\" >Team spirit by the gallon. With the officially licensed colors from your favorite teams, you can turn any room into your dream \"Fan Cave\". Don't worry about your paint's defense either. Glidden's DUO formula is more than just a paint. It also primes with every single roll, saving you time and energy. Better yet, Glidden DUO Paint and Primer is a great value. You only have to purchase one product to get a quality primer plus a premium paint. Glidden DUO Paint and Primer is available in three sheens and 282 interior colors and is especially effective as a bathroom paint. Get going on your project today to experience beautiful, long-lasting results, guaranteed.California residents: see&nbsp;Proposition 65 informationExceptional hiding power for great coverage in fewer coats, even over darker colorsExcellent adhesion to most new or previously painted surfacesStain-blocking primer combined with stain-resistant paintMildew-resistant coating that's great for bathroomsEasy cleaning to keep walls looking good over timeLow odor and low VOCsActual paint colors may vary from on-screen and printer representationsOnline Price includes Paint Care fee in the following states: CA, CO, CT, MN, OR, RI, VTClick here to use our paint calculator and estimate how much paint you need to complete your project</td>\n",
       "            </tr>\n",
       "            <tr>\n",
       "                        <th id=\"T_4d495a3a_79a4_11eb_bf86_2c56dc262bbdlevel0_row3\" class=\"row_heading level0 row3\" >freq</th>\n",
       "                        <td id=\"T_4d495a3a_79a4_11eb_bf86_2c56dc262bbdrow3_col0\" class=\"data row3 col0\" >1</td>\n",
       "                        <td id=\"T_4d495a3a_79a4_11eb_bf86_2c56dc262bbdrow3_col1\" class=\"data row3 col1\" >43</td>\n",
       "            </tr>\n",
       "    </tbody></table></td></tr></table>"
      ],
      "text/plain": [
       "<IPython.core.display.HTML object>"
      ]
     },
     "metadata": {},
     "output_type": "display_data"
    }
   ],
   "source": [
    "grid_df_display(list_df = [df_product_descriptions.describe(include=\"O\")], \n",
    "                list_df_name = ['Descriptive Analysis (object)'],\n",
    "                list_number_of_data = [len(df_product_descriptions.describe(include=\"O\"))], row = 1, col = 1, fill = 'col')"
   ]
  },
  {
   "cell_type": "markdown",
   "metadata": {},
   "source": [
    "The top is the most common value. The freq is the most common value’s frequency.<br>"
   ]
  },
  {
   "cell_type": "markdown",
   "metadata": {},
   "source": [
    "<code style=\"background:yellow;color:black\">***I find out many products got the same descriptions. I think the reason is going to happen when some similar products.***</code>"
   ]
  },
  {
   "cell_type": "markdown",
   "metadata": {},
   "source": [
    "* ### Check why many products got the same descriptions"
   ]
  },
  {
   "cell_type": "code",
   "execution_count": 39,
   "metadata": {},
   "outputs": [],
   "source": [
    "df_number_of_product_descriptions = pd.DataFrame(df_product_descriptions.groupby(['product_description']).size(), \n",
    "                                      columns = ['number_of_product_uid']).reset_index(drop = False)"
   ]
  },
  {
   "cell_type": "code",
   "execution_count": 40,
   "metadata": {},
   "outputs": [
    {
     "data": {
      "text/html": [
       "<div>\n",
       "<style scoped>\n",
       "    .dataframe tbody tr th:only-of-type {\n",
       "        vertical-align: middle;\n",
       "    }\n",
       "\n",
       "    .dataframe tbody tr th {\n",
       "        vertical-align: top;\n",
       "    }\n",
       "\n",
       "    .dataframe thead th {\n",
       "        text-align: right;\n",
       "    }\n",
       "</style>\n",
       "<table border=\"1\" class=\"dataframe\">\n",
       "  <thead>\n",
       "    <tr style=\"text-align: right;\">\n",
       "      <th></th>\n",
       "      <th>product_description</th>\n",
       "      <th>number_of_product_uid</th>\n",
       "    </tr>\n",
       "  </thead>\n",
       "  <tbody>\n",
       "    <tr>\n",
       "      <th>0</th>\n",
       "      <td>\"Building Outdoor Structures\" offers practical...</td>\n",
       "      <td>1</td>\n",
       "    </tr>\n",
       "    <tr>\n",
       "      <th>1</th>\n",
       "      <td>\"Code Check Commercial is a field guide for co...</td>\n",
       "      <td>1</td>\n",
       "    </tr>\n",
       "    <tr>\n",
       "      <th>2</th>\n",
       "      <td>\"Code Check Complete, 2nd Edition\" combines th...</td>\n",
       "      <td>1</td>\n",
       "    </tr>\n",
       "    <tr>\n",
       "      <th>3</th>\n",
       "      <td>\"Compost Happens the FreeGarden EARTH compost ...</td>\n",
       "      <td>1</td>\n",
       "    </tr>\n",
       "    <tr>\n",
       "      <th>4</th>\n",
       "      <td>\"Constructor\" Prelude door locks feature moder...</td>\n",
       "      <td>1</td>\n",
       "    </tr>\n",
       "    <tr>\n",
       "      <th>...</th>\n",
       "      <td>...</td>\n",
       "      <td>...</td>\n",
       "    </tr>\n",
       "    <tr>\n",
       "      <th>110123</th>\n",
       "      <td>the great outdoors by Minka Lavery Irvington M...</td>\n",
       "      <td>1</td>\n",
       "    </tr>\n",
       "    <tr>\n",
       "      <th>110124</th>\n",
       "      <td>the great outdoors by Minka Lavery Irvington M...</td>\n",
       "      <td>1</td>\n",
       "    </tr>\n",
       "    <tr>\n",
       "      <th>110125</th>\n",
       "      <td>the great outdoors by Minka Lavery Irvington M...</td>\n",
       "      <td>1</td>\n",
       "    </tr>\n",
       "    <tr>\n",
       "      <th>110126</th>\n",
       "      <td>use the 1-1/4 in. x 6 in. Polypropylene Tailpi...</td>\n",
       "      <td>1</td>\n",
       "    </tr>\n",
       "    <tr>\n",
       "      <th>110127</th>\n",
       "      <td>wedi Tub Surround Kit offers simple installati...</td>\n",
       "      <td>1</td>\n",
       "    </tr>\n",
       "  </tbody>\n",
       "</table>\n",
       "<p>110128 rows × 2 columns</p>\n",
       "</div>"
      ],
      "text/plain": [
       "                                      product_description  \\\n",
       "0       \"Building Outdoor Structures\" offers practical...   \n",
       "1       \"Code Check Commercial is a field guide for co...   \n",
       "2       \"Code Check Complete, 2nd Edition\" combines th...   \n",
       "3       \"Compost Happens the FreeGarden EARTH compost ...   \n",
       "4       \"Constructor\" Prelude door locks feature moder...   \n",
       "...                                                   ...   \n",
       "110123  the great outdoors by Minka Lavery Irvington M...   \n",
       "110124  the great outdoors by Minka Lavery Irvington M...   \n",
       "110125  the great outdoors by Minka Lavery Irvington M...   \n",
       "110126  use the 1-1/4 in. x 6 in. Polypropylene Tailpi...   \n",
       "110127  wedi Tub Surround Kit offers simple installati...   \n",
       "\n",
       "        number_of_product_uid  \n",
       "0                           1  \n",
       "1                           1  \n",
       "2                           1  \n",
       "3                           1  \n",
       "4                           1  \n",
       "...                       ...  \n",
       "110123                      1  \n",
       "110124                      1  \n",
       "110125                      1  \n",
       "110126                      1  \n",
       "110127                      1  \n",
       "\n",
       "[110128 rows x 2 columns]"
      ]
     },
     "execution_count": 40,
     "metadata": {},
     "output_type": "execute_result"
    }
   ],
   "source": [
    "df_number_of_product_descriptions"
   ]
  },
  {
   "cell_type": "code",
   "execution_count": 41,
   "metadata": {},
   "outputs": [],
   "source": [
    "df_number_of_product_descriptions_group = df_number_of_product_descriptions.sort_values(by=['number_of_product_uid'], ascending=False)"
   ]
  },
  {
   "cell_type": "code",
   "execution_count": 42,
   "metadata": {},
   "outputs": [
    {
     "data": {
      "text/html": [
       "<div>\n",
       "<style scoped>\n",
       "    .dataframe tbody tr th:only-of-type {\n",
       "        vertical-align: middle;\n",
       "    }\n",
       "\n",
       "    .dataframe tbody tr th {\n",
       "        vertical-align: top;\n",
       "    }\n",
       "\n",
       "    .dataframe thead th {\n",
       "        text-align: right;\n",
       "    }\n",
       "</style>\n",
       "<table border=\"1\" class=\"dataframe\">\n",
       "  <thead>\n",
       "    <tr style=\"text-align: right;\">\n",
       "      <th></th>\n",
       "      <th>product_description</th>\n",
       "      <th>number_of_product_uid</th>\n",
       "    </tr>\n",
       "  </thead>\n",
       "  <tbody>\n",
       "    <tr>\n",
       "      <th>51406</th>\n",
       "      <td>Team spirit by the gallon. With the officially...</td>\n",
       "      <td>43</td>\n",
       "    </tr>\n",
       "    <tr>\n",
       "      <th>106061</th>\n",
       "      <td>When making plans for design improvements to t...</td>\n",
       "      <td>42</td>\n",
       "    </tr>\n",
       "    <tr>\n",
       "      <th>25545</th>\n",
       "      <td>Glidden DUO formula is more than just a paint....</td>\n",
       "      <td>40</td>\n",
       "    </tr>\n",
       "    <tr>\n",
       "      <th>101706</th>\n",
       "      <td>Transform an ordinary kitchen or bathroom into...</td>\n",
       "      <td>40</td>\n",
       "    </tr>\n",
       "    <tr>\n",
       "      <th>39496</th>\n",
       "      <td>PVC Sch. 40 fitting that is for pressure syste...</td>\n",
       "      <td>40</td>\n",
       "    </tr>\n",
       "    <tr>\n",
       "      <th>...</th>\n",
       "      <td>...</td>\n",
       "      <td>...</td>\n",
       "    </tr>\n",
       "    <tr>\n",
       "      <th>38208</th>\n",
       "      <td>Ordinary tap water is full of lime, calcium an...</td>\n",
       "      <td>1</td>\n",
       "    </tr>\n",
       "    <tr>\n",
       "      <th>38207</th>\n",
       "      <td>Ordinary golf carts and other electric vehicle...</td>\n",
       "      <td>1</td>\n",
       "    </tr>\n",
       "    <tr>\n",
       "      <th>38206</th>\n",
       "      <td>Order your wave moulding sample today. Welcome...</td>\n",
       "      <td>1</td>\n",
       "    </tr>\n",
       "    <tr>\n",
       "      <th>38205</th>\n",
       "      <td>Order your sample door and start your kitchen ...</td>\n",
       "      <td>1</td>\n",
       "    </tr>\n",
       "    <tr>\n",
       "      <th>110127</th>\n",
       "      <td>wedi Tub Surround Kit offers simple installati...</td>\n",
       "      <td>1</td>\n",
       "    </tr>\n",
       "  </tbody>\n",
       "</table>\n",
       "<p>110128 rows × 2 columns</p>\n",
       "</div>"
      ],
      "text/plain": [
       "                                      product_description  \\\n",
       "51406   Team spirit by the gallon. With the officially...   \n",
       "106061  When making plans for design improvements to t...   \n",
       "25545   Glidden DUO formula is more than just a paint....   \n",
       "101706  Transform an ordinary kitchen or bathroom into...   \n",
       "39496   PVC Sch. 40 fitting that is for pressure syste...   \n",
       "...                                                   ...   \n",
       "38208   Ordinary tap water is full of lime, calcium an...   \n",
       "38207   Ordinary golf carts and other electric vehicle...   \n",
       "38206   Order your wave moulding sample today. Welcome...   \n",
       "38205   Order your sample door and start your kitchen ...   \n",
       "110127  wedi Tub Surround Kit offers simple installati...   \n",
       "\n",
       "        number_of_product_uid  \n",
       "51406                      43  \n",
       "106061                     42  \n",
       "25545                      40  \n",
       "101706                     40  \n",
       "39496                      40  \n",
       "...                       ...  \n",
       "38208                       1  \n",
       "38207                       1  \n",
       "38206                       1  \n",
       "38205                       1  \n",
       "110127                      1  \n",
       "\n",
       "[110128 rows x 2 columns]"
      ]
     },
     "execution_count": 42,
     "metadata": {},
     "output_type": "execute_result"
    }
   ],
   "source": [
    "df_number_of_product_descriptions_group"
   ]
  },
  {
   "cell_type": "code",
   "execution_count": 43,
   "metadata": {},
   "outputs": [],
   "source": [
    "df_number_of_product_descriptions_more_than_one = df_number_of_product_descriptions_group[df_number_of_product_descriptions_group.number_of_product_uid!=1]\n",
    "df_number_of_product_descriptions_more_than_one = df_number_of_product_descriptions_more_than_one.reset_index(drop=True)"
   ]
  },
  {
   "cell_type": "code",
   "execution_count": 44,
   "metadata": {},
   "outputs": [
    {
     "data": {
      "text/html": [
       "<div>\n",
       "<style scoped>\n",
       "    .dataframe tbody tr th:only-of-type {\n",
       "        vertical-align: middle;\n",
       "    }\n",
       "\n",
       "    .dataframe tbody tr th {\n",
       "        vertical-align: top;\n",
       "    }\n",
       "\n",
       "    .dataframe thead th {\n",
       "        text-align: right;\n",
       "    }\n",
       "</style>\n",
       "<table border=\"1\" class=\"dataframe\">\n",
       "  <thead>\n",
       "    <tr style=\"text-align: right;\">\n",
       "      <th></th>\n",
       "      <th>product_description</th>\n",
       "      <th>number_of_product_uid</th>\n",
       "    </tr>\n",
       "  </thead>\n",
       "  <tbody>\n",
       "    <tr>\n",
       "      <th>0</th>\n",
       "      <td>Team spirit by the gallon. With the officially...</td>\n",
       "      <td>43</td>\n",
       "    </tr>\n",
       "    <tr>\n",
       "      <th>1</th>\n",
       "      <td>When making plans for design improvements to t...</td>\n",
       "      <td>42</td>\n",
       "    </tr>\n",
       "    <tr>\n",
       "      <th>2</th>\n",
       "      <td>Glidden DUO formula is more than just a paint....</td>\n",
       "      <td>40</td>\n",
       "    </tr>\n",
       "    <tr>\n",
       "      <th>3</th>\n",
       "      <td>Transform an ordinary kitchen or bathroom into...</td>\n",
       "      <td>40</td>\n",
       "    </tr>\n",
       "    <tr>\n",
       "      <th>4</th>\n",
       "      <td>PVC Sch. 40 fitting that is for pressure syste...</td>\n",
       "      <td>40</td>\n",
       "    </tr>\n",
       "    <tr>\n",
       "      <th>...</th>\n",
       "      <td>...</td>\n",
       "      <td>...</td>\n",
       "    </tr>\n",
       "    <tr>\n",
       "      <th>6176</th>\n",
       "      <td>Made of heavy duty aluminum, newspaper holders...</td>\n",
       "      <td>2</td>\n",
       "    </tr>\n",
       "    <tr>\n",
       "      <th>6177</th>\n",
       "      <td>This distinctive door mat from Entryways' Swee...</td>\n",
       "      <td>2</td>\n",
       "    </tr>\n",
       "    <tr>\n",
       "      <th>6178</th>\n",
       "      <td>Economical floor padding that protects your li...</td>\n",
       "      <td>2</td>\n",
       "    </tr>\n",
       "    <tr>\n",
       "      <th>6179</th>\n",
       "      <td>Plugmold Tamper Resistant offers a safe and co...</td>\n",
       "      <td>2</td>\n",
       "    </tr>\n",
       "    <tr>\n",
       "      <th>6180</th>\n",
       "      <td>All Kenda trailer tires were designed to impro...</td>\n",
       "      <td>2</td>\n",
       "    </tr>\n",
       "  </tbody>\n",
       "</table>\n",
       "<p>6181 rows × 2 columns</p>\n",
       "</div>"
      ],
      "text/plain": [
       "                                    product_description  number_of_product_uid\n",
       "0     Team spirit by the gallon. With the officially...                     43\n",
       "1     When making plans for design improvements to t...                     42\n",
       "2     Glidden DUO formula is more than just a paint....                     40\n",
       "3     Transform an ordinary kitchen or bathroom into...                     40\n",
       "4     PVC Sch. 40 fitting that is for pressure syste...                     40\n",
       "...                                                 ...                    ...\n",
       "6176  Made of heavy duty aluminum, newspaper holders...                      2\n",
       "6177  This distinctive door mat from Entryways' Swee...                      2\n",
       "6178  Economical floor padding that protects your li...                      2\n",
       "6179  Plugmold Tamper Resistant offers a safe and co...                      2\n",
       "6180  All Kenda trailer tires were designed to impro...                      2\n",
       "\n",
       "[6181 rows x 2 columns]"
      ]
     },
     "execution_count": 44,
     "metadata": {},
     "output_type": "execute_result"
    }
   ],
   "source": [
    "df_number_of_product_descriptions_more_than_one"
   ]
  },
  {
   "cell_type": "code",
   "execution_count": 45,
   "metadata": {},
   "outputs": [
    {
     "name": "stderr",
     "output_type": "stream",
     "text": [
      "100%|██████████| 6181/6181 [02:39<00:00, 38.74it/s]\n"
     ]
    }
   ],
   "source": [
    "unique_product_description = df_number_of_product_descriptions_more_than_one.product_description.unique()\n",
    "product_id_li = []\n",
    "for i in tqdm(unique_product_description):\n",
    "    product_uid_with_same_product_descriptions = df_product_descriptions[df_product_descriptions.product_description==i].product_uid\n",
    "    temp_li  = [i for i in product_uid_with_same_product_descriptions]\n",
    "    str1 = ', '.join(str(e) for e in temp_li)\n",
    "    product_id_li.append(str1)"
   ]
  },
  {
   "cell_type": "code",
   "execution_count": 46,
   "metadata": {},
   "outputs": [],
   "source": [
    "df_number_of_product_descriptions_more_than_one['product_uid_with_same_product_description'] = product_id_li"
   ]
  },
  {
   "cell_type": "code",
   "execution_count": 47,
   "metadata": {},
   "outputs": [
    {
     "data": {
      "text/html": [
       "<div>\n",
       "<style scoped>\n",
       "    .dataframe tbody tr th:only-of-type {\n",
       "        vertical-align: middle;\n",
       "    }\n",
       "\n",
       "    .dataframe tbody tr th {\n",
       "        vertical-align: top;\n",
       "    }\n",
       "\n",
       "    .dataframe thead th {\n",
       "        text-align: right;\n",
       "    }\n",
       "</style>\n",
       "<table border=\"1\" class=\"dataframe\">\n",
       "  <thead>\n",
       "    <tr style=\"text-align: right;\">\n",
       "      <th></th>\n",
       "      <th>product_description</th>\n",
       "      <th>number_of_product_uid</th>\n",
       "      <th>product_uid_with_same_product_description</th>\n",
       "    </tr>\n",
       "  </thead>\n",
       "  <tbody>\n",
       "    <tr>\n",
       "      <th>0</th>\n",
       "      <td>Team spirit by the gallon. With the officially...</td>\n",
       "      <td>43</td>\n",
       "      <td>104395, 108527, 110649, 113707, 117694, 122230...</td>\n",
       "    </tr>\n",
       "    <tr>\n",
       "      <th>1</th>\n",
       "      <td>When making plans for design improvements to t...</td>\n",
       "      <td>42</td>\n",
       "      <td>111890, 116639, 120678, 132600, 134091, 134257...</td>\n",
       "    </tr>\n",
       "    <tr>\n",
       "      <th>2</th>\n",
       "      <td>Glidden DUO formula is more than just a paint....</td>\n",
       "      <td>40</td>\n",
       "      <td>108697, 113411, 120670, 131598, 145949, 157483...</td>\n",
       "    </tr>\n",
       "    <tr>\n",
       "      <th>3</th>\n",
       "      <td>Transform an ordinary kitchen or bathroom into...</td>\n",
       "      <td>40</td>\n",
       "      <td>104333, 105535, 110627, 113089, 117217, 117684...</td>\n",
       "    </tr>\n",
       "    <tr>\n",
       "      <th>4</th>\n",
       "      <td>PVC Sch. 40 fitting that is for pressure syste...</td>\n",
       "      <td>40</td>\n",
       "      <td>105479, 105540, 109052, 109754, 109831, 110093...</td>\n",
       "    </tr>\n",
       "    <tr>\n",
       "      <th>...</th>\n",
       "      <td>...</td>\n",
       "      <td>...</td>\n",
       "      <td>...</td>\n",
       "    </tr>\n",
       "    <tr>\n",
       "      <th>6176</th>\n",
       "      <td>Made of heavy duty aluminum, newspaper holders...</td>\n",
       "      <td>2</td>\n",
       "      <td>141827, 167528</td>\n",
       "    </tr>\n",
       "    <tr>\n",
       "      <th>6177</th>\n",
       "      <td>This distinctive door mat from Entryways' Swee...</td>\n",
       "      <td>2</td>\n",
       "      <td>107252, 203820</td>\n",
       "    </tr>\n",
       "    <tr>\n",
       "      <th>6178</th>\n",
       "      <td>Economical floor padding that protects your li...</td>\n",
       "      <td>2</td>\n",
       "      <td>177324, 195360</td>\n",
       "    </tr>\n",
       "    <tr>\n",
       "      <th>6179</th>\n",
       "      <td>Plugmold Tamper Resistant offers a safe and co...</td>\n",
       "      <td>2</td>\n",
       "      <td>153158, 215983</td>\n",
       "    </tr>\n",
       "    <tr>\n",
       "      <th>6180</th>\n",
       "      <td>All Kenda trailer tires were designed to impro...</td>\n",
       "      <td>2</td>\n",
       "      <td>192868, 201103</td>\n",
       "    </tr>\n",
       "  </tbody>\n",
       "</table>\n",
       "<p>6181 rows × 3 columns</p>\n",
       "</div>"
      ],
      "text/plain": [
       "                                    product_description  \\\n",
       "0     Team spirit by the gallon. With the officially...   \n",
       "1     When making plans for design improvements to t...   \n",
       "2     Glidden DUO formula is more than just a paint....   \n",
       "3     Transform an ordinary kitchen or bathroom into...   \n",
       "4     PVC Sch. 40 fitting that is for pressure syste...   \n",
       "...                                                 ...   \n",
       "6176  Made of heavy duty aluminum, newspaper holders...   \n",
       "6177  This distinctive door mat from Entryways' Swee...   \n",
       "6178  Economical floor padding that protects your li...   \n",
       "6179  Plugmold Tamper Resistant offers a safe and co...   \n",
       "6180  All Kenda trailer tires were designed to impro...   \n",
       "\n",
       "      number_of_product_uid          product_uid_with_same_product_description  \n",
       "0                        43  104395, 108527, 110649, 113707, 117694, 122230...  \n",
       "1                        42  111890, 116639, 120678, 132600, 134091, 134257...  \n",
       "2                        40  108697, 113411, 120670, 131598, 145949, 157483...  \n",
       "3                        40  104333, 105535, 110627, 113089, 117217, 117684...  \n",
       "4                        40  105479, 105540, 109052, 109754, 109831, 110093...  \n",
       "...                     ...                                                ...  \n",
       "6176                      2                                     141827, 167528  \n",
       "6177                      2                                     107252, 203820  \n",
       "6178                      2                                     177324, 195360  \n",
       "6179                      2                                     153158, 215983  \n",
       "6180                      2                                     192868, 201103  \n",
       "\n",
       "[6181 rows x 3 columns]"
      ]
     },
     "execution_count": 47,
     "metadata": {},
     "output_type": "execute_result"
    }
   ],
   "source": [
    "df_number_of_product_descriptions_more_than_one"
   ]
  },
  {
   "cell_type": "code",
   "execution_count": 48,
   "metadata": {},
   "outputs": [
    {
     "data": {
      "text/plain": [
       "array(['Glidden Team Colors 1-gal. #NFL-179F NFL Pittsburgh Steelers Dark Blue Flat Interior Paint and Primer'],\n",
       "      dtype=object)"
      ]
     },
     "execution_count": 48,
     "metadata": {},
     "output_type": "execute_result"
    }
   ],
   "source": [
    "df_train[df_train.product_uid==104395].product_title.values"
   ]
  },
  {
   "cell_type": "code",
   "execution_count": 49,
   "metadata": {},
   "outputs": [
    {
     "data": {
      "text/plain": [
       "array(['Glidden Team Colors 1-gal. #NFL-091B NFL New York Giants Red Eggshell Interior Paint and Primer',\n",
       "       'Glidden Team Colors 1-gal. #NFL-091B NFL New York Giants Red Eggshell Interior Paint and Primer'],\n",
       "      dtype=object)"
      ]
     },
     "execution_count": 49,
     "metadata": {},
     "output_type": "execute_result"
    }
   ],
   "source": [
    "df_train[df_train.product_uid==108527].product_title.values"
   ]
  },
  {
   "cell_type": "markdown",
   "metadata": {},
   "source": [
    "<code style=\"background:yellow;color:black\">***It look like same product and brand. Only different color.***</code>"
   ]
  },
  {
   "cell_type": "markdown",
   "metadata": {},
   "source": [
    "## 4. EDA Final Report "
   ]
  },
  {
   "cell_type": "markdown",
   "metadata": {},
   "source": [
    "* ```df_attributes``` has many NaN values.<br>\n",
    "Condition 1: All values are NaN by row.<br>\n",
    "Condition 2: Only ```column value``` is NaN.<br>\n",
    "<br>\n",
    "* ```MFG Brand Name``` has the most frequency in ```df_attributes```. It can be extract to be a importance feature.<br>\n",
    "<br>\n",
    "* Attributes of color-related which have a lot of frequency, and I think it is a great feature for model training.\n",
    "<br>\n",
    "<br>\n",
    "* I find out many products got the same descriptions in ```df_product_descriptions```. I think the reason is going to happen when some similar products.<br>\n",
    "<br>\n"
   ]
  },
  {
   "cell_type": "markdown",
   "metadata": {},
   "source": [
    "<div class=\"alert alert-warning\" role=\"alert\">\n",
    "  <strong>Note!</strong> If you want to convert notebook to html file, you need to save the notebook before. (CTRL+S)\n",
    "</div>"
   ]
  },
  {
   "cell_type": "code",
   "execution_count": 50,
   "metadata": {},
   "outputs": [
    {
     "name": "stderr",
     "output_type": "stream",
     "text": [
      "[NbConvertApp] Converting notebook EDA.ipynb to html\n",
      "[NbConvertApp] Writing 809221 bytes to EDA.html\n"
     ]
    }
   ],
   "source": [
    "!jupyter nbconvert EDA.ipynb --to html"
   ]
  },
  {
   "cell_type": "code",
   "execution_count": null,
   "metadata": {},
   "outputs": [],
   "source": []
  }
 ],
 "metadata": {
  "kernelspec": {
   "display_name": "Python 3",
   "language": "python",
   "name": "python3"
  },
  "language_info": {
   "codemirror_mode": {
    "name": "ipython",
    "version": 3
   },
   "file_extension": ".py",
   "mimetype": "text/x-python",
   "name": "python",
   "nbconvert_exporter": "python",
   "pygments_lexer": "ipython3",
   "version": "3.7.7"
  }
 },
 "nbformat": 4,
 "nbformat_minor": 4
}
